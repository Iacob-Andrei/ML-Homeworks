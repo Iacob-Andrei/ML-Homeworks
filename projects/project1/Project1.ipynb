{
 "cells": [
  {
   "cell_type": "markdown",
   "metadata": {},
   "source": [
    "# Project 1\n",
    "\n",
    "Deadline: 3rd of November 2022\n",
    "\n",
    "To do this project you have to complete this Jupyter notebook and send it via email or Discord.\n",
    "\n",
    "The total number of points allocated for this project is 10."
   ]
  },
  {
   "cell_type": "markdown",
   "metadata": {},
   "source": [
    "You will need the following modules to solve the tasks:"
   ]
  },
  {
   "cell_type": "code",
   "execution_count": 1,
   "metadata": {},
   "outputs": [],
   "source": [
    "import pandas as pd\n",
    "import math\n",
    "import numpy as np\n",
    "from pprint import pprint\n",
    "from sklearn.preprocessing import OneHotEncoder\n",
    "from sklearn import tree\n",
    "import matplotlib.pyplot as plt"
   ]
  },
  {
   "cell_type": "markdown",
   "metadata": {},
   "source": [
    "## I. Probabilities (1 point; 0.05 bonus points per week)"
   ]
  },
  {
   "cell_type": "markdown",
   "metadata": {},
   "source": [
    "We will use the [penguin dataset](https://allisonhorst.github.io/palmerpenguins/articles/intro.html). The purpose is to predict the species of a penguin using multiple features such as its sex, weight, the habitant island etc."
   ]
  },
  {
   "cell_type": "code",
   "execution_count": 2,
   "metadata": {},
   "outputs": [
    {
     "data": {
      "text/html": [
       "<div>\n",
       "<style scoped>\n",
       "    .dataframe tbody tr th:only-of-type {\n",
       "        vertical-align: middle;\n",
       "    }\n",
       "\n",
       "    .dataframe tbody tr th {\n",
       "        vertical-align: top;\n",
       "    }\n",
       "\n",
       "    .dataframe thead th {\n",
       "        text-align: right;\n",
       "    }\n",
       "</style>\n",
       "<table border=\"1\" class=\"dataframe\">\n",
       "  <thead>\n",
       "    <tr style=\"text-align: right;\">\n",
       "      <th></th>\n",
       "      <th>sex</th>\n",
       "      <th>island</th>\n",
       "      <th>bill_length_mm</th>\n",
       "      <th>bill_depth_mm</th>\n",
       "      <th>flipper_length_mm</th>\n",
       "      <th>body_mass_g</th>\n",
       "      <th>species</th>\n",
       "    </tr>\n",
       "  </thead>\n",
       "  <tbody>\n",
       "    <tr>\n",
       "      <th>0</th>\n",
       "      <td>male</td>\n",
       "      <td>Torgersen</td>\n",
       "      <td>39.1</td>\n",
       "      <td>18.7</td>\n",
       "      <td>181.0</td>\n",
       "      <td>3750.0</td>\n",
       "      <td>Adelie</td>\n",
       "    </tr>\n",
       "    <tr>\n",
       "      <th>1</th>\n",
       "      <td>female</td>\n",
       "      <td>Torgersen</td>\n",
       "      <td>39.5</td>\n",
       "      <td>17.4</td>\n",
       "      <td>186.0</td>\n",
       "      <td>3800.0</td>\n",
       "      <td>Adelie</td>\n",
       "    </tr>\n",
       "    <tr>\n",
       "      <th>2</th>\n",
       "      <td>female</td>\n",
       "      <td>Torgersen</td>\n",
       "      <td>40.3</td>\n",
       "      <td>18.0</td>\n",
       "      <td>195.0</td>\n",
       "      <td>3250.0</td>\n",
       "      <td>Adelie</td>\n",
       "    </tr>\n",
       "    <tr>\n",
       "      <th>3</th>\n",
       "      <td>female</td>\n",
       "      <td>Torgersen</td>\n",
       "      <td>36.7</td>\n",
       "      <td>19.3</td>\n",
       "      <td>193.0</td>\n",
       "      <td>3450.0</td>\n",
       "      <td>Adelie</td>\n",
       "    </tr>\n",
       "    <tr>\n",
       "      <th>4</th>\n",
       "      <td>male</td>\n",
       "      <td>Torgersen</td>\n",
       "      <td>39.3</td>\n",
       "      <td>20.6</td>\n",
       "      <td>190.0</td>\n",
       "      <td>3650.0</td>\n",
       "      <td>Adelie</td>\n",
       "    </tr>\n",
       "  </tbody>\n",
       "</table>\n",
       "</div>"
      ],
      "text/plain": [
       "      sex     island  bill_length_mm  bill_depth_mm  flipper_length_mm  \\\n",
       "0    male  Torgersen            39.1           18.7              181.0   \n",
       "1  female  Torgersen            39.5           17.4              186.0   \n",
       "2  female  Torgersen            40.3           18.0              195.0   \n",
       "3  female  Torgersen            36.7           19.3              193.0   \n",
       "4    male  Torgersen            39.3           20.6              190.0   \n",
       "\n",
       "   body_mass_g species  \n",
       "0       3750.0  Adelie  \n",
       "1       3800.0  Adelie  \n",
       "2       3250.0  Adelie  \n",
       "3       3450.0  Adelie  \n",
       "4       3650.0  Adelie  "
      ]
     },
     "execution_count": 2,
     "metadata": {},
     "output_type": "execute_result"
    }
   ],
   "source": [
    "penguin_dataset = pd.read_csv(\"data/penguins_filtered.csv\")\n",
    "penguin_dataset.head()"
   ]
  },
  {
   "cell_type": "markdown",
   "metadata": {},
   "source": [
    "1. Create two variables, `species_values` and `island_values` that will store values of the two random variables \"Species\" and \"Island\". (*Hint*: `numpy.unique`)"
   ]
  },
  {
   "cell_type": "code",
   "execution_count": 3,
   "metadata": {},
   "outputs": [
    {
     "name": "stdout",
     "output_type": "stream",
     "text": [
      "species: ['Adelie' 'Chinstrap' 'Gentoo']\n",
      "islands: ['Biscoe' 'Dream' 'Torgersen']\n"
     ]
    }
   ],
   "source": [
    "# solution here\n",
    "species_values = np.unique(penguin_dataset['species'])\n",
    "island_values = np.unique(penguin_dataset['island'])\n",
    "print(\"species:\",species_values)\n",
    "print(\"islands:\", island_values)"
   ]
  },
  {
   "cell_type": "markdown",
   "metadata": {},
   "source": [
    "2. Calculate the PMF of the two random variables."
   ]
  },
  {
   "cell_type": "code",
   "execution_count": 4,
   "metadata": {},
   "outputs": [
    {
     "name": "stdout",
     "output_type": "stream",
     "text": [
      "[('Adelie', 146), ('Chinstrap', 68), ('Gentoo', 119)]\n",
      "[0.43843843843843844, 0.2042042042042042, 0.35735735735735735]\n",
      "[('Biscoe', 163), ('Dream', 123), ('Torgersen', 47)]\n",
      "[0.4894894894894895, 0.36936936936936937, 0.14114114114114115]\n"
     ]
    }
   ],
   "source": [
    "# solution here\n",
    "x = list()\n",
    "for spe in species_values:\n",
    "    x.append((spe, list(penguin_dataset['species']).count(spe)))\n",
    "y = list()\n",
    "for island in island_values:\n",
    "    y.append((island, list(penguin_dataset['island']).count(island)))\n",
    "\n",
    "pmf_x = [(spe[1]/len(penguin_dataset['species'])) for spe in x]\n",
    "print(x)\n",
    "print(pmf_x)\n",
    "pmf_y = [(isl[1]/len(penguin_dataset['island'])) for isl in y]\n",
    "print(y)\n",
    "print(pmf_y)\n"
   ]
  },
  {
   "cell_type": "markdown",
   "metadata": {},
   "source": [
    "3. We know that $P(Species = Gentoo, Island = Dream) = 0.20$ and $P(Species = Gentoo, Island = Torgersen) = 0.05735735$. Knowing that the penguin is from the Biscoe island, what is the probability that its species is Gentoo? (*Hint*: the formula of conditional probability and the law of total probability for multiple events)"
   ]
  },
  {
   "cell_type": "code",
   "execution_count": 5,
   "metadata": {},
   "outputs": [
    {
     "name": "stdout",
     "output_type": "stream",
     "text": [
      "P( S = Gentoo, T = Biscoe) =  0.1\n",
      "0.20429447852760738\n"
     ]
    }
   ],
   "source": [
    "# solution here\n",
    "p_gentoo_dream = 0.2\n",
    "p_gentoo_torgersen = 0.05735735\n",
    "\n",
    "# ex anterior\n",
    "p_gentoo = 0.35735735\n",
    "p_biscoe = 0.4894894894894895\n",
    "# P(gentoo,biscoe) = ??\n",
    "# P(S = gentoo) = P(gentoo|dream)*P(dream) + P(gentoo|torgersen)*P(torgersen) + P(gentoo|bisoe)+P(biscoe)\n",
    "\n",
    "# P(A,B) = P(A|B)*P(B)\n",
    "# P(S = gentoo) = P(gentoo,dream) + P(gentoo, torgersen) + P(gentoo, biscoe)\n",
    "# => P(gentoo, biscoe) = P(S = gentoo) - P(gentoo,dream) - P(gentoo, torgersen)\n",
    "\n",
    "p_gentoo_biscoe = p_gentoo - p_gentoo_dream - p_gentoo_torgersen\n",
    "p_g_b = p_gentoo_biscoe / p_biscoe  # p(GENTOO|BISCOE)\n",
    "print(\"P( S = Gentoo, T = Biscoe) = \",p_gentoo_biscoe)\n",
    "print(p_g_b)"
   ]
  },
  {
   "cell_type": "markdown",
   "metadata": {},
   "source": [
    "4. Calculate the average body mass of the penguins."
   ]
  },
  {
   "cell_type": "code",
   "execution_count": 6,
   "metadata": {},
   "outputs": [
    {
     "name": "stdout",
     "output_type": "stream",
     "text": [
      "E_mass = 4207.057057057059 grams\n"
     ]
    }
   ],
   "source": [
    "# solution here\n",
    "mass_values = np.unique(penguin_dataset['body_mass_g'])\n",
    "\n",
    "x_mass = list()\n",
    "for mass in mass_values:\n",
    "    x_mass.append((mass, list(penguin_dataset['body_mass_g']).count(mass)))\n",
    "\n",
    "pmf_mass = [(mass[1]/len(penguin_dataset['body_mass_g'])) for mass in x_mass]\n",
    "\n",
    "e_mass = 0\n",
    "for i, mass in enumerate(mass_values):\n",
    "    e_mass += mass_values[i] * pmf_mass[i]\n",
    "\n",
    "print(\"E_mass =\", e_mass, \"grams\")\n"
   ]
  },
  {
   "cell_type": "markdown",
   "metadata": {},
   "source": [
    "5. Calculate the variance of the distribution of penguins body mass."
   ]
  },
  {
   "cell_type": "code",
   "execution_count": 7,
   "metadata": {},
   "outputs": [
    {
     "name": "stdout",
     "output_type": "stream",
     "text": [
      "Var_mass = 646425.4231709188\n"
     ]
    }
   ],
   "source": [
    "# solution here\n",
    "var_mass = 0\n",
    "for i, mass in enumerate(mass_values):\n",
    "    var_mass += (mass - e_mass) ** 2 * pmf_mass[i]\n",
    "\n",
    "print(\"Var_mass =\", var_mass)"
   ]
  },
  {
   "cell_type": "markdown",
   "metadata": {},
   "source": [
    "## II. Entropy (2.5 points; bonus 0.1 per week)"
   ]
  },
  {
   "cell_type": "markdown",
   "metadata": {},
   "source": [
    "1. Create a function, `generate_probabilities`, that will take the observations of a discrete random variable and create the vector of probabilities that describe the PMF."
   ]
  },
  {
   "cell_type": "code",
   "execution_count": 8,
   "metadata": {},
   "outputs": [
    {
     "name": "stdout",
     "output_type": "stream",
     "text": [
      "[0.4, 0.6]\n"
     ]
    }
   ],
   "source": [
    "\"\"\"\n",
    "Example: generate_probabilities([1,1,0,0,1,1,0,0,1,1]) should return [0.4, 0.6]\n",
    "0.4 indicates P(X=0) and 0.6 P(X=1)\n",
    "\n",
    "\"\"\"\n",
    "def generate_probabilities(observations):\n",
    "    observations.sort()\n",
    "    x_values = np.unique(observations)\n",
    "    pmf_x = [ (observations.count(value) / len(observations)) for value in x_values]\n",
    "    return pmf_x\n",
    "\n",
    "\n",
    "print(generate_probabilities([1,1,0,0,1,1,0,0,1,1]))"
   ]
  },
  {
   "cell_type": "markdown",
   "metadata": {},
   "source": [
    "2. Create a variable `pmf_species` that will store the probabilities for the target attribute \"species\" from the penguin dataset using the function from ex.1. "
   ]
  },
  {
   "cell_type": "code",
   "execution_count": 9,
   "metadata": {},
   "outputs": [
    {
     "name": "stdout",
     "output_type": "stream",
     "text": [
      "[0.43843843843843844, 0.2042042042042042, 0.35735735735735735]\n"
     ]
    }
   ],
   "source": [
    "# solution here\n",
    "pmf_species = generate_probabilities(list(penguin_dataset['species']))\n",
    "print(pmf_species)"
   ]
  },
  {
   "cell_type": "markdown",
   "metadata": {},
   "source": [
    "3. Create a function `calculate_entropy` that will take as argument the pmf of a discrete random variable and return its entropy. (*Hint*: use `math.log2` to calculate logarithms)"
   ]
  },
  {
   "cell_type": "code",
   "execution_count": 10,
   "metadata": {},
   "outputs": [],
   "source": [
    "# be careful at the cases where a probability is 0\n",
    "def calculate_entropy(probabilities):\n",
    "    logarithms = lambda x: 0 if x == 0 else math.log2(x)\n",
    "    return -sum(prob*logarithms(prob) for prob in probabilities)"
   ]
  },
  {
   "cell_type": "markdown",
   "metadata": {},
   "source": [
    "4. Create a variable `total_entropy_species` that will store the entropy of the target attribute \"species\"."
   ]
  },
  {
   "cell_type": "code",
   "execution_count": 11,
   "metadata": {},
   "outputs": [
    {
     "name": "stdout",
     "output_type": "stream",
     "text": [
      "1.5200835543530915\n"
     ]
    }
   ],
   "source": [
    "# solution here\n",
    "total_entropy_species = calculate_entropy( generate_probabilities( list(penguin_dataset['species'] ) ) )\n",
    "print(total_entropy_species)"
   ]
  },
  {
   "cell_type": "markdown",
   "metadata": {},
   "source": [
    "5. Create a function `calculate_conditional_entropy` that will calculate the average conditionally entropy $H(X|Y)$. The function takes three arguments: the dataset containing the observations, the feature that describes the discrete random variable $Y$ and the feature that describes the discrete random variables $X$.\n",
    "\n",
    "*Hint*:\n",
    "- iterate through every unique value of Y; for each value you should\n",
    "    - calculate the probability of that value\n",
    "    - filter the dataset to keep only that value for Y\n",
    "    - calculate the specific conditional entropy $H(X|Y=val)$\n"
   ]
  },
  {
   "cell_type": "code",
   "execution_count": 12,
   "metadata": {},
   "outputs": [],
   "source": [
    "def calculate_conditional_entropy(dataset, feature, target_feature):\n",
    "    prob_target = generate_probabilities( list(dataset[target_feature]) )\n",
    "\n",
    "    # for target in np.unique(dataset[target_feature]):\n",
    "    #     print(f\"p({target}) * H({feature}|Y={target}) = \")\n",
    "    #     for ftr in np.unique(dataset[feature]):\n",
    "    #         print(f\"\\th(X={ftr}|Y={target})\")\n",
    "    #     print(\"**********************************\")\n",
    "\n",
    "    h_feature_target = 0\n",
    "    for i, target in enumerate(np.unique(dataset[target_feature])):\n",
    "        # filter Y, use only lines with y = target\n",
    "        filtret_x = list()\n",
    "        for k in range(0, len( dataset[target_feature] )):\n",
    "            # print(dataset[target_feature])\n",
    "            if dataset[target_feature][k] == target:\n",
    "                filtret_x.append( dataset[feature][k] )\n",
    "\n",
    "        prob_feat_y_target = list()\n",
    "        for j, ftr in enumerate(np.unique(dataset[feature])):\n",
    "            # count lines with x = ftr\n",
    "            count = filtret_x.count(ftr) \n",
    "            # add probab to prob_feat_y_target\n",
    "            prob_feat_y_target.append(count/len(filtret_x))\n",
    "\n",
    "        h_feat_y_target = calculate_entropy(prob_feat_y_target)\n",
    "        h_feature_target += h_feat_y_target * prob_target[i]\n",
    "    \n",
    "    return h_feature_target\n",
    "\n",
    "\n",
    "# calculate_conditional_entropy(penguin_dataset, \"species\", \"island\")"
   ]
  },
  {
   "cell_type": "markdown",
   "metadata": {},
   "source": [
    "6. Create a function `calculate_information_gain` that will calculate the information gain $IG(H;Y)$ using the its definition and the functions `calculate_entropy` and `calculate_conditional_entropy`. The arguments are the same as in the `calculate_conditional_entropy` function."
   ]
  },
  {
   "cell_type": "code",
   "execution_count": 13,
   "metadata": {},
   "outputs": [],
   "source": [
    "def calculate_information_gain(dataset, feature, target_feature):\n",
    "    h_feature = calculate_entropy( generate_probabilities(list(dataset[feature])) )\n",
    "    h_feature_target = calculate_conditional_entropy(dataset, feature, target_feature)\n",
    "\n",
    "    return h_feature - h_feature_target"
   ]
  },
  {
   "cell_type": "markdown",
   "metadata": {},
   "source": [
    "7. Calculate the information gains $IG(species;island)$ and $IG(species;sex)$."
   ]
  },
  {
   "cell_type": "code",
   "execution_count": 14,
   "metadata": {},
   "outputs": [
    {
     "name": "stdout",
     "output_type": "stream",
     "text": [
      "IG(species,island) = 0.7418510895067658\n",
      "IG(species,sex) = 0.00010530129858565829\n"
     ]
    }
   ],
   "source": [
    "# solution here\n",
    "print(\"IG(species,island) =\", calculate_information_gain(penguin_dataset, \"species\", \"island\"))\n",
    "print(\"IG(species,sex) =\", calculate_information_gain(penguin_dataset, \"species\", \"sex\"))"
   ]
  },
  {
   "cell_type": "markdown",
   "metadata": {},
   "source": [
    "8. Based on the results, which of the attributes \"sex\" and \"island\" achieve a more qualitative separation of the \"species\" target attribute?"
   ]
  },
  {
   "cell_type": "markdown",
   "metadata": {},
   "source": [
    "*Answer here:* \n",
    "Deoarece IG(species,island) > IG(species,sex), intelegem ca atributul \"island\" ne ofera o separare mult mai amanuntita a speciilor datorita castigului de informatie mare. Cunoscand atributul \"island\", determinarea speciei este mai usoara."
   ]
  },
  {
   "cell_type": "markdown",
   "metadata": {},
   "source": [
    "## III. Decision Tree - the discrete case (3.5 points; bonus 0.15 per week)"
   ]
  },
  {
   "cell_type": "markdown",
   "metadata": {},
   "source": [
    "1. Before running the ID3 algorihtm, we must quantify all the random variables. Quantify the \"Species\" target attribute using this following mapping: Adelie - 1, Chinstrap - 2, Gentoo - 3. (*Hint* check Panda's `replace` function.)"
   ]
  },
  {
   "cell_type": "code",
   "execution_count": 15,
   "metadata": {},
   "outputs": [
    {
     "data": {
      "text/html": [
       "<div>\n",
       "<style scoped>\n",
       "    .dataframe tbody tr th:only-of-type {\n",
       "        vertical-align: middle;\n",
       "    }\n",
       "\n",
       "    .dataframe tbody tr th {\n",
       "        vertical-align: top;\n",
       "    }\n",
       "\n",
       "    .dataframe thead th {\n",
       "        text-align: right;\n",
       "    }\n",
       "</style>\n",
       "<table border=\"1\" class=\"dataframe\">\n",
       "  <thead>\n",
       "    <tr style=\"text-align: right;\">\n",
       "      <th></th>\n",
       "      <th>sex</th>\n",
       "      <th>island</th>\n",
       "      <th>bill_length_mm</th>\n",
       "      <th>bill_depth_mm</th>\n",
       "      <th>flipper_length_mm</th>\n",
       "      <th>body_mass_g</th>\n",
       "      <th>species</th>\n",
       "    </tr>\n",
       "  </thead>\n",
       "  <tbody>\n",
       "    <tr>\n",
       "      <th>0</th>\n",
       "      <td>male</td>\n",
       "      <td>Torgersen</td>\n",
       "      <td>39.1</td>\n",
       "      <td>18.7</td>\n",
       "      <td>181.0</td>\n",
       "      <td>3750.0</td>\n",
       "      <td>1</td>\n",
       "    </tr>\n",
       "    <tr>\n",
       "      <th>1</th>\n",
       "      <td>female</td>\n",
       "      <td>Torgersen</td>\n",
       "      <td>39.5</td>\n",
       "      <td>17.4</td>\n",
       "      <td>186.0</td>\n",
       "      <td>3800.0</td>\n",
       "      <td>1</td>\n",
       "    </tr>\n",
       "    <tr>\n",
       "      <th>2</th>\n",
       "      <td>female</td>\n",
       "      <td>Torgersen</td>\n",
       "      <td>40.3</td>\n",
       "      <td>18.0</td>\n",
       "      <td>195.0</td>\n",
       "      <td>3250.0</td>\n",
       "      <td>1</td>\n",
       "    </tr>\n",
       "    <tr>\n",
       "      <th>3</th>\n",
       "      <td>female</td>\n",
       "      <td>Torgersen</td>\n",
       "      <td>36.7</td>\n",
       "      <td>19.3</td>\n",
       "      <td>193.0</td>\n",
       "      <td>3450.0</td>\n",
       "      <td>1</td>\n",
       "    </tr>\n",
       "    <tr>\n",
       "      <th>4</th>\n",
       "      <td>male</td>\n",
       "      <td>Torgersen</td>\n",
       "      <td>39.3</td>\n",
       "      <td>20.6</td>\n",
       "      <td>190.0</td>\n",
       "      <td>3650.0</td>\n",
       "      <td>1</td>\n",
       "    </tr>\n",
       "    <tr>\n",
       "      <th>...</th>\n",
       "      <td>...</td>\n",
       "      <td>...</td>\n",
       "      <td>...</td>\n",
       "      <td>...</td>\n",
       "      <td>...</td>\n",
       "      <td>...</td>\n",
       "      <td>...</td>\n",
       "    </tr>\n",
       "    <tr>\n",
       "      <th>328</th>\n",
       "      <td>male</td>\n",
       "      <td>Dream</td>\n",
       "      <td>55.8</td>\n",
       "      <td>19.8</td>\n",
       "      <td>207.0</td>\n",
       "      <td>4000.0</td>\n",
       "      <td>2</td>\n",
       "    </tr>\n",
       "    <tr>\n",
       "      <th>329</th>\n",
       "      <td>female</td>\n",
       "      <td>Dream</td>\n",
       "      <td>43.5</td>\n",
       "      <td>18.1</td>\n",
       "      <td>202.0</td>\n",
       "      <td>3400.0</td>\n",
       "      <td>2</td>\n",
       "    </tr>\n",
       "    <tr>\n",
       "      <th>330</th>\n",
       "      <td>male</td>\n",
       "      <td>Dream</td>\n",
       "      <td>49.6</td>\n",
       "      <td>18.2</td>\n",
       "      <td>193.0</td>\n",
       "      <td>3775.0</td>\n",
       "      <td>2</td>\n",
       "    </tr>\n",
       "    <tr>\n",
       "      <th>331</th>\n",
       "      <td>male</td>\n",
       "      <td>Dream</td>\n",
       "      <td>50.8</td>\n",
       "      <td>19.0</td>\n",
       "      <td>210.0</td>\n",
       "      <td>4100.0</td>\n",
       "      <td>2</td>\n",
       "    </tr>\n",
       "    <tr>\n",
       "      <th>332</th>\n",
       "      <td>female</td>\n",
       "      <td>Dream</td>\n",
       "      <td>50.2</td>\n",
       "      <td>18.7</td>\n",
       "      <td>198.0</td>\n",
       "      <td>3775.0</td>\n",
       "      <td>2</td>\n",
       "    </tr>\n",
       "  </tbody>\n",
       "</table>\n",
       "<p>333 rows × 7 columns</p>\n",
       "</div>"
      ],
      "text/plain": [
       "        sex     island  bill_length_mm  bill_depth_mm  flipper_length_mm  \\\n",
       "0      male  Torgersen            39.1           18.7              181.0   \n",
       "1    female  Torgersen            39.5           17.4              186.0   \n",
       "2    female  Torgersen            40.3           18.0              195.0   \n",
       "3    female  Torgersen            36.7           19.3              193.0   \n",
       "4      male  Torgersen            39.3           20.6              190.0   \n",
       "..      ...        ...             ...            ...                ...   \n",
       "328    male      Dream            55.8           19.8              207.0   \n",
       "329  female      Dream            43.5           18.1              202.0   \n",
       "330    male      Dream            49.6           18.2              193.0   \n",
       "331    male      Dream            50.8           19.0              210.0   \n",
       "332  female      Dream            50.2           18.7              198.0   \n",
       "\n",
       "     body_mass_g  species  \n",
       "0         3750.0        1  \n",
       "1         3800.0        1  \n",
       "2         3250.0        1  \n",
       "3         3450.0        1  \n",
       "4         3650.0        1  \n",
       "..           ...      ...  \n",
       "328       4000.0        2  \n",
       "329       3400.0        2  \n",
       "330       3775.0        2  \n",
       "331       4100.0        2  \n",
       "332       3775.0        2  \n",
       "\n",
       "[333 rows x 7 columns]"
      ]
     },
     "execution_count": 15,
     "metadata": {},
     "output_type": "execute_result"
    }
   ],
   "source": [
    "#solution here\n",
    "\n",
    "penguin_dataset.replace({'Adelie': 1, 'Chinstrap': 2, 'Gentoo': 3}, inplace=True)\n",
    "penguin_dataset"
   ]
  },
  {
   "cell_type": "markdown",
   "metadata": {},
   "source": [
    "2. Using OneHot Encoders, convert the features \"sex\" and \"island\" to numerical values. You should add the new columns at the beginning of the table and remove the old ones. (*Hint*: check Panda's `drop` method to remove a column.)"
   ]
  },
  {
   "cell_type": "code",
   "execution_count": 16,
   "metadata": {},
   "outputs": [
    {
     "data": {
      "text/html": [
       "<div>\n",
       "<style scoped>\n",
       "    .dataframe tbody tr th:only-of-type {\n",
       "        vertical-align: middle;\n",
       "    }\n",
       "\n",
       "    .dataframe tbody tr th {\n",
       "        vertical-align: top;\n",
       "    }\n",
       "\n",
       "    .dataframe thead th {\n",
       "        text-align: right;\n",
       "    }\n",
       "</style>\n",
       "<table border=\"1\" class=\"dataframe\">\n",
       "  <thead>\n",
       "    <tr style=\"text-align: right;\">\n",
       "      <th></th>\n",
       "      <th>female</th>\n",
       "      <th>male</th>\n",
       "      <th>Biscoe</th>\n",
       "      <th>Dream</th>\n",
       "      <th>Torgersen</th>\n",
       "      <th>bill_length_mm</th>\n",
       "      <th>bill_depth_mm</th>\n",
       "      <th>flipper_length_mm</th>\n",
       "      <th>body_mass_g</th>\n",
       "      <th>species</th>\n",
       "    </tr>\n",
       "  </thead>\n",
       "  <tbody>\n",
       "    <tr>\n",
       "      <th>0</th>\n",
       "      <td>0.0</td>\n",
       "      <td>1.0</td>\n",
       "      <td>0.0</td>\n",
       "      <td>0.0</td>\n",
       "      <td>1.0</td>\n",
       "      <td>39.1</td>\n",
       "      <td>18.7</td>\n",
       "      <td>181.0</td>\n",
       "      <td>3750.0</td>\n",
       "      <td>1</td>\n",
       "    </tr>\n",
       "    <tr>\n",
       "      <th>1</th>\n",
       "      <td>1.0</td>\n",
       "      <td>0.0</td>\n",
       "      <td>0.0</td>\n",
       "      <td>0.0</td>\n",
       "      <td>1.0</td>\n",
       "      <td>39.5</td>\n",
       "      <td>17.4</td>\n",
       "      <td>186.0</td>\n",
       "      <td>3800.0</td>\n",
       "      <td>1</td>\n",
       "    </tr>\n",
       "    <tr>\n",
       "      <th>2</th>\n",
       "      <td>1.0</td>\n",
       "      <td>0.0</td>\n",
       "      <td>0.0</td>\n",
       "      <td>0.0</td>\n",
       "      <td>1.0</td>\n",
       "      <td>40.3</td>\n",
       "      <td>18.0</td>\n",
       "      <td>195.0</td>\n",
       "      <td>3250.0</td>\n",
       "      <td>1</td>\n",
       "    </tr>\n",
       "    <tr>\n",
       "      <th>3</th>\n",
       "      <td>1.0</td>\n",
       "      <td>0.0</td>\n",
       "      <td>0.0</td>\n",
       "      <td>0.0</td>\n",
       "      <td>1.0</td>\n",
       "      <td>36.7</td>\n",
       "      <td>19.3</td>\n",
       "      <td>193.0</td>\n",
       "      <td>3450.0</td>\n",
       "      <td>1</td>\n",
       "    </tr>\n",
       "    <tr>\n",
       "      <th>4</th>\n",
       "      <td>0.0</td>\n",
       "      <td>1.0</td>\n",
       "      <td>0.0</td>\n",
       "      <td>0.0</td>\n",
       "      <td>1.0</td>\n",
       "      <td>39.3</td>\n",
       "      <td>20.6</td>\n",
       "      <td>190.0</td>\n",
       "      <td>3650.0</td>\n",
       "      <td>1</td>\n",
       "    </tr>\n",
       "    <tr>\n",
       "      <th>...</th>\n",
       "      <td>...</td>\n",
       "      <td>...</td>\n",
       "      <td>...</td>\n",
       "      <td>...</td>\n",
       "      <td>...</td>\n",
       "      <td>...</td>\n",
       "      <td>...</td>\n",
       "      <td>...</td>\n",
       "      <td>...</td>\n",
       "      <td>...</td>\n",
       "    </tr>\n",
       "    <tr>\n",
       "      <th>328</th>\n",
       "      <td>0.0</td>\n",
       "      <td>1.0</td>\n",
       "      <td>0.0</td>\n",
       "      <td>1.0</td>\n",
       "      <td>0.0</td>\n",
       "      <td>55.8</td>\n",
       "      <td>19.8</td>\n",
       "      <td>207.0</td>\n",
       "      <td>4000.0</td>\n",
       "      <td>2</td>\n",
       "    </tr>\n",
       "    <tr>\n",
       "      <th>329</th>\n",
       "      <td>1.0</td>\n",
       "      <td>0.0</td>\n",
       "      <td>0.0</td>\n",
       "      <td>1.0</td>\n",
       "      <td>0.0</td>\n",
       "      <td>43.5</td>\n",
       "      <td>18.1</td>\n",
       "      <td>202.0</td>\n",
       "      <td>3400.0</td>\n",
       "      <td>2</td>\n",
       "    </tr>\n",
       "    <tr>\n",
       "      <th>330</th>\n",
       "      <td>0.0</td>\n",
       "      <td>1.0</td>\n",
       "      <td>0.0</td>\n",
       "      <td>1.0</td>\n",
       "      <td>0.0</td>\n",
       "      <td>49.6</td>\n",
       "      <td>18.2</td>\n",
       "      <td>193.0</td>\n",
       "      <td>3775.0</td>\n",
       "      <td>2</td>\n",
       "    </tr>\n",
       "    <tr>\n",
       "      <th>331</th>\n",
       "      <td>0.0</td>\n",
       "      <td>1.0</td>\n",
       "      <td>0.0</td>\n",
       "      <td>1.0</td>\n",
       "      <td>0.0</td>\n",
       "      <td>50.8</td>\n",
       "      <td>19.0</td>\n",
       "      <td>210.0</td>\n",
       "      <td>4100.0</td>\n",
       "      <td>2</td>\n",
       "    </tr>\n",
       "    <tr>\n",
       "      <th>332</th>\n",
       "      <td>1.0</td>\n",
       "      <td>0.0</td>\n",
       "      <td>0.0</td>\n",
       "      <td>1.0</td>\n",
       "      <td>0.0</td>\n",
       "      <td>50.2</td>\n",
       "      <td>18.7</td>\n",
       "      <td>198.0</td>\n",
       "      <td>3775.0</td>\n",
       "      <td>2</td>\n",
       "    </tr>\n",
       "  </tbody>\n",
       "</table>\n",
       "<p>333 rows × 10 columns</p>\n",
       "</div>"
      ],
      "text/plain": [
       "     female  male  Biscoe  Dream  Torgersen  bill_length_mm  bill_depth_mm  \\\n",
       "0       0.0   1.0     0.0    0.0        1.0            39.1           18.7   \n",
       "1       1.0   0.0     0.0    0.0        1.0            39.5           17.4   \n",
       "2       1.0   0.0     0.0    0.0        1.0            40.3           18.0   \n",
       "3       1.0   0.0     0.0    0.0        1.0            36.7           19.3   \n",
       "4       0.0   1.0     0.0    0.0        1.0            39.3           20.6   \n",
       "..      ...   ...     ...    ...        ...             ...            ...   \n",
       "328     0.0   1.0     0.0    1.0        0.0            55.8           19.8   \n",
       "329     1.0   0.0     0.0    1.0        0.0            43.5           18.1   \n",
       "330     0.0   1.0     0.0    1.0        0.0            49.6           18.2   \n",
       "331     0.0   1.0     0.0    1.0        0.0            50.8           19.0   \n",
       "332     1.0   0.0     0.0    1.0        0.0            50.2           18.7   \n",
       "\n",
       "     flipper_length_mm  body_mass_g  species  \n",
       "0                181.0       3750.0        1  \n",
       "1                186.0       3800.0        1  \n",
       "2                195.0       3250.0        1  \n",
       "3                193.0       3450.0        1  \n",
       "4                190.0       3650.0        1  \n",
       "..                 ...          ...      ...  \n",
       "328              207.0       4000.0        2  \n",
       "329              202.0       3400.0        2  \n",
       "330              193.0       3775.0        2  \n",
       "331              210.0       4100.0        2  \n",
       "332              198.0       3775.0        2  \n",
       "\n",
       "[333 rows x 10 columns]"
      ]
     },
     "execution_count": 16,
     "metadata": {},
     "output_type": "execute_result"
    }
   ],
   "source": [
    "# solution here\n",
    "from sklearn.preprocessing import OneHotEncoder\n",
    "import numpy as np\n",
    "\n",
    "features = [\"sex\", \"island\"]\n",
    "enc = OneHotEncoder(sparse=False).fit(penguin_dataset[features])\n",
    "new_features = pd.DataFrame(enc.transform(penguin_dataset[features]),\n",
    "                            columns=np.hstack(enc.categories_))\n",
    "\n",
    "penguin_dataset = penguin_dataset.drop(columns=['sex', 'island'])\n",
    "penguin_dataset = pd.concat([new_features, penguin_dataset], axis=1)\n",
    "penguin_dataset"
   ]
  },
  {
   "cell_type": "markdown",
   "metadata": {},
   "source": [
    "3. For this discrete case we need only the discrete features. Filter the pandas dataframe and keep only the discrete columns (there should 6 of them). Keep the filtered dataset in a new variable, named `discrete_penguin_dataset`."
   ]
  },
  {
   "cell_type": "code",
   "execution_count": 17,
   "metadata": {},
   "outputs": [
    {
     "data": {
      "text/html": [
       "<div>\n",
       "<style scoped>\n",
       "    .dataframe tbody tr th:only-of-type {\n",
       "        vertical-align: middle;\n",
       "    }\n",
       "\n",
       "    .dataframe tbody tr th {\n",
       "        vertical-align: top;\n",
       "    }\n",
       "\n",
       "    .dataframe thead th {\n",
       "        text-align: right;\n",
       "    }\n",
       "</style>\n",
       "<table border=\"1\" class=\"dataframe\">\n",
       "  <thead>\n",
       "    <tr style=\"text-align: right;\">\n",
       "      <th></th>\n",
       "      <th>female</th>\n",
       "      <th>male</th>\n",
       "      <th>Biscoe</th>\n",
       "      <th>Dream</th>\n",
       "      <th>Torgersen</th>\n",
       "      <th>species</th>\n",
       "    </tr>\n",
       "  </thead>\n",
       "  <tbody>\n",
       "    <tr>\n",
       "      <th>0</th>\n",
       "      <td>0.0</td>\n",
       "      <td>1.0</td>\n",
       "      <td>0.0</td>\n",
       "      <td>0.0</td>\n",
       "      <td>1.0</td>\n",
       "      <td>1</td>\n",
       "    </tr>\n",
       "    <tr>\n",
       "      <th>1</th>\n",
       "      <td>1.0</td>\n",
       "      <td>0.0</td>\n",
       "      <td>0.0</td>\n",
       "      <td>0.0</td>\n",
       "      <td>1.0</td>\n",
       "      <td>1</td>\n",
       "    </tr>\n",
       "    <tr>\n",
       "      <th>2</th>\n",
       "      <td>1.0</td>\n",
       "      <td>0.0</td>\n",
       "      <td>0.0</td>\n",
       "      <td>0.0</td>\n",
       "      <td>1.0</td>\n",
       "      <td>1</td>\n",
       "    </tr>\n",
       "    <tr>\n",
       "      <th>3</th>\n",
       "      <td>1.0</td>\n",
       "      <td>0.0</td>\n",
       "      <td>0.0</td>\n",
       "      <td>0.0</td>\n",
       "      <td>1.0</td>\n",
       "      <td>1</td>\n",
       "    </tr>\n",
       "    <tr>\n",
       "      <th>4</th>\n",
       "      <td>0.0</td>\n",
       "      <td>1.0</td>\n",
       "      <td>0.0</td>\n",
       "      <td>0.0</td>\n",
       "      <td>1.0</td>\n",
       "      <td>1</td>\n",
       "    </tr>\n",
       "    <tr>\n",
       "      <th>...</th>\n",
       "      <td>...</td>\n",
       "      <td>...</td>\n",
       "      <td>...</td>\n",
       "      <td>...</td>\n",
       "      <td>...</td>\n",
       "      <td>...</td>\n",
       "    </tr>\n",
       "    <tr>\n",
       "      <th>328</th>\n",
       "      <td>0.0</td>\n",
       "      <td>1.0</td>\n",
       "      <td>0.0</td>\n",
       "      <td>1.0</td>\n",
       "      <td>0.0</td>\n",
       "      <td>2</td>\n",
       "    </tr>\n",
       "    <tr>\n",
       "      <th>329</th>\n",
       "      <td>1.0</td>\n",
       "      <td>0.0</td>\n",
       "      <td>0.0</td>\n",
       "      <td>1.0</td>\n",
       "      <td>0.0</td>\n",
       "      <td>2</td>\n",
       "    </tr>\n",
       "    <tr>\n",
       "      <th>330</th>\n",
       "      <td>0.0</td>\n",
       "      <td>1.0</td>\n",
       "      <td>0.0</td>\n",
       "      <td>1.0</td>\n",
       "      <td>0.0</td>\n",
       "      <td>2</td>\n",
       "    </tr>\n",
       "    <tr>\n",
       "      <th>331</th>\n",
       "      <td>0.0</td>\n",
       "      <td>1.0</td>\n",
       "      <td>0.0</td>\n",
       "      <td>1.0</td>\n",
       "      <td>0.0</td>\n",
       "      <td>2</td>\n",
       "    </tr>\n",
       "    <tr>\n",
       "      <th>332</th>\n",
       "      <td>1.0</td>\n",
       "      <td>0.0</td>\n",
       "      <td>0.0</td>\n",
       "      <td>1.0</td>\n",
       "      <td>0.0</td>\n",
       "      <td>2</td>\n",
       "    </tr>\n",
       "  </tbody>\n",
       "</table>\n",
       "<p>333 rows × 6 columns</p>\n",
       "</div>"
      ],
      "text/plain": [
       "     female  male  Biscoe  Dream  Torgersen  species\n",
       "0       0.0   1.0     0.0    0.0        1.0        1\n",
       "1       1.0   0.0     0.0    0.0        1.0        1\n",
       "2       1.0   0.0     0.0    0.0        1.0        1\n",
       "3       1.0   0.0     0.0    0.0        1.0        1\n",
       "4       0.0   1.0     0.0    0.0        1.0        1\n",
       "..      ...   ...     ...    ...        ...      ...\n",
       "328     0.0   1.0     0.0    1.0        0.0        2\n",
       "329     1.0   0.0     0.0    1.0        0.0        2\n",
       "330     0.0   1.0     0.0    1.0        0.0        2\n",
       "331     0.0   1.0     0.0    1.0        0.0        2\n",
       "332     1.0   0.0     0.0    1.0        0.0        2\n",
       "\n",
       "[333 rows x 6 columns]"
      ]
     },
     "execution_count": 17,
     "metadata": {},
     "output_type": "execute_result"
    }
   ],
   "source": [
    "#solution here\n",
    "# check for unique nr of values\n",
    "\n",
    "discrete_penguin_dataset = penguin_dataset\n",
    "\n",
    "for value in penguin_dataset:\n",
    "    if len(np.unique(penguin_dataset[value])) > 3:\n",
    "        discrete_penguin_dataset = discrete_penguin_dataset.drop(value, axis=1)\n",
    "\n",
    "discrete_penguin_dataset\n"
   ]
  },
  {
   "cell_type": "markdown",
   "metadata": {},
   "source": [
    "4. Find the root of the ID3 decision tree using the information gain. What feature should be used? (*Note*: You are not allowed to use external python modules.)"
   ]
  },
  {
   "cell_type": "code",
   "execution_count": 18,
   "metadata": {},
   "outputs": [
    {
     "name": "stdout",
     "output_type": "stream",
     "text": [
      "Biscoe\n",
      "Alegem 'biscoe' ca nod frunza, avem cel mai mare castig de informatie\n"
     ]
    }
   ],
   "source": [
    "# solution here\n",
    "def choose_max_ig(dataset):\n",
    "    mapping_ig = dict()\n",
    "    target = dataset.columns[ len(dataset.columns) - 1]\n",
    "    for value in dataset:\n",
    "        if value != target:\n",
    "            ig = calculate_information_gain(dataset, target, value)\n",
    "            mapping_ig[value] = ig\n",
    "    if len(mapping_ig) == 0:\n",
    "        return None\n",
    "    # print(mapping_ig)\n",
    "    return max(mapping_ig, key=mapping_ig.get)\n",
    "\n",
    "\n",
    "print(choose_max_ig(discrete_penguin_dataset))\n",
    "print(\"Alegem \\'biscoe\\' ca nod frunza, avem cel mai mare castig de informatie\")"
   ]
  },
  {
   "cell_type": "markdown",
   "metadata": {},
   "source": [
    "5. Let's suppose that the root node is \"Biscoe\". Create the variable `filtered_dataset` that should store the sub-tree for Biscoe=1 (in other words, filter out the records from the dataset where Biscoe is 0). Make sure to drop the column of the root node \"Biscoe\"."
   ]
  },
  {
   "cell_type": "code",
   "execution_count": 19,
   "metadata": {},
   "outputs": [
    {
     "data": {
      "text/html": [
       "<div>\n",
       "<style scoped>\n",
       "    .dataframe tbody tr th:only-of-type {\n",
       "        vertical-align: middle;\n",
       "    }\n",
       "\n",
       "    .dataframe tbody tr th {\n",
       "        vertical-align: top;\n",
       "    }\n",
       "\n",
       "    .dataframe thead th {\n",
       "        text-align: right;\n",
       "    }\n",
       "</style>\n",
       "<table border=\"1\" class=\"dataframe\">\n",
       "  <thead>\n",
       "    <tr style=\"text-align: right;\">\n",
       "      <th></th>\n",
       "      <th>female</th>\n",
       "      <th>male</th>\n",
       "      <th>Biscoe</th>\n",
       "      <th>Dream</th>\n",
       "      <th>Torgersen</th>\n",
       "      <th>bill_length_mm</th>\n",
       "      <th>bill_depth_mm</th>\n",
       "      <th>flipper_length_mm</th>\n",
       "      <th>body_mass_g</th>\n",
       "      <th>species</th>\n",
       "    </tr>\n",
       "  </thead>\n",
       "  <tbody>\n",
       "    <tr>\n",
       "      <th>15</th>\n",
       "      <td>1.0</td>\n",
       "      <td>0.0</td>\n",
       "      <td>1.0</td>\n",
       "      <td>0.0</td>\n",
       "      <td>0.0</td>\n",
       "      <td>37.8</td>\n",
       "      <td>18.3</td>\n",
       "      <td>174.0</td>\n",
       "      <td>3400.0</td>\n",
       "      <td>1</td>\n",
       "    </tr>\n",
       "    <tr>\n",
       "      <th>16</th>\n",
       "      <td>0.0</td>\n",
       "      <td>1.0</td>\n",
       "      <td>1.0</td>\n",
       "      <td>0.0</td>\n",
       "      <td>0.0</td>\n",
       "      <td>37.7</td>\n",
       "      <td>18.7</td>\n",
       "      <td>180.0</td>\n",
       "      <td>3600.0</td>\n",
       "      <td>1</td>\n",
       "    </tr>\n",
       "    <tr>\n",
       "      <th>17</th>\n",
       "      <td>1.0</td>\n",
       "      <td>0.0</td>\n",
       "      <td>1.0</td>\n",
       "      <td>0.0</td>\n",
       "      <td>0.0</td>\n",
       "      <td>35.9</td>\n",
       "      <td>19.2</td>\n",
       "      <td>189.0</td>\n",
       "      <td>3800.0</td>\n",
       "      <td>1</td>\n",
       "    </tr>\n",
       "    <tr>\n",
       "      <th>18</th>\n",
       "      <td>0.0</td>\n",
       "      <td>1.0</td>\n",
       "      <td>1.0</td>\n",
       "      <td>0.0</td>\n",
       "      <td>0.0</td>\n",
       "      <td>38.2</td>\n",
       "      <td>18.1</td>\n",
       "      <td>185.0</td>\n",
       "      <td>3950.0</td>\n",
       "      <td>1</td>\n",
       "    </tr>\n",
       "    <tr>\n",
       "      <th>19</th>\n",
       "      <td>0.0</td>\n",
       "      <td>1.0</td>\n",
       "      <td>1.0</td>\n",
       "      <td>0.0</td>\n",
       "      <td>0.0</td>\n",
       "      <td>38.8</td>\n",
       "      <td>17.2</td>\n",
       "      <td>180.0</td>\n",
       "      <td>3800.0</td>\n",
       "      <td>1</td>\n",
       "    </tr>\n",
       "    <tr>\n",
       "      <th>...</th>\n",
       "      <td>...</td>\n",
       "      <td>...</td>\n",
       "      <td>...</td>\n",
       "      <td>...</td>\n",
       "      <td>...</td>\n",
       "      <td>...</td>\n",
       "      <td>...</td>\n",
       "      <td>...</td>\n",
       "      <td>...</td>\n",
       "      <td>...</td>\n",
       "    </tr>\n",
       "    <tr>\n",
       "      <th>260</th>\n",
       "      <td>1.0</td>\n",
       "      <td>0.0</td>\n",
       "      <td>1.0</td>\n",
       "      <td>0.0</td>\n",
       "      <td>0.0</td>\n",
       "      <td>47.2</td>\n",
       "      <td>13.7</td>\n",
       "      <td>214.0</td>\n",
       "      <td>4925.0</td>\n",
       "      <td>3</td>\n",
       "    </tr>\n",
       "    <tr>\n",
       "      <th>261</th>\n",
       "      <td>1.0</td>\n",
       "      <td>0.0</td>\n",
       "      <td>1.0</td>\n",
       "      <td>0.0</td>\n",
       "      <td>0.0</td>\n",
       "      <td>46.8</td>\n",
       "      <td>14.3</td>\n",
       "      <td>215.0</td>\n",
       "      <td>4850.0</td>\n",
       "      <td>3</td>\n",
       "    </tr>\n",
       "    <tr>\n",
       "      <th>262</th>\n",
       "      <td>0.0</td>\n",
       "      <td>1.0</td>\n",
       "      <td>1.0</td>\n",
       "      <td>0.0</td>\n",
       "      <td>0.0</td>\n",
       "      <td>50.4</td>\n",
       "      <td>15.7</td>\n",
       "      <td>222.0</td>\n",
       "      <td>5750.0</td>\n",
       "      <td>3</td>\n",
       "    </tr>\n",
       "    <tr>\n",
       "      <th>263</th>\n",
       "      <td>1.0</td>\n",
       "      <td>0.0</td>\n",
       "      <td>1.0</td>\n",
       "      <td>0.0</td>\n",
       "      <td>0.0</td>\n",
       "      <td>45.2</td>\n",
       "      <td>14.8</td>\n",
       "      <td>212.0</td>\n",
       "      <td>5200.0</td>\n",
       "      <td>3</td>\n",
       "    </tr>\n",
       "    <tr>\n",
       "      <th>264</th>\n",
       "      <td>0.0</td>\n",
       "      <td>1.0</td>\n",
       "      <td>1.0</td>\n",
       "      <td>0.0</td>\n",
       "      <td>0.0</td>\n",
       "      <td>49.9</td>\n",
       "      <td>16.1</td>\n",
       "      <td>213.0</td>\n",
       "      <td>5400.0</td>\n",
       "      <td>3</td>\n",
       "    </tr>\n",
       "  </tbody>\n",
       "</table>\n",
       "<p>163 rows × 10 columns</p>\n",
       "</div>"
      ],
      "text/plain": [
       "     female  male  Biscoe  Dream  Torgersen  bill_length_mm  bill_depth_mm  \\\n",
       "15      1.0   0.0     1.0    0.0        0.0            37.8           18.3   \n",
       "16      0.0   1.0     1.0    0.0        0.0            37.7           18.7   \n",
       "17      1.0   0.0     1.0    0.0        0.0            35.9           19.2   \n",
       "18      0.0   1.0     1.0    0.0        0.0            38.2           18.1   \n",
       "19      0.0   1.0     1.0    0.0        0.0            38.8           17.2   \n",
       "..      ...   ...     ...    ...        ...             ...            ...   \n",
       "260     1.0   0.0     1.0    0.0        0.0            47.2           13.7   \n",
       "261     1.0   0.0     1.0    0.0        0.0            46.8           14.3   \n",
       "262     0.0   1.0     1.0    0.0        0.0            50.4           15.7   \n",
       "263     1.0   0.0     1.0    0.0        0.0            45.2           14.8   \n",
       "264     0.0   1.0     1.0    0.0        0.0            49.9           16.1   \n",
       "\n",
       "     flipper_length_mm  body_mass_g  species  \n",
       "15               174.0       3400.0        1  \n",
       "16               180.0       3600.0        1  \n",
       "17               189.0       3800.0        1  \n",
       "18               185.0       3950.0        1  \n",
       "19               180.0       3800.0        1  \n",
       "..                 ...          ...      ...  \n",
       "260              214.0       4925.0        3  \n",
       "261              215.0       4850.0        3  \n",
       "262              222.0       5750.0        3  \n",
       "263              212.0       5200.0        3  \n",
       "264              213.0       5400.0        3  \n",
       "\n",
       "[163 rows x 10 columns]"
      ]
     },
     "execution_count": 19,
     "metadata": {},
     "output_type": "execute_result"
    }
   ],
   "source": [
    "# solution here\n",
    "filtered_dataset = penguin_dataset.drop(penguin_dataset[penguin_dataset.Biscoe < 1].index)\n",
    "filtered_dataset"
   ]
  },
  {
   "cell_type": "markdown",
   "metadata": {},
   "source": [
    "6. Create a function `id3` that runs the ID3 classification algorithm on a discrete dataset. It should have only one argument, the dataset.\n",
    "\n",
    "The function should return a dictionary with the following structure:\n",
    "```\n",
    "\"name of the root\" : {\n",
    "    \"total_entropy\" : the total entropy of the current dataset,\n",
    "    \"observations\" : a dictionary where the keys are the values of the target attribute and the values are the number of records having that value,\n",
    "    \"values\" : {\n",
    "        \"unique value 1 of the root feature\" : if the entropy is 0, we have a leaf node, which will contain the value of the target attribute; if not, we will have a similar dictionary where \"unique value 1\" will act as the root for the sub-tree\n",
    "        \"unique value 2 of the root feature\" : \n",
    "        ...\n",
    "        \"unique value n of the root feature\" :\n",
    "    }\n",
    "}\n",
    "```\n",
    "You have an example in [output_example_discrete.txt](data/output_example_discrete.txt) file.\n",
    "\n",
    "*Note*: \n",
    "- If the filtered dataset does not have any other features to evaluate, the leaf node will contain the value of the target attribute that has the highest frequency.\n",
    "- You can assume that the last column of the dataset will always be the target attribute.\n",
    "\n",
    "*Hint*: The algorithm should be recursive: for the current dataset, select the feature that brings the most information gain. Afterwards, filter the datasets based on the values of this feature and rerun id3 on the filtered dataset."
   ]
  },
  {
   "cell_type": "code",
   "execution_count": 20,
   "metadata": {},
   "outputs": [],
   "source": [
    "def filter_dataset(dataset, target_column, value):\n",
    "    filtered = dataset[dataset[target_column] == value]\n",
    "    filtered = filtered.drop(columns=[target_column]).reset_index(drop=True)\n",
    "    return filtered\n",
    "    \n",
    "\n",
    "def id3(dataset):\n",
    "    target = dataset.columns[ len(dataset.columns) - 1]\n",
    "    total_entropy = calculate_entropy( generate_probabilities( list(dataset[target])) )\n",
    "    \n",
    "    # check if final state\n",
    "    if total_entropy == 0:\n",
    "        return dataset.loc[1, 'species']\n",
    "    \n",
    "    # compute observation\n",
    "    observation = dict()\n",
    "    for value in np.unique(list(dataset[target])):\n",
    "        observation[value] = list(dataset[target]).count(value)\n",
    "\n",
    "    if len(dataset.columns) == 1:\n",
    "        return max(observation, key=observation.get)\n",
    "\n",
    "    # get maximum ig and column name\n",
    "    max_gain = choose_max_ig(dataset)\n",
    "\n",
    "    # get unique elements in selected column\n",
    "    #   for each, filter the dataset and recall id3\n",
    "    dictionary = dict()\n",
    "    dictionary['observation'] = observation\n",
    "    dictionary['total_entropy'] = total_entropy\n",
    "    dictionary['value'] = dict()\n",
    "\n",
    "    for value in np.unique(list(dataset[max_gain])):\n",
    "        filtered = filter_dataset(dataset, max_gain, value)\n",
    "        dictionary['value'][value] = id3(filtered)\n",
    "\n",
    "    return {max_gain: dictionary}\n"
   ]
  },
  {
   "cell_type": "markdown",
   "metadata": {},
   "source": [
    "7. Run the ID3 algorithm on the `discrete_penguin_dataset` and store the tree in the variable `id3_result`. Print the tree. For a better visualisation, you can use `pprint`."
   ]
  },
  {
   "cell_type": "code",
   "execution_count": 21,
   "metadata": {},
   "outputs": [
    {
     "name": "stdout",
     "output_type": "stream",
     "text": [
      "{'Biscoe': {'observation': {1: 146, 2: 68, 3: 119},\n",
      "            'total_entropy': 1.5200835543530915,\n",
      "            'value': {0.0: {'Dream': {'observation': {1: 102, 2: 68},\n",
      "                                      'total_entropy': 0.9709505944546686,\n",
      "                                      'value': {0.0: 1,\n",
      "                                                1.0: {'female': {'observation': {1: 55,\n",
      "                                                                                 2: 68},\n",
      "                                                                 'total_entropy': 0.9919270464052614,\n",
      "                                                                 'value': {0.0: {'male': {'observation': {1: 28,\n",
      "                                                                                                          2: 34},\n",
      "                                                                                          'total_entropy': 0.9932338197397066,\n",
      "                                                                                          'value': {1.0: {'Torgersen': {'observation': {1: 28,\n",
      "                                                                                                                                        2: 34},\n",
      "                                                                                                                        'total_entropy': 0.9932338197397066,\n",
      "                                                                                                                        'value': {0.0: 2}}}}}},\n",
      "                                                                           1.0: {'male': {'observation': {1: 27,\n",
      "                                                                                                          2: 34},\n",
      "                                                                                          'total_entropy': 0.9904799742690307,\n",
      "                                                                                          'value': {0.0: {'Torgersen': {'observation': {1: 27,\n",
      "                                                                                                                                        2: 34},\n",
      "                                                                                                                        'total_entropy': 0.9904799742690307,\n",
      "                                                                                                                        'value': {0.0: 2}}}}}}}}}}}},\n",
      "                      1.0: {'female': {'observation': {1: 44, 3: 119},\n",
      "                                       'total_entropy': 0.8413765894845354,\n",
      "                                       'value': {0.0: {'male': {'observation': {1: 22,\n",
      "                                                                                3: 61},\n",
      "                                                                'total_entropy': 0.8342867421739537,\n",
      "                                                                'value': {1.0: {'Dream': {'observation': {1: 22,\n",
      "                                                                                                          3: 61},\n",
      "                                                                                          'total_entropy': 0.8342867421739537,\n",
      "                                                                                          'value': {0.0: {'Torgersen': {'observation': {1: 22,\n",
      "                                                                                                                                        3: 61},\n",
      "                                                                                                                        'total_entropy': 0.8342867421739537,\n",
      "                                                                                                                        'value': {0.0: 3}}}}}}}}},\n",
      "                                                 1.0: {'male': {'observation': {1: 22,\n",
      "                                                                                3: 58},\n",
      "                                                                'total_entropy': 0.8485481782946159,\n",
      "                                                                'value': {0.0: {'Dream': {'observation': {1: 22,\n",
      "                                                                                                          3: 58},\n",
      "                                                                                          'total_entropy': 0.8485481782946159,\n",
      "                                                                                          'value': {0.0: {'Torgersen': {'observation': {1: 22,\n",
      "                                                                                                                                        3: 58},\n",
      "                                                                                                                        'total_entropy': 0.8485481782946159,\n",
      "                                                                                                                        'value': {0.0: 3}}}}}}}}}}}}}}}\n"
     ]
    }
   ],
   "source": [
    "# solution here\n",
    "id3_result = id3(discrete_penguin_dataset)\n",
    "pprint(id3_result)"
   ]
  },
  {
   "cell_type": "markdown",
   "metadata": {},
   "source": [
    "8. Run the ID3 implemenation from `sklearn` and plot the decision tree. Compare the results. (*Hint*: `plt.subplots` has a parameter named `figsize` where you can control the width and the height of the plot; (15,10) should be enough.)"
   ]
  },
  {
   "cell_type": "code",
   "execution_count": 22,
   "metadata": {},
   "outputs": [
    {
     "data": {
      "image/png": "[encoded data removed]",
      "text/plain": [
       "<Figure size 1500x1000 with 1 Axes>"
      ]
     },
     "metadata": {},
     "output_type": "display_data"
    }
   ],
   "source": [
    "# solution here\n",
    "import matplotlib.pyplot as plt\n",
    "\n",
    "X = discrete_penguin_dataset[['female', 'male', 'Biscoe', 'Dream', 'Torgersen']]\n",
    "y = discrete_penguin_dataset['species']\n",
    "dt = tree.DecisionTreeClassifier(criterion='entropy').fit(X, y)\n",
    "\n",
    "fig, ax = plt.subplots(figsize=(15, 10))\n",
    "f = tree.plot_tree(dt, ax=ax, fontsize=10, feature_names=['male', 'female', 'Biscoe', 'Torgersen', 'Dream'])\n",
    "plt.show()"
   ]
  },
  {
   "cell_type": "markdown",
   "metadata": {},
   "source": [
    "9. Create the function `predict_discrete` that would predict the value of an instance using the output dictionary from the `id3` function. (*Hint*: you can check the class of an object using the `isinstance` function.)"
   ]
  },
  {
   "cell_type": "code",
   "execution_count": 23,
   "metadata": {},
   "outputs": [
    {
     "data": {
      "text/plain": [
       "3"
      ]
     },
     "execution_count": 23,
     "metadata": {},
     "output_type": "execute_result"
    }
   ],
   "source": [
    "def predict_discrete(tree, test_instance):\n",
    "    # print(test_instance)\n",
    "    while True:\n",
    "        node = next(iter(tree))\n",
    "        value = test_instance[node]\n",
    "        tree = tree[node]['value'][value]\n",
    "\n",
    "        if isinstance(tree, np.int64) or isinstance(tree, np.int32):\n",
    "            break\n",
    "    return tree\n",
    "\n",
    "\n",
    "predict_discrete(id3_result, discrete_penguin_dataset.iloc[234])"
   ]
  },
  {
   "cell_type": "markdown",
   "metadata": {},
   "source": [
    "10. Predict the label for the first record from the dataset. (*Hint*: use the Pandas method `iloc`.)"
   ]
  },
  {
   "cell_type": "code",
   "execution_count": 24,
   "metadata": {},
   "outputs": [
    {
     "data": {
      "text/plain": [
       "1"
      ]
     },
     "execution_count": 24,
     "metadata": {},
     "output_type": "execute_result"
    }
   ],
   "source": [
    "# solution here\n",
    "predict_discrete(id3_result, discrete_penguin_dataset.iloc[1])"
   ]
  },
  {
   "cell_type": "markdown",
   "metadata": {},
   "source": [
    "11. Create the function `evaluate_discrete` that should return the accuracy of the model on a given set of records."
   ]
  },
  {
   "cell_type": "code",
   "execution_count": 25,
   "metadata": {},
   "outputs": [],
   "source": [
    "def evaluate_discrete(tree, test_data):\n",
    "    count_good_predicts = 0\n",
    "    for index in range(len(test_data)):\n",
    "        predict = predict_discrete(id3_result,test_data.iloc[index])\n",
    "        if predict == test_data.iloc[index]['species']:\n",
    "            count_good_predicts += 1\n",
    "    print(count_good_predicts)\n",
    "    return (count_good_predicts/len(test_data))\n"
   ]
  },
  {
   "cell_type": "markdown",
   "metadata": {},
   "source": [
    "12. Test the accuracy of the model on the whole penguin dataset."
   ]
  },
  {
   "cell_type": "code",
   "execution_count": 26,
   "metadata": {},
   "outputs": [
    {
     "name": "stdout",
     "output_type": "stream",
     "text": [
      "234\n"
     ]
    },
    {
     "data": {
      "text/plain": [
       "0.7027027027027027"
      ]
     },
     "execution_count": 26,
     "metadata": {},
     "output_type": "execute_result"
    }
   ],
   "source": [
    "# solution here\n",
    "evaluate_discrete(id3_result, discrete_penguin_dataset)"
   ]
  },
  {
   "cell_type": "markdown",
   "metadata": {},
   "source": [
    "13. Is the accuracy of the model 100%? If yes, why? If no, why?"
   ]
  },
  {
   "cell_type": "markdown",
   "metadata": {},
   "source": [
    "*Answer here:* Accuracy of the model is 0.7027027027027027 because there were only 234 good predictions. Also there were some inconsistent within the data after it was filtered ( removed some columns )"
   ]
  },
  {
   "cell_type": "markdown",
   "metadata": {},
   "source": [
    "## IV. Decision Tree - the continuous case (3 points; bonus 0.1 points per week)"
   ]
  },
  {
   "cell_type": "markdown",
   "metadata": {},
   "source": [
    "*Note*: For this case all features will be treated as being continuous. Use the entire `penguin_dataset`!"
   ]
  },
  {
   "cell_type": "markdown",
   "metadata": {},
   "source": [
    "1. In order to include the continuous random variables in the decision trees, we need to discretise them. For that, we will use thresholds.\n",
    "\n",
    "A threshold will appear between two consecutive values of the same feature that have different labels (label = the value of the target attribute).\n",
    "\n",
    "Write a function `get_thresholds` that finds the thresholds for a continuous feature. The function takes three arguments: the dataset, the continuous feature and the target feature that contains the labels."
   ]
  },
  {
   "cell_type": "code",
   "execution_count": 27,
   "metadata": {},
   "outputs": [],
   "source": [
    "continuous_penguin_dataset = penguin_dataset.drop(columns=(discrete_penguin_dataset.drop(columns=['species'])).columns)\n",
    "\n",
    "def get_thresholds(dataset, feature, target_feature):\n",
    "    dataset = dataset.sort_values(by=[feature]).reset_index(drop=True)\n",
    "    data = set()\n",
    "    for index in range(len(dataset)):\n",
    "        data.add((dataset[feature][index], int(dataset[target_feature][index])))\n",
    "\n",
    "    data = list(sorted(data, key=lambda x: x[0]))\n",
    "    grouped = dict()\n",
    "    for d in data:\n",
    "        if d[0] not in grouped:\n",
    "            grouped[d[0]] = {d[1]}\n",
    "        else:\n",
    "            grouped[d[0]].add(d[1])\n",
    "\n",
    "    thresholds = list()\n",
    "    previous = -1\n",
    "    for d in grouped:\n",
    "        if previous != -1:\n",
    "            if len(grouped[d]) > 1 or len(grouped[previous]) > 1:\n",
    "                thresholds.append( (d + previous) / 2 )\n",
    "            elif grouped[d] != grouped[previous]:\n",
    "                thresholds.append( (d + previous) / 2 )\n",
    "        previous = d\n",
    "\n",
    "    return sorted(list(thresholds))"
   ]
  },
  {
   "cell_type": "markdown",
   "metadata": {},
   "source": [
    "2. Find the thresholds for the attribute `flipper_length_mm`."
   ]
  },
  {
   "cell_type": "code",
   "execution_count": 28,
   "metadata": {},
   "outputs": [
    {
     "data": {
      "text/plain": [
       "[177.0,\n",
       " 179.0,\n",
       " 180.5,\n",
       " 181.5,\n",
       " 184.5,\n",
       " 185.5,\n",
       " 186.5,\n",
       " 187.5,\n",
       " 188.5,\n",
       " 189.5,\n",
       " 190.5,\n",
       " 191.5,\n",
       " 192.5,\n",
       " 193.5,\n",
       " 194.5,\n",
       " 195.5,\n",
       " 196.5,\n",
       " 197.5,\n",
       " 198.5,\n",
       " 199.5,\n",
       " 200.5,\n",
       " 201.5,\n",
       " 202.5,\n",
       " 204.0,\n",
       " 205.5,\n",
       " 206.5,\n",
       " 207.5,\n",
       " 208.5,\n",
       " 209.5,\n",
       " 210.5,\n",
       " 211.5,\n",
       " 212.5]"
      ]
     },
     "execution_count": 28,
     "metadata": {},
     "output_type": "execute_result"
    }
   ],
   "source": [
    "# solution here\n",
    "get_thresholds(penguin_dataset, 'flipper_length_mm', 'species')\n",
    "#get_thresholds(penguin_dataset, 'female', 'species')"
   ]
  },
  {
   "cell_type": "markdown",
   "metadata": {},
   "source": [
    "3. Find the best threshold for the attribute `flipper_length_mm` using the information gain."
   ]
  },
  {
   "cell_type": "code",
   "execution_count": 32,
   "metadata": {},
   "outputs": [
    {
     "data": {
      "text/plain": [
       "(206.5, 0.8065245715639435, 'flipper_length_mm')"
      ]
     },
     "execution_count": 32,
     "metadata": {},
     "output_type": "execute_result"
    }
   ],
   "source": [
    "# solution here\n",
    "def best_thresholds(dataset, feature, target_feature):\n",
    "    thresholds = get_thresholds(dataset, feature, target_feature)\n",
    "    prob_target = generate_probabilities(list(dataset[target_feature]))\n",
    "    target_entropy = calculate_entropy( generate_probabilities( list(dataset[target_feature]) ) )\n",
    "    ig = list()\n",
    "\n",
    "    for threshold in thresholds:\n",
    "        lower = dataset[dataset[feature] <= threshold].reset_index(drop=True)\n",
    "        higher = dataset[dataset[feature] > threshold].reset_index(drop=True)\n",
    "\n",
    "        entropy_lower = calculate_entropy(generate_probabilities(list(lower[target_feature])))\n",
    "        entropy_higher = calculate_entropy(generate_probabilities(list(higher[target_feature])))\n",
    "        entropy = len(lower)/len(dataset) * entropy_lower + len(higher)/len(dataset) * entropy_higher\n",
    "\n",
    "        ig.append((threshold, target_entropy - entropy, feature))\n",
    "\n",
    "    if len(ig) == 0:\n",
    "        return (-1, target_entropy, feature)\n",
    "\n",
    "    return max(ig, key=lambda x: x[1])\n",
    "\n",
    "best_thresholds(penguin_dataset, 'flipper_length_mm', 'species')"
   ]
  },
  {
   "cell_type": "markdown",
   "metadata": {},
   "source": [
    "4. Find the best feature and the best threshold to be used as root for the decision tree using the information gain."
   ]
  },
  {
   "cell_type": "code",
   "execution_count": 30,
   "metadata": {},
   "outputs": [
    {
     "data": {
      "text/plain": [
       "(206.5, 0.8065245715639435, 'flipper_length_mm')"
      ]
     },
     "execution_count": 30,
     "metadata": {},
     "output_type": "execute_result"
    }
   ],
   "source": [
    "# solution here\n",
    "def best_feature(dataset):\n",
    "    best_ig_feature = list()\n",
    "    \n",
    "    for feature in dataset:\n",
    "        if feature != 'species':\n",
    "            threshold = best_thresholds(dataset, feature, 'species')\n",
    "            best_ig_feature.append( threshold )\n",
    "\n",
    "    return max(best_ig_feature, key=lambda x: x[1])\n",
    "\n",
    "best_feature(penguin_dataset)"
   ]
  },
  {
   "cell_type": "markdown",
   "metadata": {},
   "source": [
    "5. Let's suppose that the root node is \"flipper_length_mm\" and the threshold 206.5. Create the variable `filtered_dataset` that should store the sub-tree for `flipper_length_mm < 206.5`. Do not drop the column if there are any other thresholds for the same attribute."
   ]
  },
  {
   "cell_type": "code",
   "execution_count": 31,
   "metadata": {},
   "outputs": [
    {
     "data": {
      "text/plain": [
       "(     female  male  Biscoe  Dream  Torgersen  bill_length_mm  bill_depth_mm  \\\n",
       " 0       0.0   1.0     0.0    0.0        1.0            39.1           18.7   \n",
       " 1       1.0   0.0     0.0    0.0        1.0            39.5           17.4   \n",
       " 2       1.0   0.0     0.0    0.0        1.0            40.3           18.0   \n",
       " 3       1.0   0.0     0.0    0.0        1.0            36.7           19.3   \n",
       " 4       0.0   1.0     0.0    0.0        1.0            39.3           20.6   \n",
       " ..      ...   ...     ...    ...        ...             ...            ...   \n",
       " 203     1.0   0.0     0.0    1.0        0.0            46.8           16.5   \n",
       " 204     1.0   0.0     0.0    1.0        0.0            45.7           17.0   \n",
       " 205     1.0   0.0     0.0    1.0        0.0            43.5           18.1   \n",
       " 206     0.0   1.0     0.0    1.0        0.0            49.6           18.2   \n",
       " 207     1.0   0.0     0.0    1.0        0.0            50.2           18.7   \n",
       " \n",
       "      flipper_length_mm  body_mass_g  species  \n",
       " 0                181.0       3750.0        1  \n",
       " 1                186.0       3800.0        1  \n",
       " 2                195.0       3250.0        1  \n",
       " 3                193.0       3450.0        1  \n",
       " 4                190.0       3650.0        1  \n",
       " ..                 ...          ...      ...  \n",
       " 203              189.0       3650.0        2  \n",
       " 204              195.0       3650.0        2  \n",
       " 205              202.0       3400.0        2  \n",
       " 206              193.0       3775.0        2  \n",
       " 207              198.0       3775.0        2  \n",
       " \n",
       " [208 rows x 10 columns],\n",
       "      female  male  Biscoe  Dream  Torgersen  bill_length_mm  bill_depth_mm  \\\n",
       " 0       0.0   1.0     0.0    1.0        0.0            40.8           18.9   \n",
       " 1       0.0   1.0     0.0    0.0        1.0            44.1           18.0   \n",
       " 2       1.0   0.0     1.0    0.0        0.0            46.1           13.2   \n",
       " 3       0.0   1.0     1.0    0.0        0.0            50.0           16.3   \n",
       " 4       1.0   0.0     1.0    0.0        0.0            48.7           14.1   \n",
       " ..      ...   ...     ...    ...        ...             ...            ...   \n",
       " 120     0.0   1.0     0.0    1.0        0.0            52.0           20.7   \n",
       " 121     0.0   1.0     0.0    1.0        0.0            49.0           19.5   \n",
       " 122     0.0   1.0     0.0    1.0        0.0            49.0           19.6   \n",
       " 123     0.0   1.0     0.0    1.0        0.0            55.8           19.8   \n",
       " 124     0.0   1.0     0.0    1.0        0.0            50.8           19.0   \n",
       " \n",
       "      flipper_length_mm  body_mass_g  species  \n",
       " 0                208.0       4300.0        1  \n",
       " 1                210.0       4000.0        1  \n",
       " 2                211.0       4500.0        3  \n",
       " 3                230.0       5700.0        3  \n",
       " 4                210.0       4450.0        3  \n",
       " ..                 ...          ...      ...  \n",
       " 120              210.0       4800.0        2  \n",
       " 121              210.0       3950.0        2  \n",
       " 122              212.0       4300.0        2  \n",
       " 123              207.0       4000.0        2  \n",
       " 124              210.0       4100.0        2  \n",
       " \n",
       " [125 rows x 10 columns])"
      ]
     },
     "execution_count": 31,
     "metadata": {},
     "output_type": "execute_result"
    }
   ],
   "source": [
    "def filter_continous(dataset, feature, threshold):\n",
    "    filtered_low = dataset[dataset[feature] < threshold].reset_index(drop=True)\n",
    "    filtered_high = dataset[dataset[feature] >= threshold].reset_index(drop=True)\n",
    "\n",
    "    if get_thresholds(filtered_low, feature, 'species') == []:\n",
    "        filtered_low = filtered_low.drop(columns=[feature])\n",
    "\n",
    "    if get_thresholds(filtered_high, feature, 'species') == []:\n",
    "        filtered_high = filtered_high.drop(columns=[feature])\n",
    "\n",
    "    # print(best_thresholds(filtered_high, 'bill_depth_mm','species'))\n",
    "    # print(best_feature(filtered_high))\n",
    "\n",
    "    return (filtered_low, filtered_high)\n",
    "\n",
    "filter_continous(penguin_dataset, 'flipper_length_mm', 206.5)"
   ]
  },
  {
   "cell_type": "markdown",
   "metadata": {},
   "source": [
    "6. Create a function `id3_continuous` that runs the ID3 algorithm for the continuous case.\n",
    "\n",
    "The output dictionary should have the same structure, with the following differences:\n",
    "- the name of the root and of the internal nodes will not be just `feature name`, but `feature_name<threshold_value`.\n",
    "- the keys of the \"values\" dictionary will be just \"YES\" (when the condition `feature<threshold` is met) and \"NO\" (otherwise)\n",
    "\n",
    "You have an example in [output_example_continuous.txt](data/output_example_continuous.txt) file.\n",
    "\n",
    "\n",
    "*Notes*: \n",
    "- Do NOT delete the chosen attribute if it has more than one threshold."
   ]
  },
  {
   "cell_type": "code",
   "execution_count": 32,
   "metadata": {},
   "outputs": [
    {
     "name": "stdout",
     "output_type": "stream",
     "text": [
      "{'flipper_length_mm < 206.5': {'observation': {1: 146, 2: 68, 3: 119},\n",
      "                               'total_entropy': 1.5200835543530915,\n",
      "                               'value': {'NO': {'Biscoe < 0.5': {'observation': {1: 2,\n",
      "                                                                                 2: 5,\n",
      "                                                                                 3: 118},\n",
      "                                                                 'total_entropy': 0.3596921222690145,\n",
      "                                                                 'value': {'NO': 3,\n",
      "                                                                           'YES': {'female < -1': {'observation': {1: 2,\n",
      "                                                                                                                   2: 5},\n",
      "                                                                                                   'total_entropy': 0.863120568566631,\n",
      "                                                                                                   'value': {'NO': 2,\n",
      "                                                                                                             'YES': 1}}}}}},\n",
      "                                         'YES': {'bill_length_mm < 43.35': {'observation': {1: 144,\n",
      "                                                                                            2: 63,\n",
      "                                                                                            3: 1},\n",
      "                                                                            'total_entropy': 0.926219355697882,\n",
      "                                                                            'value': {'NO': {'Dream < 0.5': {'observation': {1: 4,\n",
      "                                                                                                                             2: 58,\n",
      "                                                                                                                             3: 1},\n",
      "                                                                                                             'total_entropy': 0.4572339279856438,\n",
      "                                                                                                             'value': {'NO': {'Biscoe < -1': {'observation': {1: 1,\n",
      "                                                                                                                                                              2: 58},\n",
      "                                                                                                                                              'total_entropy': 0.12394986771100759,\n",
      "                                                                                                                                              'value': {'NO': 2,\n",
      "                                                                                                                                                        'YES': 1}}},\n",
      "                                                                                                                       'YES': {'female < 0.5': {'observation': {1: 3,\n",
      "                                                                                                                                                                3: 1},\n",
      "                                                                                                                                                'total_entropy': 0.8112781244591328,\n",
      "                                                                                                                                                'value': {'NO': 3,\n",
      "                                                                                                                                                          'YES': 1}}}}}},\n",
      "                                                                                      'YES': {'bill_length_mm < 42.349999999999994': {'observation': {1: 140,\n",
      "                                                                                                                                                      2: 5},\n",
      "                                                                                                                                      'total_entropy': 0.21639693245126462,\n",
      "                                                                                                                                      'value': {'NO': {'female < 0.5': {'observation': {1: 7,\n",
      "                                                                                                                                                                                        2: 4},\n",
      "                                                                                                                                                                        'total_entropy': 0.9456603046006402,\n",
      "                                                                                                                                                                        'value': {'NO': 2,\n",
      "                                                                                                                                                                                  'YES': 1}}},\n",
      "                                                                                                                                                'YES': {'bill_depth_mm < 16.65': {'observation': {1: 133,\n",
      "                                                                                                                                                                                                  2: 1},\n",
      "                                                                                                                                                                                  'total_entropy': 0.06345811641554695,\n",
      "                                                                                                                                                                                  'value': {'NO': 1,\n",
      "                                                                                                                                                                                            'YES': {'female < -1': {'observation': {1: 10,\n",
      "                                                                                                                                                                                                                                    2: 1},\n",
      "                                                                                                                                                                                                                    'total_entropy': 0.4394969869215134,\n",
      "                                                                                                                                                                                                                    'value': {'NO': 2,\n",
      "                                                                                                                                                                                                                              'YES': 1}}}}}}}}}}}}}}}\n"
     ]
    }
   ],
   "source": [
    "def id3_continuous(dataset):\n",
    "    target = dataset.columns[ len(dataset.columns) - 1]\n",
    "    total_entropy = calculate_entropy( generate_probabilities( list(dataset[target])) )\n",
    "\n",
    "    if len(dataset) == 0:\n",
    "        return 2\n",
    "\n",
    "    # check if final state\n",
    "    if total_entropy == 0:\n",
    "        return dataset.loc[0, 'species']\n",
    "\n",
    "    # compute observation\n",
    "    observation = dict()\n",
    "    for value in np.unique(list(dataset[target])):\n",
    "        observation[value] = list(dataset[target]).count(value)\n",
    "\n",
    "    if len(dataset.columns) == 1:\n",
    "        return max(observation, key=observation.get)\n",
    "\n",
    "    # get maximum ig and column name\n",
    "    max_gain = best_feature(dataset)\n",
    "    dictionary = dict()\n",
    "    dictionary['observation'] = observation\n",
    "    dictionary['total_entropy'] = total_entropy\n",
    "    dictionary['value'] = dict()\n",
    "\n",
    "    text = max_gain[2] + ' < ' + str(max_gain[0])\n",
    "\n",
    "    if max_gain[0] == -1:\n",
    "        dictionary['value']['YES'] = dataset.loc[0, 'species']\n",
    "        dictionary['value']['NO'] = dataset.loc[ len(dataset) - 1 , 'species']\n",
    "    else:\n",
    "        filter = filter_continous(dataset, max_gain[2], max_gain[0])\n",
    "\n",
    "        if len(filter[1]) == 0:\n",
    "            dictionary['value']['NO'] = dataset.loc[0, 'species']\n",
    "        else:\n",
    "            dictionary['value']['NO'] = id3_continuous(filter[1])\n",
    "\n",
    "        if len(filter[0]) == 0:\n",
    "            dictionary['value']['YES'] = dataset.loc[0, 'species']\n",
    "        else:\n",
    "            dictionary['value']['YES'] = id3_continuous(filter[0])\n",
    "    \n",
    "    return {text: dictionary}\n",
    "\n",
    "pprint(id3_continuous(penguin_dataset))"
   ]
  },
  {
   "cell_type": "markdown",
   "metadata": {},
   "source": [
    "7. Run the continuous version of ID3 algorithm on the `penguin_dataset` and store the tree in the variable `id3_continuous_result`. Print the tree. For a better visualisation, you can use `pprint`."
   ]
  },
  {
   "cell_type": "code",
   "execution_count": 33,
   "metadata": {},
   "outputs": [],
   "source": [
    "id3_continuous_result = id3_continuous(penguin_dataset)"
   ]
  },
  {
   "cell_type": "markdown",
   "metadata": {},
   "source": [
    "8. Run the ID3 implemenation from `sklearn` and plot the decision tree. Compare the results. (*Hint*: `plt.subplots` has a parameter named `figsize` where you can control the width and the height of the plot; (25,10) should be enough.)"
   ]
  },
  {
   "cell_type": "code",
   "execution_count": 34,
   "metadata": {},
   "outputs": [
    {
     "data": {
      "image/png": "[encoded data removed]",
      "text/plain": [
       "<Figure size 2500x1000 with 1 Axes>"
      ]
     },
     "metadata": {},
     "output_type": "display_data"
    }
   ],
   "source": [
    "X = penguin_dataset[['female', 'male', 'Biscoe', 'Dream', 'Torgersen', 'bill_length_mm', 'bill_depth_mm', 'flipper_length_mm', 'body_mass_g']]\n",
    "y = penguin_dataset['species']\n",
    "dt = tree.DecisionTreeClassifier(criterion='entropy').fit(X, y)\n",
    "\n",
    "fig, ax = plt.subplots(figsize=(25, 10))\n",
    "f = tree.plot_tree(dt, ax=ax, fontsize=10, feature_names=[ 'female', 'male', 'Biscoe', 'Dream', 'Torgersen', 'bill_length_mm', 'bill_depth_mm', 'flipper_length_mm', 'body_mass_g'])\n",
    "plt.show()"
   ]
  },
  {
   "cell_type": "markdown",
   "metadata": {},
   "source": [
    "9. Create the function `predict_continuous` that would predict the value of an instance using the output dictionary from the `id3` function. (*Hint*: the `split` method separates a string by a character)"
   ]
  },
  {
   "cell_type": "code",
   "execution_count": 35,
   "metadata": {},
   "outputs": [
    {
     "name": "stdout",
     "output_type": "stream",
     "text": [
      "3\n",
      "3\n"
     ]
    }
   ],
   "source": [
    "def predict_continuous(tree, test_instance):\n",
    "    # print(test_instance)\n",
    "    while True:\n",
    "        node = next(iter(tree))\n",
    "        value = test_instance[node]\n",
    "        tree = tree[node]['value'][value]\n",
    "\n",
    "        if type(tree) != dict:\n",
    "            break\n",
    "    return tree\n",
    "\n",
    "\n",
    "print(predict_continuous(id3_result, discrete_penguin_dataset.iloc[234]))\n",
    "print(penguin_dataset.loc[234,'species'])"
   ]
  },
  {
   "cell_type": "markdown",
   "metadata": {},
   "source": [
    "10. Predict the label for the first record from the dataset."
   ]
  },
  {
   "cell_type": "code",
   "execution_count": 36,
   "metadata": {},
   "outputs": [
    {
     "name": "stdout",
     "output_type": "stream",
     "text": [
      "1\n",
      "1\n"
     ]
    }
   ],
   "source": [
    "# solution here\n",
    "print(predict_continuous(id3_result, discrete_penguin_dataset.iloc[0]))\n",
    "print(penguin_dataset.loc[0,'species'])"
   ]
  },
  {
   "cell_type": "markdown",
   "metadata": {},
   "source": [
    "11. Create the function `evaluate_continuous` that should return the accuracy of the model on a given set of records."
   ]
  },
  {
   "cell_type": "code",
   "execution_count": 37,
   "metadata": {},
   "outputs": [],
   "source": [
    "def evaluate_continuous(tree, test_data):\n",
    "    count_good_predicts = 0\n",
    "    for index in range(len(test_data)):\n",
    "        predict = predict_discrete(id3_result,test_data.iloc[index])\n",
    "        if predict == test_data.iloc[index]['species']:\n",
    "            count_good_predicts += 1\n",
    "    print(count_good_predicts)\n",
    "    return (count_good_predicts/len(test_data))"
   ]
  },
  {
   "cell_type": "markdown",
   "metadata": {},
   "source": [
    "12. Test the accuracy of the model on the whole penguin dataset."
   ]
  },
  {
   "cell_type": "code",
   "execution_count": 38,
   "metadata": {},
   "outputs": [
    {
     "name": "stdout",
     "output_type": "stream",
     "text": [
      "234\n"
     ]
    },
    {
     "data": {
      "text/plain": [
       "0.7027027027027027"
      ]
     },
     "execution_count": 38,
     "metadata": {},
     "output_type": "execute_result"
    }
   ],
   "source": [
    "# solution here\n",
    "evaluate_continuous(id3_continuous, penguin_dataset)"
   ]
  },
  {
   "cell_type": "markdown",
   "metadata": {},
   "source": [
    "13. Modify the `id3_continuous` function so it will allow pruning. (*Hint*: use a second parameter, `max_depth` to control the number of tree levels,)"
   ]
  },
  {
   "cell_type": "code",
   "execution_count": 39,
   "metadata": {},
   "outputs": [],
   "source": [
    "def id3_continuous_prunned(dataset, max_depth = -1):\n",
    "    target = dataset.columns[ len(dataset.columns) - 1]\n",
    "    total_entropy = calculate_entropy( generate_probabilities( list(dataset[target])) )\n",
    "\n",
    "    if max_depth != -1:\n",
    "        max_depth = max_depth - 1\n",
    "\n",
    "    if len(dataset) == 0:\n",
    "        return 2\n",
    "\n",
    "    # check if final state\n",
    "    if total_entropy == 0:\n",
    "        return dataset.loc[0, 'species']\n",
    "\n",
    "    # compute observation\n",
    "    observation = dict()\n",
    "    for value in np.unique(list(dataset[target])):\n",
    "        observation[value] = list(dataset[target]).count(value)\n",
    "\n",
    "    if len(dataset.columns) == 1:\n",
    "        return max(observation, key=observation.get)\n",
    "\n",
    "    # get maximum ig and column name\n",
    "    max_gain = best_feature(dataset)\n",
    "    dictionary = dict()\n",
    "    dictionary['observation'] = observation\n",
    "    dictionary['total_entropy'] = total_entropy\n",
    "    dictionary['value'] = dict()\n",
    "\n",
    "    text = max_gain[2] + ' < ' + str(max_gain[0])\n",
    "\n",
    "\n",
    "    # prunning\n",
    "    if max_depth == 0:\n",
    "        return max(observation, key=observation.get)\n",
    "\n",
    "    if max_gain[0] == -1:\n",
    "        dictionary['value']['YES'] = dataset.loc[0, 'species']\n",
    "        dictionary['value']['NO'] = dataset.loc[ len(dataset) - 1 , 'species']\n",
    "    else:\n",
    "        filter = filter_continous(dataset, max_gain[2], max_gain[0])\n",
    "\n",
    "        if len(filter[1]) == 0:\n",
    "            dictionary['value']['NO'] = dataset.loc[0, 'species']\n",
    "        else:\n",
    "            dictionary['value']['NO'] = id3_continuous_prunned(filter[1], max_depth)\n",
    "\n",
    "        if len(filter[0]) == 0:\n",
    "            dictionary['value']['YES'] = dataset.loc[0, 'species']\n",
    "        else:\n",
    "            dictionary['value']['YES'] = id3_continuous_prunned(filter[0],  max_depth)\n",
    "    \n",
    "    return {text: dictionary}"
   ]
  },
  {
   "cell_type": "markdown",
   "metadata": {},
   "source": [
    "14. Apply the prunned version of ID3 (using the custom and the `sklearn` implementation) with `max_depth = 2`. Compare the results."
   ]
  },
  {
   "cell_type": "code",
   "execution_count": 40,
   "metadata": {},
   "outputs": [
    {
     "name": "stdout",
     "output_type": "stream",
     "text": [
      "{'flipper_length_mm < 206.5': {'observation': {1: 146, 2: 68, 3: 119},\n",
      "                               'total_entropy': 1.5200835543530915,\n",
      "                               'value': {'NO': {'Biscoe < 0.5': {'observation': {1: 2,\n",
      "                                                                                 2: 5,\n",
      "                                                                                 3: 118},\n",
      "                                                                 'total_entropy': 0.3596921222690145,\n",
      "                                                                 'value': {'NO': 3,\n",
      "                                                                           'YES': 2}}},\n",
      "                                         'YES': {'bill_length_mm < 43.35': {'observation': {1: 144,\n",
      "                                                                                            2: 63,\n",
      "                                                                                            3: 1},\n",
      "                                                                            'total_entropy': 0.926219355697882,\n",
      "                                                                            'value': {'NO': 2,\n",
      "                                                                                      'YES': 1}}}}}}\n"
     ]
    },
    {
     "data": {
      "image/png": "[encoded data removed]",
      "text/plain": [
       "<Figure size 2500x1000 with 1 Axes>"
      ]
     },
     "metadata": {},
     "output_type": "display_data"
    }
   ],
   "source": [
    "# solution here\n",
    "pprint(id3_continuous_prunned(penguin_dataset, 3))\n",
    "\n",
    "dt_prunned = tree.DecisionTreeClassifier(criterion='entropy', max_depth=2).fit(X, y)\n",
    "fig, ax = plt.subplots(figsize=(25, 10))\n",
    "f = tree.plot_tree(dt_prunned, ax=ax, fontsize=10, feature_names=X.columns)\n",
    "plt.show()"
   ]
  },
  {
   "cell_type": "markdown",
   "metadata": {},
   "source": [
    "# Points grading\n",
    "\n",
    "| Section | Exercise | Points |\n",
    "| --- | --- | --- |\n",
    "| I | 1 | 0.2 |\n",
    "| I | 2 | 0.2 |\n",
    "| I | 3 | 0.2 |\n",
    "| I | 4 | 0.2 |\n",
    "| I | 5 | 0.2 |\n",
    "| II | 1 | 0.4 |\n",
    "| II | 2 | 0.1 |\n",
    "| II | 3 | 0.4 |\n",
    "| II | 4 | 0.1 |\n",
    "| II | 5 | 0.7 |\n",
    "| II | 6 | 0.5 |\n",
    "| II | 7 | 0.1 |\n",
    "| II | 8 | 0.2 |\n",
    "| III | 1 | 0.1 |\n",
    "| III | 2 | 0.2 |\n",
    "| III | 3 | 0.1 |\n",
    "| III | 4 | 0.3 |\n",
    "| III | 5 | 0.1 |\n",
    "| III | 6 | 1.3 |\n",
    "| III | 7 | 0.1 |\n",
    "| III | 8 | 0.5 |\n",
    "| III | 9 | 0.3 |\n",
    "| III | 10 | 0.1 |\n",
    "| III | 11 | 0.1 |\n",
    "| III | 12 | 0.1 |\n",
    "| III | 13 | 0.2 |\n",
    "| IV | 1 | 0.5 |\n",
    "| IV | 2 | 0.1 |\n",
    "| IV | 3 | 0.15 |\n",
    "| IV | 4 | 0. 2 |\n",
    "| IV | 5 | 0. 05 |\n",
    "| IV| 6 | 0.5 |\n",
    "| IV | 7 | 0.1 |\n",
    "| IV | 8 | 0.3 |\n",
    "| IV | 9 | 0.3 |\n",
    "| IV | 10 | 0.1 |\n",
    "| IV | 11 | 0.1 |\n",
    "| IV | 12 | 0.1 |\n",
    "| IV | 13 | 0.3 |\n",
    "| IV | 14 | 0.2 |\n"
   ]
  }
 ],
 "metadata": {
  "kernelspec": {
   "display_name": "Python 3.10.7 64-bit",
   "language": "python",
   "name": "python3"
  },
  "language_info": {
   "codemirror_mode": {
    "name": "ipython",
    "version": 3
   },
   "file_extension": ".py",
   "mimetype": "text/x-python",
   "name": "python",
   "nbconvert_exporter": "python",
   "pygments_lexer": "ipython3",
   "version": "3.10.7"
  },
  "orig_nbformat": 4,
  "vscode": {
   "interpreter": {
    "hash": "59c2697042bf23f669049604bc51c7fdaddd84c684e590656d4c80c751d79f30"
   }
  }
 },
 "nbformat": 4,
 "nbformat_minor": 2
}
