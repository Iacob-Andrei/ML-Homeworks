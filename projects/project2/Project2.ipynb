{
 "cells": [
  {
   "cell_type": "markdown",
   "metadata": {},
   "source": [
    "# Project 2 - Machine Learning, Fall 2022\n",
    "\n",
    "Deadline: 11th of December 2022, 23:59\n",
    "\n",
    "To do this project you have to complete this Jupyter notebook and send it via Discord.\n",
    "\n",
    "The total number of points allocated for this project is 10.\n",
    "\n",
    "You will need the following modules to solve the tasks:"
   ]
  },
  {
   "cell_type": "code",
   "execution_count": 2,
   "metadata": {},
   "outputs": [],
   "source": [
    "import math\n",
    "from pprint import pprint\n",
    "\n",
    "import matplotlib.pyplot as plt\n",
    "import numpy as np\n",
    "import pandas as pd\n",
    "from sklearn.neighbors import KNeighborsClassifier\n",
    "from itertools import product\n",
    "from sklearn.naive_bayes import BernoulliNB"
   ]
  },
  {
   "cell_type": "code",
   "execution_count": 3,
   "metadata": {},
   "outputs": [
    {
     "name": "stdout",
     "output_type": "stream",
     "text": [
      "   sex  island  bill_length_mm  bill_depth_mm  flipper_length_mm  body_mass_g  \\\n",
      "0    0       2            39.1           18.7              181.0       3750.0   \n",
      "1    1       2            39.5           17.4              186.0       3800.0   \n",
      "2    1       2            40.3           18.0              195.0       3250.0   \n",
      "3    1       2            36.7           19.3              193.0       3450.0   \n",
      "4    0       2            39.3           20.6              190.0       3650.0   \n",
      "\n",
      "   species  \n",
      "0        1  \n",
      "1        1  \n",
      "2        1  \n",
      "3        1  \n",
      "4        1  \n",
      "   sex  island  species\n",
      "0    0       2        1\n",
      "1    1       2        1\n",
      "2    1       2        1\n",
      "3    1       2        1\n",
      "4    0       2        1\n"
     ]
    }
   ],
   "source": [
    "penguin_dataset = pd.read_csv(\"data/penguins_filtered.csv\")\n",
    "\n",
    "penguin_dataset = penguin_dataset.replace({\n",
    "    \"Adelie\": 1,\n",
    "    \"Chinstrap\" : 2,\n",
    "    \"Gentoo\": 3,\n",
    "    \"male\" : 0,\n",
    "    \"female\" : 1,\n",
    "    \"Biscoe\" : 0,\n",
    "    \"Dream\" : 1,\n",
    "    \"Torgersen\" : 2})\n",
    "\n",
    "discrete_penguin_dataset = penguin_dataset[[\"sex\", \"island\", \"species\"]]\n",
    "print(penguin_dataset.head())\n",
    "print(discrete_penguin_dataset.head())"
   ]
  },
  {
   "cell_type": "markdown",
   "metadata": {},
   "source": [
    "## I. Naive and Joint Bayes (3.5 points; 0.15 bonus per week)"
   ]
  },
  {
   "cell_type": "markdown",
   "metadata": {},
   "source": [
    "1. Calculate the prior probabilities for the target feature. Transform them by applying the natural logarithm. "
   ]
  },
  {
   "cell_type": "code",
   "execution_count": 4,
   "metadata": {},
   "outputs": [
    {
     "data": {
      "text/plain": [
       "[-0.8245358682721073, -1.5886347848043372, -1.0290189968689145]"
      ]
     },
     "execution_count": 4,
     "metadata": {},
     "output_type": "execute_result"
    }
   ],
   "source": [
    "# solution here\n",
    "def prior_probability_target(dataset, target):\n",
    "    prob = [ list(dataset[target]).count(val) / len(dataset[target]) for val in np.unique(dataset[target])]\n",
    "    prob = list(map(lambda x: math.log(x), prob))\n",
    "    return prob\n",
    "\n",
    "prior_probability_target(penguin_dataset, 'species')"
   ]
  },
  {
   "cell_type": "markdown",
   "metadata": {},
   "source": [
    "2. Write the formulas used to calculate the maximum aposteriori probability using Naive Bayes and Joint Bayes. Use the names of the variables from the discrete penguin dataset."
   ]
  },
  {
   "cell_type": "markdown",
   "metadata": {},
   "source": [
    "*Answer here*:\n",
    "\n",
    "**Naive Bayes:** \n",
    "* s = argmax P(sex|species = s) * P(island|species = s) * P(species = s)\n",
    "\n",
    "**Joint Bayes:** \n",
    "* s = argmax P(sex, island | species = s) * P(species = s)"
   ]
  },
  {
   "cell_type": "markdown",
   "metadata": {},
   "source": [
    "3. Find and calculate the logarithm of all the conditional probabilities (also names likelihoods) used to predict the label for the instance `{\"sex\" : 1, \"island\" : 2}` in Naive Bayes."
   ]
  },
  {
   "cell_type": "code",
   "execution_count": 5,
   "metadata": {},
   "outputs": [
    {
     "data": {
      "text/plain": [
       "[[0.5, 0.3219178082191781], [0.5, 0.0], [0.48739495798319327, 0.0]]"
      ]
     },
     "execution_count": 5,
     "metadata": {},
     "output_type": "execute_result"
    }
   ],
   "source": [
    "# solution here\n",
    "def likelihoods(dataset, target, sex_value, island_value):\n",
    "    probabilities = list()\n",
    "\n",
    "    for species_value in np.unique(dataset[target]):\n",
    "        ds = dataset[dataset[target] == species_value].reset_index(drop=True)\n",
    "\n",
    "        sex_count = list(ds['sex']).count(sex_value)\n",
    "        island_count = list(ds['island']).count(island_value)\n",
    "        species_count = list(dataset[target]).count(species_value)\n",
    "\n",
    "        probabilities.append([sex_count/species_count, island_count/species_count])\n",
    "    return probabilities\n",
    "\n",
    "likelihoods(discrete_penguin_dataset, 'species', 1, 2)"
   ]
  },
  {
   "cell_type": "markdown",
   "metadata": {},
   "source": [
    "4. Why does the results contain infinity? Fix the calculation by using the Laplace Smoothing with `alpha = 1`."
   ]
  },
  {
   "cell_type": "code",
   "execution_count": 6,
   "metadata": {},
   "outputs": [
    {
     "data": {
      "text/plain": [
       "[[-0.6931471805599453, -1.1327452950375683],\n",
       " [-0.6931471805599453, -4.2626798770413155],\n",
       " [-0.7182531016910216, -4.804021044733257]]"
      ]
     },
     "execution_count": 6,
     "metadata": {},
     "output_type": "execute_result"
    }
   ],
   "source": [
    "# solution here\n",
    "def likelihoods_laplace(dataset, target, sex_value, island_value, alpha = 1):\n",
    "    probabilities = list()\n",
    "\n",
    "    for species_value in np.unique(dataset[target]):\n",
    "        ds = dataset[dataset[target] == species_value].reset_index(drop=True)\n",
    "\n",
    "        sex_count = list(ds['sex']).count(sex_value) + alpha\n",
    "        island_count = list(ds['island']).count(island_value) + alpha\n",
    "        species_count = len(ds['species'])\n",
    "\n",
    "        probabilities.append ([math.log(sex_count    / (species_count + alpha*len(np.unique(dataset['sex'])))),\n",
    "                               math.log(island_count / (species_count + alpha*len(np.unique(dataset['island']))))] )\n",
    "    return probabilities\n",
    "\n",
    "likelihoods_laplace(discrete_penguin_dataset, 'species', 1, 2)"
   ]
  },
  {
   "cell_type": "markdown",
   "metadata": {},
   "source": [
    "5. Calculate the aposteriori probabilities of the labels and decide which label will Naive Bayes predict for the instance. Use only the logarithm values."
   ]
  },
  {
   "cell_type": "code",
   "execution_count": 7,
   "metadata": {},
   "outputs": [
    {
     "data": {
      "text/plain": [
       "[(1, -0.6473919289272929), (2, -4.693882863131364), (3, -3.550633152185177)]"
      ]
     },
     "execution_count": 7,
     "metadata": {},
     "output_type": "execute_result"
    }
   ],
   "source": [
    "# solution here\n",
    "def aposteriori(dataset, target, sex_value, island_value):\n",
    "    priori = prior_probability_target(dataset, target)\n",
    "    likelihood = likelihoods_laplace(dataset, target, sex_value, island_value)\n",
    "    \n",
    "    prod = list()\n",
    "    for index in range(len(priori)):\n",
    "        prod.append( (index + 1, np.prod(likelihood[index]) * priori[index]) )\n",
    "    return prod\n",
    "    \n",
    "aposteriori(discrete_penguin_dataset, 'species', 1 , 2)"
   ]
  },
  {
   "cell_type": "markdown",
   "metadata": {},
   "source": [
    "6. **Naive Bayes implemenation**: write a function called `naive_bayes` that takes three arguments:\n",
    "- `df`: the dataframe which will be used for training\n",
    "- `index_target`: the index of the column associated with the target feature\n",
    "- `alpha`: the parameter used for Laplace Smoothing\n",
    "\n",
    "The function should return a dictionary with the following fields:\n",
    "- `log_prior`: the logarithmic values of the prior probabilities (the probability of the labels)\n",
    "- `log_likelihoods`: a n x m x t array, where n - the number of features; m - the number of labels; t - the number of values for a feature; this array will contain the logarithmic values of the likelihoods (P(feature = value | target_feature = label))\n",
    "- `n_classes`: the number of labels\n",
    "- `n_feature_classes`: a vector that contains the number of unique values for each attribute\n",
    "- `classes`: the name of the labels (the values of the target feature)."
   ]
  },
  {
   "cell_type": "code",
   "execution_count": 8,
   "metadata": {},
   "outputs": [
    {
     "data": {
      "text/plain": [
       "{'log_prior': [-0.8245358682721073, -1.5886347848043372, -1.0290189968689145],\n",
       " 'log_likelihoods': 'pass',\n",
       " 'n_classes': array([1, 2, 3], dtype=int64),\n",
       " 'n_feature_classes': [[0, 1], [0, 1, 2]],\n",
       " 'classes': [1, 2, 3]}"
      ]
     },
     "execution_count": 8,
     "metadata": {},
     "output_type": "execute_result"
    }
   ],
   "source": [
    "def naive_bayes(df, index_target = -1, alpha = 1e-10):\n",
    "    target = df.columns[index_target]\n",
    "    output = dict()\n",
    "    output['log_prior'] = prior_probability_target(df, target)\n",
    "    output['log_likelihoods'] = 'pass'\n",
    "    output['n_classes'] = np.unique(df[target])\n",
    "    output['n_feature_classes'] = [ list(np.unique(df[col])) for col in df.columns[:-1] ]\n",
    "    output['classes'] = list(np.unique(df[target]))\n",
    "\n",
    "    return output\n",
    "\n",
    "naive_bayes(discrete_penguin_dataset)"
   ]
  },
  {
   "cell_type": "markdown",
   "metadata": {},
   "source": [
    "7. Train the discrete penguin dataset using your version of Naive Bayes and sklearn's. Compare the values of the parameters.(Be careful at what type of Naive Bayes classifier you pick from sklearn!)"
   ]
  },
  {
   "cell_type": "code",
   "execution_count": 9,
   "metadata": {},
   "outputs": [
    {
     "name": "stdout",
     "output_type": "stream",
     "text": [
      "[[6.00000000e-01 4.00000000e-01 5.73405833e-13]]\n"
     ]
    }
   ],
   "source": [
    "# solution here\n",
    "X = discrete_penguin_dataset[['sex','island']]\n",
    "y = discrete_penguin_dataset['species']\n",
    "cl = BernoulliNB(alpha=1e-10).fit(X, y)\n",
    "\n",
    "new_messages = pd.DataFrame(\n",
    "  [(1, 2)],\n",
    "columns = ['sex','island'])\n",
    "\n",
    "# print(cl.class_log_prior_)\n",
    "# print(cl.feature_log_prob_)\n",
    "# print(cl.predict(new_messages), '\\n', cl.predict_proba(new_messages))\n",
    "\n",
    "print(cl.predict_proba(new_messages))"
   ]
  },
  {
   "cell_type": "markdown",
   "metadata": {},
   "source": [
    "8. Create a function named `nb_predict_prob` that uses the log probabilities calculated by Naive Bayes to infer the aposteriori probability of a new instance `X`."
   ]
  },
  {
   "cell_type": "code",
   "execution_count": 10,
   "metadata": {},
   "outputs": [],
   "source": [
    "def nb_predict_prob(nb_dict, X, use_log = False):\n",
    "    pass"
   ]
  },
  {
   "cell_type": "markdown",
   "metadata": {},
   "source": [
    "9. Create a function that does the Naive Bayes prediction using the Maximum Aposteriori Probability."
   ]
  },
  {
   "cell_type": "code",
   "execution_count": 11,
   "metadata": {},
   "outputs": [],
   "source": [
    "def nb_predict(nb_dict, X):\n",
    "    pass"
   ]
  },
  {
   "cell_type": "markdown",
   "metadata": {},
   "source": [
    "10. Create a function that calculate the accuracy of the trained model on a set of instances `X` with known labels `y`."
   ]
  },
  {
   "cell_type": "code",
   "execution_count": 12,
   "metadata": {},
   "outputs": [],
   "source": [
    "def nb_score(nb_dict, X, y):\n",
    "    pass"
   ]
  },
  {
   "cell_type": "markdown",
   "metadata": {},
   "source": [
    "11. Calculate the training accuracy of your Naive Bayes algorithm. Explain the results."
   ]
  },
  {
   "cell_type": "code",
   "execution_count": 13,
   "metadata": {},
   "outputs": [],
   "source": [
    "# solution here"
   ]
  },
  {
   "cell_type": "markdown",
   "metadata": {},
   "source": [
    "12. Find and calculate all the conditional probabilities (also names likelihoods) used to predict the label for the instance `{\"sex\" : 1, \"island\" : 2}` in Joint Bayes. (*Hint*: panda's query function might provide itself useful.)"
   ]
  },
  {
   "cell_type": "code",
   "execution_count": 14,
   "metadata": {},
   "outputs": [],
   "source": [
    "# solution here"
   ]
  },
  {
   "cell_type": "markdown",
   "metadata": {},
   "source": [
    "13. Calculate the aposteriori probabilities of the labels and decide which label will Joint Bayes predict for the instance. Use the conditional and prior probabilities (*not* the logarithmic values)."
   ]
  },
  {
   "cell_type": "code",
   "execution_count": 15,
   "metadata": {},
   "outputs": [],
   "source": [
    "# solution here"
   ]
  },
  {
   "cell_type": "markdown",
   "metadata": {},
   "source": [
    "14. **Joint Bayes implemenation**: write a function called `joint_bayes` that takes two arguments:\n",
    "- `df`: the dataframe which will be used for training\n",
    "- `index_target`: the index of the column associated with the target feature\n",
    "\n",
    "The function should return a dictionary with the following fields:\n",
    "- `prior_probs`: the prior probabilities (the probability of the labels)\n",
    "- `likelihoods`: a n x m array, where n - the number of labels; m - the number of combination between the values of the features; each label will have assigned a list containing the joint probability P(feature_1 = value_1, feature_2 = value_2, ...,  feature_n = value_n | target_feature = label)\n",
    "- `n_classes`: the number of labels\n",
    "- `n_feature_classes`: a vector that contains the number of unique values for each attribute\n",
    "- `classes`: the name of the labels (the values of the target feature).\n",
    "\n",
    "*Hint*: check the imports from the first cell of this notebook."
   ]
  },
  {
   "cell_type": "code",
   "execution_count": 16,
   "metadata": {},
   "outputs": [],
   "source": [
    "def joint_bayes(df, index_target = -1):\n",
    "    pass"
   ]
  },
  {
   "cell_type": "markdown",
   "metadata": {},
   "source": [
    "15. Train the Joint Bayes algorithm on the discrete penguin dataset. Print the obtained dictionary."
   ]
  },
  {
   "cell_type": "code",
   "execution_count": 17,
   "metadata": {},
   "outputs": [],
   "source": [
    "# solution here"
   ]
  },
  {
   "cell_type": "markdown",
   "metadata": {},
   "source": [
    "16. Similarly to Naive Bayes, write the functions used to predict the aposteriori probabilities, the label and the accuracy of the Joint Bayes algorithm."
   ]
  },
  {
   "cell_type": "code",
   "execution_count": 18,
   "metadata": {},
   "outputs": [],
   "source": [
    "def jb_predict_prob(jb_dict, X):\n",
    "    pass\n",
    "\n",
    "def jb_predict(jb_dict, X):\n",
    "    pass\n",
    "\n",
    "def jb_score(jb_dict, X, y):\n",
    "    pass"
   ]
  },
  {
   "cell_type": "markdown",
   "metadata": {},
   "source": [
    "\n",
    "17. Calculate the training accuracy of your Joint Bayes algorithm. "
   ]
  },
  {
   "cell_type": "code",
   "execution_count": 19,
   "metadata": {},
   "outputs": [],
   "source": [
    "# solution here"
   ]
  },
  {
   "cell_type": "markdown",
   "metadata": {},
   "source": [
    "## II. kNN (2 points; 0.15 bonus per week)"
   ]
  },
  {
   "cell_type": "markdown",
   "metadata": {},
   "source": [
    "For this section we will use the entire `penguin_dataset`."
   ]
  },
  {
   "cell_type": "markdown",
   "metadata": {},
   "source": [
    "1. Calculate the Euclidean distance between the test instance `{\"sex\" : 1, \"island\" : 2, \"bill_length\" : 20, \"bill_depth\" : 40, \"flipper_length\" : 355, \"body_mass\" : 855}` and the instances from the dataset. Store the values in an object called `instance_distance`. Print the average distance. (*Hint*: check the norm function from the numpy package.)"
   ]
  },
  {
   "cell_type": "code",
   "execution_count": 25,
   "metadata": {},
   "outputs": [
    {
     "name": "stdout",
     "output_type": "stream",
     "text": [
      "6121.9037464596395\n",
      "   sex  island  bill_length_mm  bill_depth_mm  flipper_length_mm  body_mass_g\n",
      "0    0       2            39.1           18.7              181.0       3750.0\n",
      "1    1       2            39.5           17.4              186.0       3800.0\n",
      "2    1       2            40.3           18.0              195.0       3250.0\n",
      "3    1       2            36.7           19.3              193.0       3450.0\n",
      "4    0       2            39.3           20.6              190.0       3650.0\n"
     ]
    }
   ],
   "source": [
    "# solution here\n",
    "from numpy.linalg import norm\n",
    "\n",
    "def distances(dataset, test, p):\n",
    "    instance_distance = list()\n",
    "    for index in range(len(dataset)):\n",
    "        line = dataset[list(dataset.columns[:-1])].loc[index]\n",
    "        instance_distance.append( (dataset.loc[index], norm(test - line, p)) )\n",
    "\n",
    "    instance_distance.sort(key=lambda x: x[1])\n",
    "    return instance_distance"
   ]
  },
  {
   "cell_type": "markdown",
   "metadata": {},
   "source": [
    "2. Find the `5` nearest neighbours of the test instance."
   ]
  },
  {
   "cell_type": "code",
   "execution_count": 20,
   "metadata": {},
   "outputs": [
    {
     "data": {
      "text/plain": [
       "[(sex                     1.0\n",
       "  island                  1.0\n",
       "  bill_length_mm         46.9\n",
       "  bill_depth_mm          16.6\n",
       "  flipper_length_mm     192.0\n",
       "  body_mass_g          2700.0\n",
       "  species                 2.0\n",
       "  Name: 303, dtype: float64,\n",
       "  1852.5296677786296),\n",
       " (sex                     1.0\n",
       "  island                  0.0\n",
       "  bill_length_mm         36.4\n",
       "  bill_depth_mm          17.1\n",
       "  flipper_length_mm     184.0\n",
       "  body_mass_g          2850.0\n",
       "  species                 1.0\n",
       "  Name: 58, dtype: float64,\n",
       "  2002.5142621214961),\n",
       " (sex                     1.0\n",
       "  island                  0.0\n",
       "  bill_length_mm         36.5\n",
       "  bill_depth_mm          16.6\n",
       "  flipper_length_mm     181.0\n",
       "  body_mass_g          2850.0\n",
       "  species                 1.0\n",
       "  Name: 52, dtype: float64,\n",
       "  2002.7792714126037),\n",
       " (sex                     1.0\n",
       "  island                  2.0\n",
       "  bill_length_mm         38.6\n",
       "  bill_depth_mm          17.0\n",
       "  flipper_length_mm     188.0\n",
       "  body_mass_g          2900.0\n",
       "  species                 1.0\n",
       "  Name: 110, dtype: float64,\n",
       "  2052.020701649961),\n",
       " (sex                     1.0\n",
       "  island                  0.0\n",
       "  bill_length_mm         34.5\n",
       "  bill_depth_mm          18.1\n",
       "  flipper_length_mm     187.0\n",
       "  body_mass_g          2900.0\n",
       "  species                 1.0\n",
       "  Name: 48, dtype: float64,\n",
       "  2052.0582009290088)]"
      ]
     },
     "execution_count": 20,
     "metadata": {},
     "output_type": "execute_result"
    }
   ],
   "source": [
    "# solution here\n",
    "first_five = distances(penguin_dataset, [1, 2, 20, 40, 355, 855], 2)[:5]\n",
    "first_five"
   ]
  },
  {
   "cell_type": "markdown",
   "metadata": {},
   "source": [
    "3. Determine the probabilities of the labels that kNN would assign for this test instance (`k = 5`). Which label has the highest probability?"
   ]
  },
  {
   "cell_type": "code",
   "execution_count": 21,
   "metadata": {},
   "outputs": [
    {
     "data": {
      "text/plain": [
       "[0.8, 0.2, 0.0]"
      ]
     },
     "execution_count": 21,
     "metadata": {},
     "output_type": "execute_result"
    }
   ],
   "source": [
    "# solution here\n",
    "def prob_no_weights(dataset, target, k, test_x, p):\n",
    "    first_k = distances(penguin_dataset, test_x, p)[:k]\n",
    "    prob_labels = [0] * len(np.unique(dataset[target]))\n",
    "    for index in range(len(first_k)):\n",
    "        label = int(first_k[index][0]['species'])\n",
    "        prob_labels[label- 1] = prob_labels[label - 1] + 1\n",
    "\n",
    "    prob_labels = list(map(lambda x: x / k, prob_labels))\n",
    "    return prob_labels\n",
    "\n",
    "prob_no_weights(penguin_dataset, 'species', 5, [1, 2, 20, 40, 355, 855], 2)\n"
   ]
  },
  {
   "cell_type": "markdown",
   "metadata": {},
   "source": [
    "4. Suppose that kNN gives for each neighbour a weight that is equal to the inverse of the distance. Print the changed probabilities, as well as the label predicted by kNN."
   ]
  },
  {
   "cell_type": "code",
   "execution_count": 22,
   "metadata": {},
   "outputs": [
    {
     "data": {
      "text/plain": [
       "[0.7852063478657878, 0.2147936521342122, 0.0]"
      ]
     },
     "execution_count": 22,
     "metadata": {},
     "output_type": "execute_result"
    }
   ],
   "source": [
    "def prob_with_weights(dataset, target, k, test_x, p):\n",
    "    first_k = distances(penguin_dataset, test_x, p)[:k]\n",
    "    prob_labels = [0] * len(np.unique(dataset[target]))\n",
    "    weights = 0\n",
    "    for index in range(len(first_k)):\n",
    "        label = int(first_k[index][0]['species'])\n",
    "        distance = first_k[index][1]\n",
    "        prob_labels[label- 1] = prob_labels[label - 1] + distance**(-1)\n",
    "        weights = weights + distance**(-1)\n",
    "\n",
    "    prob_labels = list(map(lambda x: x / weights, prob_labels))\n",
    "    return prob_labels\n",
    "\n",
    "prob_with_weights(penguin_dataset, 'species', 5, [1, 2, 20, 40, 355, 855], 2)"
   ]
  },
  {
   "cell_type": "markdown",
   "metadata": {},
   "source": [
    "5. **k-NN implementation**: Create a function `knn_predict_prob` that will take six arguments:\n",
    "- `df`: the dataframe containing the features and the target feature\n",
    "- `test_x`: a list with the attributes observed for *one* instance\n",
    "- `k`: the number of nearest neighbours\n",
    "- `use_weights`: boolean value that indicates whether to assign weights based on the inverse of the distance or not\n",
    "- `p`: either an integer, indicating the order of the Minkowski distance (p=2 is the equivalent for Euclidean) or a custom distance function\n",
    "- `index_target`: the index of the column that contains the labels of the target feature\n",
    "\n",
    "The function should:\n",
    "- calculate the distance between `test_x` and the observations from the dataset\n",
    "- extract the k-nearest neighbours\n",
    "- calculate the weight for each label\n",
    "- normalize the weights to become probabilities\n",
    "- return the probability vector, that will indicate the probability of the instance `test_x` to have the label `i`."
   ]
  },
  {
   "cell_type": "code",
   "execution_count": 23,
   "metadata": {},
   "outputs": [
    {
     "data": {
      "text/plain": [
       "[0.7852063478657878, 0.2147936521342122, 0.0]"
      ]
     },
     "execution_count": 23,
     "metadata": {},
     "output_type": "execute_result"
    }
   ],
   "source": [
    "def knn_predict_prob(df, test_x, k, use_weights = True, p = 2, index_target = -1):\n",
    "   target = df.columns[index_target]\n",
    "   if use_weights:\n",
    "      return prob_with_weights(df, target, k, test_x, p)\n",
    "   else:\n",
    "      return prob_no_weights(df, target, k, test_x, p)\n",
    "\n",
    "knn_predict_prob(penguin_dataset, [1, 2, 20, 40, 355, 855], 5, True, 2, -1)"
   ]
  },
  {
   "cell_type": "markdown",
   "metadata": {},
   "source": [
    "6. Write a function that, based on the probabilities calculated above, returns the label with the highest probability."
   ]
  },
  {
   "cell_type": "code",
   "execution_count": 24,
   "metadata": {},
   "outputs": [
    {
     "data": {
      "text/plain": [
       "1"
      ]
     },
     "execution_count": 24,
     "metadata": {},
     "output_type": "execute_result"
    }
   ],
   "source": [
    "def knn_predict(df, test_x, k, use_weights = True, p = 2, index_target = -1):\n",
    "    probabilities = knn_predict_prob(df, test_x, k, use_weights, p, index_target)\n",
    "    max_value = max(probabilities)\n",
    "    return probabilities.index(max_value) + 1\n",
    "\n",
    "knn_predict(penguin_dataset, [1, 2, 20, 40, 355, 855], 5, True, 2, -1)"
   ]
  },
  {
   "cell_type": "markdown",
   "metadata": {},
   "source": [
    "7. Calculate the probabilities and the predicted label for the instance from exercise 1 using the following configurations:\n",
    "- `k = 11, unweighted, Euclidean distance`\n",
    "- `k = 11, weighted, Euclidean distance`\n",
    "- `k = 11, unweighted, Manhattan distance`\n",
    "- `k = 11, weighted, Manhattan distance`\n",
    "\n",
    "Compare your results with the results obtained by the `sklearn` implementation."
   ]
  },
  {
   "cell_type": "code",
   "execution_count": 25,
   "metadata": {},
   "outputs": [
    {
     "name": "stdout",
     "output_type": "stream",
     "text": [
      "k = 11, unweighted, Euclidean distance: 1\n",
      "k = 11, weighted, Euclidean distance: 1\n",
      "k = 11, unweighted, Manhattan distance: 1\n",
      "k = 11, weighted, Manhattan distance: 1\n"
     ]
    }
   ],
   "source": [
    "# solution here\n",
    "print(f'k = 11, unweighted, Euclidean distance: {knn_predict(penguin_dataset, [1, 2, 20, 40, 355, 855], 11, False, 2, -1)}')\n",
    "print(f'k = 11, weighted, Euclidean distance: {knn_predict(penguin_dataset, [1, 2, 20, 40, 355, 855], 11, True, 2, -1)}')\n",
    "print(f'k = 11, unweighted, Manhattan distance: {knn_predict(penguin_dataset, [1, 2, 20, 40, 355, 855], 11, False, 1, -1)}')\n",
    "print(f'k = 11, weighted, Manhattan distance: {knn_predict(penguin_dataset, [1, 2, 20, 40, 355, 855], 11, True, 1, -1)}')"
   ]
  },
  {
   "cell_type": "markdown",
   "metadata": {},
   "source": [
    "8. Write a function that calculates the accuracy of the kNN algorithm."
   ]
  },
  {
   "cell_type": "code",
   "execution_count": 30,
   "metadata": {},
   "outputs": [
    {
     "data": {
      "text/plain": [
       "0.924924924924925"
      ]
     },
     "execution_count": 30,
     "metadata": {},
     "output_type": "execute_result"
    }
   ],
   "source": [
    "def knn_score(df, test_x, test_y, k, use_weights = True, p = 2, index_target = -1):\n",
    "    count = 0\n",
    "\n",
    "    for index in range(len(test_x)):\n",
    "        attr = list(test_x.loc[index])\n",
    "        trg = test_y.loc[index]\n",
    "        predicted = knn_predict(df, attr, k, use_weights, p, index_target)\n",
    "        if predicted == trg:\n",
    "            count += 1\n",
    "    return count/len(test_y)\n",
    "\n",
    "test_x = penguin_dataset[list(penguin_dataset.columns[:-1])]\n",
    "test_y = penguin_dataset[penguin_dataset.columns[-1]]\n",
    "knn_score(penguin_dataset, test_x, test_y, 3, False, 1, -1)"
   ]
  },
  {
   "cell_type": "markdown",
   "metadata": {},
   "source": [
    "9. What is the training accuracy of the unweighted kNN when k varies from 3 to 15? (use only odd numbers). Does adding the weight / changing the distance metric improve the score? Justify."
   ]
  },
  {
   "cell_type": "code",
   "execution_count": 31,
   "metadata": {},
   "outputs": [
    {
     "name": "stdout",
     "output_type": "stream",
     "text": [
      "k = 3 p = 1: 0.924924924924925\n",
      "k = 3 p = 2: 0.9159159159159159\n",
      "k = 5 p = 1: 0.8378378378378378\n",
      "k = 5 p = 2: 0.8378378378378378\n",
      "k = 7 p = 1: 0.8498498498498499\n",
      "k = 7 p = 2: 0.8438438438438438\n",
      "k = 9 p = 1: 0.8228228228228228\n",
      "k = 9 p = 2: 0.8138138138138138\n",
      "k = 11 p = 1: 0.8078078078078078\n",
      "k = 11 p = 2: 0.8018018018018018\n",
      "k = 13 p = 1: 0.8228228228228228\n",
      "k = 13 p = 2: 0.8198198198198198\n",
      "k = 15 p = 1: 0.7897897897897898\n",
      "k = 15 p = 2: 0.7897897897897898\n"
     ]
    }
   ],
   "source": [
    "# solution here\n",
    "for k in range(3,16,2):\n",
    "    print(f'k = {k} p = 1: {knn_score(penguin_dataset, test_x, test_y, k, False, 1, -1)}')\n",
    "    print(f'k = {k} p = 2: {knn_score(penguin_dataset, test_x, test_y, k, False, 2, -1)}')"
   ]
  },
  {
   "cell_type": "markdown",
   "metadata": {},
   "source": [
    "## III. AdaBoost (3 points; 0.25 bonus per week)"
   ]
  },
  {
   "cell_type": "markdown",
   "metadata": {},
   "source": [
    "## IV. Testing the performance (1.5 points; 0.1 bonus per week)"
   ]
  },
  {
   "cell_type": "markdown",
   "metadata": {},
   "source": [
    "# Exercise grading\n",
    "\n",
    "| Section | Exercise | Points |\n",
    "| --- | --- | --- |\n",
    "| I |\t1 | \t0.1 |\n",
    "| I |\t2 | \t0.1 |\n",
    "| I |\t3 | \t0.25 |\n",
    "| I |\t4 | \t0.25 |\n",
    "| I |\t5 | \t0.15 |\n",
    "| I |\t6 | \t0.65 |\n",
    "| I |\t7 | \t0.1 |\n",
    "| I |\t8 | \t0.25 |\n",
    "| I |\t9 | \t0.15 |\n",
    "| I |\t10 | \t0.1 |\n",
    "| I |\t11 | \t0.1 |\n",
    "| I |\t12 | \t0.1 |\n",
    "| I |\t13 | \t0.15 |\n",
    "| I |\t14 | \t0.65 |\n",
    "| I |\t15 | \t0.1 |\n",
    "| I |\t16 | \t0.2 |\n",
    "| I |\t17 | \t0.1 |\n",
    "|II | \t1 | \t0.2 |\n",
    "|II | \t2 | \t0.1 |\n",
    "|II | \t3 | \t0.15 |\n",
    "|II | \t4 | \t0.2 |\n",
    "|II | \t5 | \t0.72 |\n",
    "|II | \t6 | \t0.1 |\n",
    "|II | \t7 | \t0.28 |\n",
    "|II | \t8 | \t0.1 |\n",
    "|II | \t9 | \t0.15 |\n"
   ]
  }
 ],
 "metadata": {
  "kernelspec": {
   "display_name": "Python 3.10.7 64-bit",
   "language": "python",
   "name": "python3"
  },
  "language_info": {
   "codemirror_mode": {
    "name": "ipython",
    "version": 3
   },
   "file_extension": ".py",
   "mimetype": "text/x-python",
   "name": "python",
   "nbconvert_exporter": "python",
   "pygments_lexer": "ipython3",
   "version": "3.10.7"
  },
  "orig_nbformat": 4,
  "vscode": {
   "interpreter": {
    "hash": "59c2697042bf23f669049604bc51c7fdaddd84c684e590656d4c80c751d79f30"
   }
  }
 },
 "nbformat": 4,
 "nbformat_minor": 2
}
