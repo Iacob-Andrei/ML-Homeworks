{
 "cells": [
  {
   "cell_type": "markdown",
   "metadata": {},
   "source": [
    "# Project 2 - Machine Learning, Fall 2022\n",
    "\n",
    "Deadline: 11th of December 2022, 23:59\n",
    "\n",
    "To do this project you have to complete this Jupyter notebook and send it via Discord.\n",
    "\n",
    "The total number of points allocated for this project is 10.\n",
    "\n",
    "You will need the following modules to solve the tasks:"
   ]
  },
  {
   "cell_type": "code",
   "execution_count": 1,
   "metadata": {},
   "outputs": [],
   "source": [
    "import math\n",
    "from pprint import pprint\n",
    "\n",
    "import matplotlib.pyplot as plt\n",
    "import numpy as np\n",
    "import pandas as pd\n",
    "from sklearn.neighbors import KNeighborsClassifier\n",
    "from sklearn.ensemble import AdaBoostClassifier\n",
    "from itertools import product"
   ]
  },
  {
   "cell_type": "code",
   "execution_count": 2,
   "metadata": {},
   "outputs": [
    {
     "name": "stdout",
     "output_type": "stream",
     "text": [
      "   sex  island  bill_length_mm  bill_depth_mm  flipper_length_mm  body_mass_g  \\\n",
      "0    0       2            39.1           18.7              181.0       3750.0   \n",
      "1    1       2            39.5           17.4              186.0       3800.0   \n",
      "2    1       2            40.3           18.0              195.0       3250.0   \n",
      "3    1       2            36.7           19.3              193.0       3450.0   \n",
      "4    0       2            39.3           20.6              190.0       3650.0   \n",
      "\n",
      "   species  \n",
      "0        1  \n",
      "1        1  \n",
      "2        1  \n",
      "3        1  \n",
      "4        1  \n",
      "   sex  island  species\n",
      "0    0       2        1\n",
      "1    1       2        1\n",
      "2    1       2        1\n",
      "3    1       2        1\n",
      "4    0       2        1\n"
     ]
    }
   ],
   "source": [
    "penguin_dataset = pd.read_csv(\"data/penguins_filtered.csv\")\n",
    "\n",
    "penguin_dataset = penguin_dataset.replace({\n",
    "    \"Adelie\": 1,\n",
    "    \"Chinstrap\" : 2,\n",
    "    \"Gentoo\": 3,\n",
    "    \"male\" : 0,\n",
    "    \"female\" : 1,\n",
    "    \"Biscoe\" : 0,\n",
    "    \"Dream\" : 1,\n",
    "    \"Torgersen\" : 2})\n",
    "\n",
    "discrete_penguin_dataset = penguin_dataset[[\"sex\", \"island\", \"species\"]]\n",
    "print(penguin_dataset.head())\n",
    "print(discrete_penguin_dataset.head())"
   ]
  },
  {
   "cell_type": "markdown",
   "metadata": {},
   "source": [
    "## I. Naive and Joint Bayes (3.5 points; 0.15 bonus per week)"
   ]
  },
  {
   "cell_type": "markdown",
   "metadata": {},
   "source": [
    "*Note*: Be careful at what Naive Bayes class you use from `sklearn`."
   ]
  },
  {
   "cell_type": "markdown",
   "metadata": {},
   "source": [
    "1. Calculate the prior probabilities for the target feature. Transform them by applying the natural logarithm. "
   ]
  },
  {
   "cell_type": "code",
   "execution_count": 3,
   "metadata": {},
   "outputs": [
    {
     "data": {
      "text/plain": [
       "[-0.8245358682721073, -1.5886347848043372, -1.0290189968689145]"
      ]
     },
     "execution_count": 3,
     "metadata": {},
     "output_type": "execute_result"
    }
   ],
   "source": [
    "# solution here\n",
    "def prior_probability_target(dataset, target):\n",
    "    prob = [ list(dataset[target]).count(val) / len(dataset[target]) for val in np.unique(dataset[target])]\n",
    "    prob = list(map(lambda x: math.log(x), prob))\n",
    "    return prob\n",
    "\n",
    "prior_probability_target(penguin_dataset, 'species')"
   ]
  },
  {
   "cell_type": "markdown",
   "metadata": {},
   "source": [
    "2. Write the formulas used to calculate the maximum aposteriori probability using Naive Bayes and Joint Bayes. Use the names of the variables from the discrete penguin dataset."
   ]
  },
  {
   "cell_type": "markdown",
   "metadata": {},
   "source": [
    "*Answer here*:"
   ]
  },
  {
   "cell_type": "markdown",
   "metadata": {},
   "source": [
    "3. Find and calculate the logarithm of all the conditional probabilities (also names likelihoods) used to predict the label for the instance `{\"sex\" : 1, \"island\" : 2}` in Naive Bayes."
   ]
  },
  {
   "cell_type": "code",
   "execution_count": 4,
   "metadata": {},
   "outputs": [
    {
     "name": "stderr",
     "output_type": "stream",
     "text": [
      "C:\\Users\\aiaco\\AppData\\Local\\Temp\\ipykernel_10448\\3861210417.py:12: RuntimeWarning: divide by zero encountered in log\n",
      "  probabilities.append([np.log(sex_count/species_count), np.log(island_count/species_count)])\n"
     ]
    },
    {
     "data": {
      "text/plain": [
       "[[-0.6931471805599453, -1.133459019998278],\n",
       " [-0.6931471805599453, -inf],\n",
       " [-0.7186804825651101, -inf]]"
      ]
     },
     "execution_count": 4,
     "metadata": {},
     "output_type": "execute_result"
    }
   ],
   "source": [
    "# solution here\n",
    "def likelihoods(dataset, target, sex_value, island_value):\n",
    "    probabilities = list()\n",
    "\n",
    "    for species_value in np.unique(dataset[target]):\n",
    "        ds = dataset[dataset[target] == species_value].reset_index(drop=True)\n",
    "\n",
    "        sex_count = list(ds['sex']).count(sex_value)\n",
    "        island_count = list(ds['island']).count(island_value)\n",
    "        species_count = list(dataset[target]).count(species_value)\n",
    "\n",
    "        probabilities.append([np.log(sex_count/species_count), np.log(island_count/species_count)])\n",
    "    \n",
    "    return probabilities\n",
    "\n",
    "likelihoods(discrete_penguin_dataset, 'species', 1, 2)"
   ]
  },
  {
   "cell_type": "markdown",
   "metadata": {},
   "source": [
    "4. Why does the results contain infinity? Fix the calculation by using the Laplace Smoothing with `alpha = 1`."
   ]
  },
  {
   "cell_type": "code",
   "execution_count": 5,
   "metadata": {},
   "outputs": [
    {
     "data": {
      "text/plain": [
       "[[-0.6931471805599453, -1.1327452950375683],\n",
       " [-0.6931471805599453, -4.2626798770413155],\n",
       " [-0.7182531016910216, -4.804021044733257]]"
      ]
     },
     "execution_count": 5,
     "metadata": {},
     "output_type": "execute_result"
    }
   ],
   "source": [
    "# solution here\n",
    "def likelihoods_laplace(dataset, target, sex_value, island_value, alpha = 1):\n",
    "    probabilities = list()\n",
    "\n",
    "    for species_value in np.unique(dataset[target]):\n",
    "        ds = dataset[dataset[target] == species_value].reset_index(drop=True)\n",
    "\n",
    "        sex_count = list(ds['sex']).count(sex_value) + alpha\n",
    "        island_count = list(ds['island']).count(island_value) + alpha\n",
    "        species_count = len(ds['species'])\n",
    "\n",
    "        probabilities.append ([math.log(sex_count    / (species_count + alpha*len(np.unique(dataset['sex'])))),\n",
    "                               math.log(island_count / (species_count + alpha*len(np.unique(dataset['island']))))] )\n",
    "    return probabilities\n",
    "\n",
    "likelihoods_laplace(discrete_penguin_dataset, 'species', 1, 2)"
   ]
  },
  {
   "cell_type": "markdown",
   "metadata": {},
   "source": [
    "5. Calculate the aposteriori probabilities of the labels and decide which label will Naive Bayes predict for the instance. Use only the logarithm values."
   ]
  },
  {
   "cell_type": "code",
   "execution_count": 6,
   "metadata": {},
   "outputs": [
    {
     "data": {
      "text/plain": [
       "[(1, 0.9609956286737821), (2, 0.019568798053176163), (3, 0.01943557327304175)]"
      ]
     },
     "execution_count": 6,
     "metadata": {},
     "output_type": "execute_result"
    }
   ],
   "source": [
    "# solution here\n",
    "def aposteriori(dataset, target, sex_value, island_value):\n",
    "    priori = prior_probability_target(dataset, target)\n",
    "    likelihood = likelihoods_laplace(dataset, target, sex_value, island_value)\n",
    "    \n",
    "    prod = list()\n",
    "    for index in range(len(priori)):\n",
    "        prod.append( (index + 1, math.exp(sum(likelihood[index], priori[index])) ) )\n",
    "\n",
    "    suma = 0\n",
    "    for index in range(len(prod)):\n",
    "        suma += prod[index][1]\n",
    "\n",
    "    prod = list(map(lambda x: x[1]/suma, prod))\n",
    "    for index in range(3):\n",
    "        prod[index] = (index+1, prod[index])\n",
    "    return prod\n",
    "    \n",
    "aposteriori(discrete_penguin_dataset, 'species', 1 , 2)"
   ]
  },
  {
   "cell_type": "markdown",
   "metadata": {},
   "source": [
    "6. **Naive Bayes implemenation**: write a function called `naive_bayes` that takes three arguments:\n",
    "- `df`: the dataframe which will be used for training\n",
    "- `index_target`: the index of the column associated with the target feature\n",
    "- `alpha`: the parameter used for Laplace Smoothing\n",
    "\n",
    "The function should return a dictionary with the following fields:\n",
    "- `log_prior`: the logarithmic values of the prior probabilities (the probability of the labels)\n",
    "- `log_likelihoods`: a n x m x t array, where n - the number of features; m - the number of labels; t - the number of values for a feature; this array will contain the logarithmic values of the likelihoods (P(feature = value | target_feature = label))\n",
    "- `n_classes`: the number of labels\n",
    "- `n_feature_classes`: a vector that contains the number of unique values for each attribute\n",
    "- `classes`: the name of the labels (the values of the target feature)."
   ]
  },
  {
   "cell_type": "code",
   "execution_count": 7,
   "metadata": {},
   "outputs": [
    {
     "name": "stdout",
     "output_type": "stream",
     "text": [
      "{'classes': 3,\n",
      " 'log_likelihoods': {'island': {0: {1: -1.1972838161751393,\n",
      "                                    2: -4.2626798770413155,\n",
      "                                    3: -0.016529301951210582},\n",
      "                                1: {1: -0.9785946152103099,\n",
      "                                    2: -0.028573372444056,\n",
      "                                    3: -4.804021044733257},\n",
      "                                2: {1: -1.1327452950375683,\n",
      "                                    2: -4.2626798770413155,\n",
      "                                    3: -4.804021044733257}},\n",
      "                     'sex': {0: {1: -0.6931471805599453,\n",
      "                                 2: -0.6931471805599453,\n",
      "                                 3: -0.6686561605516496},\n",
      "                             1: {1: -0.6931471805599453,\n",
      "                                 2: -0.6931471805599453,\n",
      "                                 3: -0.7182531016910216}}},\n",
      " 'log_prior': [-0.8245358682721073, -1.5886347848043372, -1.0290189968689145],\n",
      " 'n_classes': [1, 2, 3],\n",
      " 'n_feature_classes': [[0, 1], [0, 1, 2]]}\n"
     ]
    }
   ],
   "source": [
    "def naive_bayes(df, index_target = -1, alpha = 1):\n",
    "    target = df.columns[index_target]\n",
    "    output = dict()\n",
    "    output['log_prior'] = prior_probability_target(df, target)\n",
    "    output['n_classes'] = list(np.unique(df[target]))\n",
    "    output['n_feature_classes'] = [ list(np.unique(df[col])) for col in df.columns[:-1] ]\n",
    "    output['classes'] = len(np.unique(df[target]))\n",
    "    \n",
    "    sex_list = dict()\n",
    "    for sex in output['n_feature_classes'][0]:\n",
    "        prob = likelihoods_laplace(df, target, sex, 0, alpha)\n",
    "        sex_list[sex] = {1: prob[0][0], 2: prob[1][0], 3: prob[2][0]}\n",
    "\n",
    "    island_list = dict()\n",
    "    for island in output['n_feature_classes'][1]:\n",
    "        prob = likelihoods_laplace(df, target, 0, island, alpha)\n",
    "        island_list[island] = {1: prob[0][1], 2: prob[1][1], 3: prob[2][1]}\n",
    "\n",
    "    \n",
    "    output['log_likelihoods'] = {'sex': sex_list, 'island': island_list}\n",
    "    return output\n",
    "\n",
    "pprint(naive_bayes(discrete_penguin_dataset))"
   ]
  },
  {
   "cell_type": "markdown",
   "metadata": {},
   "source": [
    "7. Train the discrete penguin dataset using your version of Naive Bayes and sklearn's. Compare the values of the parameters.(Be careful at what type of Naive Bayes classifier you pick from sklearn!)"
   ]
  },
  {
   "cell_type": "code",
   "execution_count": 10,
   "metadata": {},
   "outputs": [
    {
     "name": "stdout",
     "output_type": "stream",
     "text": [
      "[array([[-0.69314718, -0.69314718],\n",
      "       [-0.69314718, -0.69314718],\n",
      "       [-0.66865616, -0.7182531 ]]),\n",
      " array([[-1.19728382, -0.97859462, -1.1327453 ],\n",
      "       [-4.26267988, -0.02857337, -4.26267988],\n",
      "       [-0.0165293 , -4.80402104, -4.80402104]])]\n"
     ]
    }
   ],
   "source": [
    "# solution here\n",
    "from sklearn.naive_bayes import CategoricalNB\n",
    "\n",
    "X = discrete_penguin_dataset[['sex','island']]\n",
    "y = discrete_penguin_dataset['species']\n",
    "cl = CategoricalNB(alpha=1).fit(X, y)\n",
    "\n",
    "new_messages = pd.DataFrame(\n",
    "  [(1, 2)],\n",
    "columns = ['sex','island'])\n",
    "\n",
    "pprint(cl.feature_log_prob_)\n",
    "# print(cl.predict(new_messages), '\\n', cl.predict_proba(new_messages))\n",
    "#print(cl.predict_proba(new_messages))"
   ]
  },
  {
   "cell_type": "markdown",
   "metadata": {},
   "source": [
    "8. Create a function named `nb_predict_prob` that uses the log probabilities calculated by Naive Bayes to infer the aposteriori probability of a new instance `X`."
   ]
  },
  {
   "cell_type": "code",
   "execution_count": 10,
   "metadata": {},
   "outputs": [
    {
     "data": {
      "text/plain": [
       "[-2.6504283438696206, -6.544461842405598, -6.551293143293193]"
      ]
     },
     "execution_count": 10,
     "metadata": {},
     "output_type": "execute_result"
    }
   ],
   "source": [
    "def nb_predict_prob(nb_dict, X, use_log = False):\n",
    "    prob = list()\n",
    "    for trg in nb_dict['n_classes']:\n",
    "        prb = nb_dict['log_prior'][trg-1] + nb_dict['log_likelihoods']['sex'][X[0]][trg] + nb_dict['log_likelihoods']['island'][X[1]][trg]\n",
    "        prob.append(prb)\n",
    "\n",
    "    return prob\n",
    "\n",
    "nb_predict_prob(naive_bayes(discrete_penguin_dataset), [1,2], True)"
   ]
  },
  {
   "cell_type": "markdown",
   "metadata": {},
   "source": [
    "9. Create a function that does the Naive Bayes prediction using the Maximum Aposteriori Probability."
   ]
  },
  {
   "cell_type": "code",
   "execution_count": 11,
   "metadata": {},
   "outputs": [
    {
     "data": {
      "text/plain": [
       "1"
      ]
     },
     "execution_count": 11,
     "metadata": {},
     "output_type": "execute_result"
    }
   ],
   "source": [
    "def nb_predict(nb_dict, X):\n",
    "    prob = nb_predict_prob(nb_dict, X)\n",
    "    return prob.index(max(prob)) + 1\n",
    "\n",
    "nb_predict(naive_bayes(discrete_penguin_dataset), [1,2])"
   ]
  },
  {
   "cell_type": "markdown",
   "metadata": {},
   "source": [
    "10. Create a function that calculate the accuracy of the trained model on a set of instances `X` with known labels `y`."
   ]
  },
  {
   "cell_type": "code",
   "execution_count": 12,
   "metadata": {},
   "outputs": [],
   "source": [
    "def nb_score(nb_dict, X, y):\n",
    "    ok = 0\n",
    "    for index in range(len(X)):\n",
    "        rez = nb_predict(nb_dict, list(X.loc[index]))\n",
    "        if rez == y.loc[index]:\n",
    "            ok += 1\n",
    "    return ok"
   ]
  },
  {
   "cell_type": "markdown",
   "metadata": {},
   "source": [
    "11. Calculate the training accuracy of your Naive Bayes algorithm. Explain the results."
   ]
  },
  {
   "cell_type": "code",
   "execution_count": 13,
   "metadata": {},
   "outputs": [
    {
     "data": {
      "text/plain": [
       "0.7027027027027027"
      ]
     },
     "execution_count": 13,
     "metadata": {},
     "output_type": "execute_result"
    }
   ],
   "source": [
    "# solution here\n",
    "X = discrete_penguin_dataset[list(discrete_penguin_dataset.columns[:-1])]\n",
    "y = discrete_penguin_dataset[discrete_penguin_dataset.columns[-1]]\n",
    "nb_score(naive_bayes(discrete_penguin_dataset), X, y)/len(discrete_penguin_dataset)"
   ]
  },
  {
   "cell_type": "markdown",
   "metadata": {},
   "source": [
    "12. Find and calculate all the conditional probabilities (also names likelihoods) used to predict the label for the instance `{\"sex\" : 1, \"island\" : 2}` in Joint Bayes. (*Hint*: panda's query function might provide itself useful.)"
   ]
  },
  {
   "cell_type": "code",
   "execution_count": 14,
   "metadata": {},
   "outputs": [
    {
     "data": {
      "text/plain": [
       "[0.1643835616438356, 0.0, 0.0]"
      ]
     },
     "execution_count": 14,
     "metadata": {},
     "output_type": "execute_result"
    }
   ],
   "source": [
    "# solution here\n",
    "def jb_likelihoods(df, sex, island):\n",
    "    cond_prob = list()\n",
    "    for trg in np.unique(df['species']):\n",
    "        filtered = df.query(\"species == @trg\")\n",
    "        likelihoods = filtered.query(\"sex == @sex and island == @island\")\n",
    "        cond_prob.append(len(likelihoods) / len(filtered))\n",
    "    return cond_prob\n",
    "\n",
    "jb_likelihoods(penguin_dataset, 1, 2)"
   ]
  },
  {
   "cell_type": "markdown",
   "metadata": {},
   "source": [
    "13. Calculate the aposteriori probabilities of the labels and decide which label will Joint Bayes predict for the instance. Use the conditional and prior probabilities (*not* the logarithmic values)."
   ]
  },
  {
   "cell_type": "code",
   "execution_count": 15,
   "metadata": {},
   "outputs": [
    {
     "data": {
      "text/plain": [
       "1"
      ]
     },
     "execution_count": 15,
     "metadata": {},
     "output_type": "execute_result"
    }
   ],
   "source": [
    "# solution here\n",
    "def jb_aposteriori(df, sex, island):\n",
    "    prior = prior_probability_target(df, 'species')\n",
    "    prior = list(map(lambda x: math.exp(x), prior))\n",
    "    likelihoods = jb_likelihoods(df, sex, island)\n",
    "\n",
    "    aposteriori = list()\n",
    "    for trg in np.unique(df['species']):\n",
    "        aposteriori.append( prior[trg-1] * likelihoods[trg - 1] )\n",
    "\n",
    "    # print(aposteriori)\n",
    "    return aposteriori.index( max(aposteriori) ) + 1\n",
    "\n",
    "\n",
    "jb_aposteriori(penguin_dataset, 1, 2)"
   ]
  },
  {
   "cell_type": "markdown",
   "metadata": {},
   "source": [
    "14. **Joint Bayes implemenation**: write a function called `joint_bayes` that takes two arguments:\n",
    "- `df`: the dataframe which will be used for training\n",
    "- `index_target`: the index of the column associated with the target feature\n",
    "\n",
    "The function should return a dictionary with the following fields:\n",
    "- `prior_probs`: the prior probabilities (the probability of the labels)\n",
    "- `likelihoods`: a n x m array, where n - the number of labels; m - the number of combination between the values of the features; each label will have assigned a list containing the joint probability P(feature_1 = value_1, feature_2 = value_2, ...,  feature_n = value_n | target_feature = label)\n",
    "- `n_classes`: the number of labels\n",
    "- `n_feature_classes`: a vector that contains the number of unique values for each attribute\n",
    "- `classes`: the name of the labels (the values of the target feature).\n",
    "\n",
    "*Hint*: check the imports from the first cell of this notebook."
   ]
  },
  {
   "cell_type": "code",
   "execution_count": 16,
   "metadata": {},
   "outputs": [],
   "source": [
    "def joint_bayes(df, index_target = -1):\n",
    "    target = df.columns[index_target]\n",
    "    output = dict()\n",
    "    output['prior_probs'] = list(map(lambda x: math.exp(x), prior_probability_target(df, target)))\n",
    "    output['n_classes'] = len(np.unique(df[target]))\n",
    "    output['n_feature_classes'] = [ list(np.unique(df[col])) for col in df.columns[:-1] ]\n",
    "    output['classes'] = list(np.unique(df[target]))\n",
    "\n",
    "    likelihoods = dict()\n",
    "    for sex in np.unique(df['sex']):\n",
    "        for island in np.unique(df['island']):\n",
    "            likelihoods[(sex, island)] = dict()\n",
    "            lk = jb_likelihoods(df, sex, island)\n",
    "            for trg in np.unique(df[target]):\n",
    "                likelihoods[(sex, island)][trg] = lk[trg-1]\n",
    "\n",
    "    output['likelihoods'] = likelihoods\n",
    "\n",
    "    return output"
   ]
  },
  {
   "cell_type": "markdown",
   "metadata": {},
   "source": [
    "15. Train the Joint Bayes algorithm on the discrete penguin dataset. Print the obtained dictionary."
   ]
  },
  {
   "cell_type": "code",
   "execution_count": 17,
   "metadata": {},
   "outputs": [
    {
     "name": "stdout",
     "output_type": "stream",
     "text": [
      "{'classes': [1, 2, 3],\n",
      " 'likelihoods': {(0, 0): {1: 0.1506849315068493, 2: 0.0, 3: 0.5126050420168067},\n",
      "                 (0, 1): {1: 0.1917808219178082, 2: 0.5, 3: 0.0},\n",
      "                 (0, 2): {1: 0.15753424657534246, 2: 0.0, 3: 0.0},\n",
      "                 (1, 0): {1: 0.1506849315068493,\n",
      "                          2: 0.0,\n",
      "                          3: 0.48739495798319327},\n",
      "                 (1, 1): {1: 0.18493150684931506, 2: 0.5, 3: 0.0},\n",
      "                 (1, 2): {1: 0.1643835616438356, 2: 0.0, 3: 0.0}},\n",
      " 'n_classes': 3,\n",
      " 'n_feature_classes': [[0, 1], [0, 1, 2]],\n",
      " 'prior_probs': [0.43843843843843844, 0.20420420420420418, 0.35735735735735735]}\n"
     ]
    }
   ],
   "source": [
    "# solution here\n",
    "jb = joint_bayes(discrete_penguin_dataset)\n",
    "pprint(jb)"
   ]
  },
  {
   "cell_type": "markdown",
   "metadata": {},
   "source": [
    "16. Similarly to Naive Bayes, write the functions used to predict the aposteriori probabilities, the label and the accuracy of the Joint Bayes algorithm."
   ]
  },
  {
   "cell_type": "code",
   "execution_count": 18,
   "metadata": {},
   "outputs": [],
   "source": [
    "def jb_predict_prob(jb_dict, X):\n",
    "    prior = jb_dict['prior_probs']\n",
    "    prob = list()\n",
    "    for trg in jb_dict['classes']:\n",
    "        prob.append( prior[trg-1] * jb_dict['likelihoods'][(X[0], X[1])][trg] )\n",
    "    return prob\n",
    "\n",
    "\n",
    "def jb_predict(jb_dict, X):\n",
    "    predicted_prob = jb_predict_prob(jb_dict, X)\n",
    "    return predicted_prob.index( max(predicted_prob) ) + 1\n",
    "\n",
    "\n",
    "def jb_score(jb_dict, X, y):\n",
    "    ok = 0\n",
    "    for index in range(len(X)):\n",
    "        rez = jb_predict(jb_dict, list(X.loc[index]))\n",
    "        if rez == y.loc[index]:\n",
    "            ok += 1\n",
    "    return ok\n",
    "\n",
    "# jb_predict(jb, [1,2])\n"
   ]
  },
  {
   "cell_type": "markdown",
   "metadata": {},
   "source": [
    "\n",
    "17. Calculate the training accuracy of your Joint Bayes algorithm. "
   ]
  },
  {
   "cell_type": "code",
   "execution_count": 19,
   "metadata": {},
   "outputs": [
    {
     "data": {
      "text/plain": [
       "0.7027027027027027"
      ]
     },
     "execution_count": 19,
     "metadata": {},
     "output_type": "execute_result"
    }
   ],
   "source": [
    "# solution here\n",
    "X = discrete_penguin_dataset[list(discrete_penguin_dataset.columns[:-1])]\n",
    "y = discrete_penguin_dataset[discrete_penguin_dataset.columns[-1]]\n",
    "jb_score(jb, X, y)/len(discrete_penguin_dataset)"
   ]
  },
  {
   "cell_type": "markdown",
   "metadata": {},
   "source": [
    "## II. kNN (2 points; 0.15 bonus per week)"
   ]
  },
  {
   "cell_type": "markdown",
   "metadata": {},
   "source": [
    "For this section we will use the entire `penguin_dataset`."
   ]
  },
  {
   "cell_type": "markdown",
   "metadata": {},
   "source": [
    "1. Calculate the Euclidean distance between the test instance `{\"sex\" : 1, \"island\" : 2, \"bill_length\" : 20, \"bill_depth\" : 40, \"flipper_length\" : 355, \"body_mass\" : 855}` and the instances from the dataset. Store the values in an object called `instance_distance`. Print the average distance. (*Hint*: check the norm function from the numpy package.)"
   ]
  },
  {
   "cell_type": "code",
   "execution_count": 20,
   "metadata": {},
   "outputs": [
    {
     "data": {
      "text/plain": [
       "3356.1302586089714"
      ]
     },
     "execution_count": 20,
     "metadata": {},
     "output_type": "execute_result"
    }
   ],
   "source": [
    "# solution here\n",
    "from numpy.linalg import norm\n",
    "\n",
    "def distances(dataset, test, p):\n",
    "    instance_distance = list(norm(dataset[list(dataset.columns[:-1])] - test,p,axis=1))\n",
    "    for index in range(len(instance_distance)):\n",
    "        instance_distance[index] = (dataset.loc[index]['species'], instance_distance[index] + 10**(-10))\n",
    "    instance_distance.sort(key=lambda x: x[1])\n",
    "    return instance_distance\n",
    "    \n",
    "np.mean(list(map(lambda x: x[1], distances(penguin_dataset, [1, 2, 20, 40, 355, 855], 2))))"
   ]
  },
  {
   "cell_type": "markdown",
   "metadata": {},
   "source": [
    "2. Find the `5` nearest neighbours of the test instance."
   ]
  },
  {
   "cell_type": "code",
   "execution_count": 21,
   "metadata": {},
   "outputs": [
    {
     "data": {
      "text/plain": [
       "[(2.0, 1852.5296677787296),\n",
       " (1.0, 2002.5142621215962),\n",
       " (1.0, 2002.7792714127038),\n",
       " (1.0, 2052.0207016500613),\n",
       " (1.0, 2052.058200929109)]"
      ]
     },
     "execution_count": 21,
     "metadata": {},
     "output_type": "execute_result"
    }
   ],
   "source": [
    "# solution here\n",
    "first_five = distances(penguin_dataset, [1, 2, 20, 40, 355, 855], 2)[:5]\n",
    "first_five"
   ]
  },
  {
   "cell_type": "markdown",
   "metadata": {},
   "source": [
    "3. Determine the probabilities of the labels that kNN would assign for this test instance (`k = 5`). Which label has the highest probability?"
   ]
  },
  {
   "cell_type": "code",
   "execution_count": 22,
   "metadata": {},
   "outputs": [
    {
     "data": {
      "text/plain": [
       "[0.8, 0.2, 0.0]"
      ]
     },
     "execution_count": 22,
     "metadata": {},
     "output_type": "execute_result"
    }
   ],
   "source": [
    "# solution here\n",
    "def prob_no_weights(dataset, target, k, test_x, p):\n",
    "    first_k = distances(penguin_dataset, test_x, p)[:k]\n",
    "    prob_labels = [0] * len(np.unique(dataset[target]))\n",
    "    for index in range(len(first_k)):\n",
    "        label = int(first_k[index][0])\n",
    "        prob_labels[label- 1] = prob_labels[label - 1] + 1\n",
    "\n",
    "    prob_labels = list(map(lambda x: x / k, prob_labels))\n",
    "    return prob_labels\n",
    "\n",
    "prob_no_weights(penguin_dataset, 'species', 5, [1, 2, 20, 40, 355, 855], 2)\n"
   ]
  },
  {
   "cell_type": "markdown",
   "metadata": {},
   "source": [
    "4. Suppose that kNN gives for each neighbour a weight that is equal to the inverse of the distance. Print the changed probabilities, as well as the label predicted by kNN."
   ]
  },
  {
   "cell_type": "code",
   "execution_count": 23,
   "metadata": {},
   "outputs": [
    {
     "data": {
      "text/plain": [
       "[0.7852063478657886, 0.21479365213421137, 0.0]"
      ]
     },
     "execution_count": 23,
     "metadata": {},
     "output_type": "execute_result"
    }
   ],
   "source": [
    "def prob_with_weights(dataset, target, k, test_x, p):\n",
    "    first_k = distances(penguin_dataset, test_x, p)[:k]\n",
    "    prob_labels = [0] * len(np.unique(dataset[target]))\n",
    "    weights = 0\n",
    "    for index in range(len(first_k)):\n",
    "        label = int(first_k[index][0])\n",
    "        distance = first_k[index][1]\n",
    "        prob_labels[label- 1] = prob_labels[label - 1] + distance**(-1)\n",
    "        weights = weights + distance**(-1)\n",
    "\n",
    "    prob_labels = list(map(lambda x: x / weights, prob_labels))\n",
    "    return prob_labels\n",
    "\n",
    "prob_with_weights(penguin_dataset, 'species', 5, [1, 2, 20, 40, 355, 855], 2)"
   ]
  },
  {
   "cell_type": "markdown",
   "metadata": {},
   "source": [
    "5. **k-NN implementation**: Create a function `knn_predict_prob` that will take six arguments:\n",
    "- `df`: the dataframe containing the features and the target feature\n",
    "- `test_x`: a list with the attributes observed for *one* instance\n",
    "- `k`: the number of nearest neighbours\n",
    "- `use_weights`: boolean value that indicates whether to assign weights based on the inverse of the distance or not\n",
    "- `p`: either an integer, indicating the order of the Minkowski distance (p=2 is the equivalent for Euclidean) or a custom distance function\n",
    "- `index_target`: the index of the column that contains the labels of the target feature\n",
    "\n",
    "The function should:\n",
    "- calculate the distance between `test_x` and the observations from the dataset\n",
    "- extract the k-nearest neighbours\n",
    "- calculate the weight for each label\n",
    "- normalize the weights to become probabilities\n",
    "- return the probability vector, that will indicate the probability of the instance `test_x` to have the label `i`."
   ]
  },
  {
   "cell_type": "code",
   "execution_count": 24,
   "metadata": {},
   "outputs": [
    {
     "data": {
      "text/plain": [
       "[0.7852063478657886, 0.21479365213421137, 0.0]"
      ]
     },
     "execution_count": 24,
     "metadata": {},
     "output_type": "execute_result"
    }
   ],
   "source": [
    "def knn_predict_prob(df, test_x, k, use_weights = True, p = 2, index_target = -1):\n",
    "   target = df.columns[index_target]\n",
    "   if use_weights:\n",
    "      return prob_with_weights(df, target, k, test_x, p)\n",
    "   else:\n",
    "      return prob_no_weights(df, target, k, test_x, p)\n",
    "\n",
    "knn_predict_prob(penguin_dataset, [1, 2, 20, 40, 355, 855], 5, True, 2, -1)"
   ]
  },
  {
   "cell_type": "markdown",
   "metadata": {},
   "source": [
    "6. Write a function that, based on the probabilities calculated above, returns the label with the highest probability."
   ]
  },
  {
   "cell_type": "code",
   "execution_count": 25,
   "metadata": {},
   "outputs": [
    {
     "data": {
      "text/plain": [
       "1"
      ]
     },
     "execution_count": 25,
     "metadata": {},
     "output_type": "execute_result"
    }
   ],
   "source": [
    "def knn_predict(df, test_x, k, use_weights = True, p = 2, index_target = -1):\n",
    "    probabilities = knn_predict_prob(df, test_x, k, use_weights, p, index_target)\n",
    "    max_value = max(probabilities)\n",
    "    return probabilities.index(max_value) + 1\n",
    "\n",
    "knn_predict(penguin_dataset, [1, 2, 20, 40, 355, 855], 5, True, 2, -1)"
   ]
  },
  {
   "cell_type": "markdown",
   "metadata": {},
   "source": [
    "7. Calculate the probabilities and the predicted label for the instance from exercise 1 using the following configurations:\n",
    "- `k = 11, unweighted, Euclidean distance`\n",
    "- `k = 11, weighted, Euclidean distance`\n",
    "- `k = 11, unweighted, Manhattan distance`\n",
    "- `k = 11, weighted, Manhattan distance`\n",
    "\n",
    "Compare your results with the results obtained by the `sklearn` implementation."
   ]
  },
  {
   "cell_type": "code",
   "execution_count": 28,
   "metadata": {},
   "outputs": [
    {
     "name": "stdout",
     "output_type": "stream",
     "text": [
      "k = 11, unweighted, Euclidean distance: [0.8181818181818182, 0.18181818181818182, 0.0]\n",
      "k = 11, weighted, Euclidean distance: [0.8081241299001588, 0.19187587009984078, 0.0]\n",
      "k = 11, unweighted, Manhattan distance: [0.8181818181818182, 0.18181818181818182, 0.0]\n",
      "k = 11, weighted, Manhattan distance: [0.8094697299455478, 0.19053027005445233, 0.0]\n",
      "[[0.66666667 0.33333333 0.        ]]\n",
      "0.924924924924925\n"
     ]
    },
    {
     "name": "stderr",
     "output_type": "stream",
     "text": [
      "c:\\Users\\aiaco\\AppData\\Local\\Programs\\Python\\Python310\\lib\\site-packages\\sklearn\\base.py:450: UserWarning: X does not have valid feature names, but KNeighborsClassifier was fitted with feature names\n",
      "  warnings.warn(\n",
      "c:\\Users\\aiaco\\AppData\\Local\\Programs\\Python\\Python310\\lib\\site-packages\\sklearn\\base.py:450: UserWarning: X does not have valid feature names, but KNeighborsClassifier was fitted with feature names\n",
      "  warnings.warn(\n"
     ]
    },
    {
     "data": {
      "text/plain": [
       "array([[0.80812413, 0.19187587, 0.        ]])"
      ]
     },
     "execution_count": 28,
     "metadata": {},
     "output_type": "execute_result"
    }
   ],
   "source": [
    "# solution here\n",
    "print(f'k = 11, unweighted, Euclidean distance: {knn_predict_prob(penguin_dataset, [1, 2, 20, 40, 355, 855], 11, False, 2, -1)}')\n",
    "print(f'k = 11, weighted, Euclidean distance: {knn_predict_prob(penguin_dataset, [1, 2, 20, 40, 355, 855], 11, True, 2, -1)}')\n",
    "print(f'k = 11, unweighted, Manhattan distance: {knn_predict_prob(penguin_dataset, [1, 2, 20, 40, 355, 855], 11, False, 1, -1)}')\n",
    "print(f'k = 11, weighted, Manhattan distance: {knn_predict_prob(penguin_dataset, [1, 2, 20, 40, 355, 855], 11, True, 1, -1)}')\n",
    "\n",
    "\n",
    "\n",
    "X = penguin_dataset[list(penguin_dataset.columns[:-1])]\n",
    "y = penguin_dataset[penguin_dataset.columns[-1]]\n",
    "from sklearn.neighbors import KNeighborsClassifier\n",
    "knn = KNeighborsClassifier(n_neighbors=3, p=1).fit(X,y)\n",
    "print(knn.predict_proba([[1, 2, 20, 40, 355, 855]]))\n",
    "print(knn.score(X,y))\n",
    "\n",
    "knn_weights = KNeighborsClassifier(n_neighbors=11, weights=\"distance\").fit(X,y)\n",
    "knn_weights.predict_proba([[1, 2, 20, 40, 355, 855]])"
   ]
  },
  {
   "cell_type": "markdown",
   "metadata": {},
   "source": [
    "8. Write a function that calculates the accuracy of the kNN algorithm."
   ]
  },
  {
   "cell_type": "code",
   "execution_count": 27,
   "metadata": {},
   "outputs": [
    {
     "data": {
      "text/plain": [
       "0.924924924924925"
      ]
     },
     "execution_count": 27,
     "metadata": {},
     "output_type": "execute_result"
    }
   ],
   "source": [
    "def knn_score(df, test_x, test_y, k, use_weights = True, p = 2, index_target = -1):\n",
    "    count = 0\n",
    "\n",
    "    for index in range(len(test_x)):\n",
    "        attr = list(test_x.loc[index])\n",
    "        trg = test_y.loc[index]\n",
    "        predicted = knn_predict(df, attr, k, use_weights, p, index_target)\n",
    "        if predicted == trg:\n",
    "            count += 1\n",
    "    return count/len(test_y)\n",
    "\n",
    "test_x = penguin_dataset[list(penguin_dataset.columns[:-1])]\n",
    "test_y = penguin_dataset[penguin_dataset.columns[-1]]\n",
    "knn_score(penguin_dataset, test_x, test_y, 3, False, 1, -1)"
   ]
  },
  {
   "cell_type": "markdown",
   "metadata": {},
   "source": [
    "9. What is the training accuracy of the unweighted kNN when k varies from 3 to 15? (use only odd numbers). Does adding the weight / changing the distance metric improve the score? Justify."
   ]
  },
  {
   "cell_type": "code",
   "execution_count": 27,
   "metadata": {},
   "outputs": [],
   "source": [
    "# solution here\n",
    "# print(\"without\")\n",
    "# for k in range(3,16,2):\n",
    "#     print(f'k = {k} p = 1: {knn_score(penguin_dataset, test_x, test_y, k, False, 1, -1)}')\n",
    "#     print(f'k = {k} p = 2: {knn_score(penguin_dataset, test_x, test_y, k, False, 2, -1)}')\n",
    "\n",
    "# print(\"weights\")\n",
    "# for k in range(3,16,2):\n",
    "#     print(f'k = {k} p = 1: {knn_score(penguin_dataset, test_x, test_y, k, True, 1, -1)}')\n",
    "#     print(f'k = {k} p = 2: {knn_score(penguin_dataset, test_x, test_y, k, True, 2, -1)}')"
   ]
  },
  {
   "cell_type": "markdown",
   "metadata": {},
   "source": [
    "## III. AdaBoost (4.5 points; 0.5 bonus per week)"
   ]
  },
  {
   "cell_type": "markdown",
   "metadata": {},
   "source": [
    "*Notes*: \n",
    "- The results might differ from the sklearn implementation\n",
    "- we will use the definition from the Machine Learning course of a weak classifier, which linearly separates an attribute\n",
    "- we try to use classifiers that minimise the error, not the entropy, as ID3\n",
    "- for getting the thresholds / splitting points, check the implementation from the Project 1 (mine or yours, whatever works for you)\n",
    "- remember the usage of the external threshold\n",
    "- some exercises from the course's book contain useful tricks to reduce the number of calculation you make during an iteration\n",
    "- the following implementation is a generalisation (with respect to the number of labels) of the AdaBoost algorithm that was discussed at the course\n",
    "    - suppose the target feature `Y` has `n` labels (i.e. `y1`, `y2` ... `yn`)\n",
    "    - suppose you have a feature `X` and a threshold / splitting point `x`\n",
    "    - on the right side of the separator (so for `X > x`), we have `k1` points with label `y1`, `k2` points with label `y2` and so on\n",
    "    - the label that the weak classifier will predict for the surface `X > x` will be the one with the highest probabilities of the points\n",
    "    - in other words, the label will be $\\displaystyle \\argmax_{y \\in Val(Y)} \\sum_{point \\in X, point > x; \\;\\; label(point) = y} D_t(point)$\n",
    "    - we perform similar calculation for the left side of the separator\n",
    "    - in the end, we will get the two labels that the weak classifier will assign\n",
    "    - the error of the classifier will be the sum of the probabilities of the points that are misclasified\n",
    "- please truncate your results; use 7 decimals"
   ]
  },
  {
   "cell_type": "markdown",
   "metadata": {},
   "source": [
    "1. Create a numpy array named `D1` that contains the initial probability distribution of the points."
   ]
  },
  {
   "cell_type": "code",
   "execution_count": 3,
   "metadata": {},
   "outputs": [
    {
     "name": "stdout",
     "output_type": "stream",
     "text": [
      "[0.003003 0.003003 0.003003 0.003003 0.003003]\n"
     ]
    }
   ],
   "source": [
    "def get_thresholds(dataset, feature, target_feature):\n",
    "    # sort the unique values of feature\n",
    "    # then check if two consecutive values have at least one different label\n",
    "    feature_values = dict()\n",
    "    unique_feature_values = np.sort(np.unique(dataset[feature]))\n",
    "    thresholds = []\n",
    "    for i in range(dataset.shape[0]):\n",
    "        current_value = dataset[feature].iloc[i]\n",
    "        current_target_value = dataset[target_feature].iloc[i]\n",
    "        if current_value in feature_values:\n",
    "            feature_values[current_value].add(current_target_value)\n",
    "        else:\n",
    "            feature_values[current_value] = {current_target_value}\n",
    "\n",
    "    for i in range(1, len(unique_feature_values)):\n",
    "        current_val = unique_feature_values[i]\n",
    "        prev_val = unique_feature_values[i-1]\n",
    "\n",
    "        if (len(feature_values[prev_val]) > 1 and len(feature_values[prev_val] & feature_values[current_val]) > 0) or \\\n",
    "            (len(feature_values[prev_val]) == 1 and len(feature_values[current_val] - feature_values[prev_val]) > 0):\n",
    "            thresholds.append((current_val + prev_val) / 2)\n",
    "    \n",
    "    return thresholds\n",
    "\n",
    "\n",
    "\n",
    "count = penguin_dataset.shape[0]\n",
    "D1 = np.array([round(1/count, 7)] * count)\n",
    "print(D1[:5])\n"
   ]
  },
  {
   "cell_type": "markdown",
   "metadata": {},
   "source": [
    "2. What is the number of the available weak estimators used in our version of AdaBoost? (include the external threshold)"
   ]
  },
  {
   "cell_type": "code",
   "execution_count": 5,
   "metadata": {},
   "outputs": [
    {
     "data": {
      "text/plain": [
       "223"
      ]
     },
     "execution_count": 5,
     "metadata": {},
     "output_type": "execute_result"
    }
   ],
   "source": [
    "thresholds = list()\n",
    "for col in penguin_dataset.columns[:-1]:\n",
    "    thresholds += get_thresholds(penguin_dataset, col, penguin_dataset.columns[-1])\n",
    "weak_estimators = 1 + len(thresholds)\n",
    "weak_estimators"
   ]
  },
  {
   "cell_type": "markdown",
   "metadata": {},
   "source": [
    "3. For the attribute `flipper_length_mm` and the threshold 206.5, find the sum of probabilities of the three species for both left and right side of the separator. (for example, on the right side we will have probability `a` for `species=1`, `b` for `species=2`, `c` for `species=3`)"
   ]
  },
  {
   "cell_type": "code",
   "execution_count": 9,
   "metadata": {},
   "outputs": [
    {
     "data": {
      "text/plain": [
       "({1: 0.19219200000000022, 2: 0.43543499999999896, 3: 0.6216209999999976},\n",
       " {1: 0.36936899999999945, 2: 0.3603599999999995, 3: 0.021020999999999998})"
      ]
     },
     "execution_count": 9,
     "metadata": {},
     "output_type": "execute_result"
    }
   ],
   "source": [
    "def weak_classiffier_proba(dataset, attribute, threshold, target, D):\n",
    "    prob_left = dict()\n",
    "    prob_right = dict()\n",
    "\n",
    "    for y in np.unique(dataset[target]):\n",
    "        prob_left[y] = 0\n",
    "        prob_right[y] = 0\n",
    "\n",
    "        for index in range(dataset.shape[0]):\n",
    "            if dataset.loc[index][attribute] < threshold:\n",
    "                if dataset.loc[index][target] != y:\n",
    "                    prob_left[y] += D[index]\n",
    "            else:\n",
    "                if dataset.loc[index][target] != y:\n",
    "                    prob_right[y] += D[index]\n",
    "    return prob_left, prob_right\n",
    "\n",
    "weak_classiffier_proba(penguin_dataset, 'flipper_length_mm', 206.5, 'species', D1)"
   ]
  },
  {
   "cell_type": "markdown",
   "metadata": {},
   "source": [
    "4. What is the label that the weak classifier will assign for the right side of the separator? But for the left side?"
   ]
  },
  {
   "cell_type": "code",
   "execution_count": 10,
   "metadata": {},
   "outputs": [
    {
     "name": "stdout",
     "output_type": "stream",
     "text": [
      "1 3\n"
     ]
    }
   ],
   "source": [
    "left, right = weak_classiffier_proba(penguin_dataset, 'flipper_length_mm', 206.5, 'species', D1)\n",
    "\n",
    "left_label = min(left, key=left.get)\n",
    "right_label = min(right, key=right.get)\n",
    "print(left_label, right_label)"
   ]
  },
  {
   "cell_type": "markdown",
   "metadata": {},
   "source": [
    "5. What is the error of this weak classifier?"
   ]
  },
  {
   "cell_type": "code",
   "execution_count": 11,
   "metadata": {},
   "outputs": [
    {
     "data": {
      "text/plain": [
       "0.213213"
      ]
     },
     "execution_count": 11,
     "metadata": {},
     "output_type": "execute_result"
    }
   ],
   "source": [
    "err = round(right[right_label] + left[left_label], 7)\n",
    "err"
   ]
  },
  {
   "cell_type": "markdown",
   "metadata": {},
   "source": [
    "6. What is the label the weak classifier associated with the external split point will predict? What about its error?"
   ]
  },
  {
   "cell_type": "code",
   "execution_count": 12,
   "metadata": {},
   "outputs": [
    {
     "name": "stdout",
     "output_type": "stream",
     "text": [
      "{1: 0.5615609999999981, 2: 0.7957949999999964, 3: 0.6426419999999975} \n",
      " 1\n"
     ]
    }
   ],
   "source": [
    "left, right = weak_classiffier_proba(penguin_dataset, 'flipper_length_mm', -1, 'species', D1)\n",
    "right_label = min(right, key=right.get)\n",
    "\n",
    "print(right, '\\n', right_label)"
   ]
  },
  {
   "cell_type": "markdown",
   "metadata": {},
   "source": [
    "7. Write a function that calculates the error of a weak classifier. Test your function on the classifier mentioned in the previous exercises."
   ]
  },
  {
   "cell_type": "code",
   "execution_count": 13,
   "metadata": {},
   "outputs": [
    {
     "name": "stdout",
     "output_type": "stream",
     "text": [
      "(0.213213, 1, 3)\n"
     ]
    }
   ],
   "source": [
    "def get_error_classifier(df, feature_index, threshold, target_feature, probs):\n",
    "    left, right = weak_classiffier_proba(df, feature_index, threshold, target_feature, probs)\n",
    "    left_label = min(left, key=left.get)\n",
    "    right_label = min(right, key=right.get)\n",
    "    \n",
    "    return (round(left[left_label] + right[right_label], 7), left_label, right_label)\n",
    "\n",
    "print(get_error_classifier(penguin_dataset, 'flipper_length_mm', 206.5, \"species\", D1))"
   ]
  },
  {
   "cell_type": "markdown",
   "metadata": {},
   "source": [
    "8. Write a function that identifies the weak estimator with the lowest error. Do not forget to include the external split point. What is the best weak estimator that will be chosen at the first iteration of AdaBoost?"
   ]
  },
  {
   "cell_type": "code",
   "execution_count": 14,
   "metadata": {},
   "outputs": [
    {
     "name": "stdout",
     "output_type": "stream",
     "text": [
      "(4, 205.5, 1, 3) 0.213213\n"
     ]
    }
   ],
   "source": [
    "# should return a tuple with two elements: the estimator (also a tuple with the index of the feature, the threshold, the label assigned in the left side, the label from the right side) and its error\n",
    "def get_best_weak_estimator(df, target_feature, current_probs):\n",
    "    est1, err1 = None, np.Infinity \n",
    "\n",
    "    for index, col in enumerate(df.columns[:-1]):\n",
    "        thresholds = get_thresholds(df, col, target_feature)\n",
    "        for threshold in thresholds:\n",
    "            err, left_label, right_label = get_error_classifier(df, col, threshold, target_feature, current_probs)\n",
    "            if err < err1:\n",
    "                est1 = (index, threshold, left_label, right_label)\n",
    "                err1 = err\n",
    "\n",
    "    # exterior threshold\n",
    "    err, left_label, right_label = get_error_classifier(df, col, -1, target_feature, current_probs)\n",
    "    if err < err1:\n",
    "        est1 = (index, threshold, left_label, right_label)\n",
    "        err1 = err\n",
    "\n",
    "    return est1, err1\n",
    "\n",
    "est1, eps1 = get_best_weak_estimator(penguin_dataset, \"species\", D1)\n",
    "print(est1, eps1)"
   ]
  },
  {
   "cell_type": "markdown",
   "metadata": {},
   "source": [
    "9. Calculate the weight `alpha_1` that AdaBoost will assign to this weak classifier."
   ]
  },
  {
   "cell_type": "code",
   "execution_count": 15,
   "metadata": {},
   "outputs": [
    {
     "data": {
      "text/plain": [
       "0.6528329488563055"
      ]
     },
     "execution_count": 15,
     "metadata": {},
     "output_type": "execute_result"
    }
   ],
   "source": [
    "def alpha(err):\n",
    "    return (1/2) * np.log((1-err)/err)\n",
    "    \n",
    "alpha(err)"
   ]
  },
  {
   "cell_type": "markdown",
   "metadata": {},
   "source": [
    "10. Update the probability distribution `D2` that will be used in the next iteration."
   ]
  },
  {
   "cell_type": "code",
   "execution_count": 16,
   "metadata": {},
   "outputs": [
    {
     "name": "stdout",
     "output_type": "stream",
     "text": [
      "1.0000041\n",
      "0.003003015315315315\n"
     ]
    }
   ],
   "source": [
    "D2 = []\n",
    "\n",
    "prob_wrong_classified = D1[0] / (2*eps1)\n",
    "prob_ok_classified = D1[0] / (2*(1-eps1))\n",
    "\n",
    "feature = penguin_dataset.columns[est1[0]]\n",
    "for index in range(len(penguin_dataset)):\n",
    "    y = 0\n",
    "    if penguin_dataset.loc[index][feature] < est1[1]:\n",
    "        y = est1[2]\n",
    "    else:\n",
    "        y = est1[3]\n",
    "    if penguin_dataset.loc[index]['species'] == y:\n",
    "        D2.append(round(prob_ok_classified, 7))\n",
    "    else:\n",
    "        D2.append(round(prob_wrong_classified, 7))\n",
    "\n",
    "print(round(sum(D2),7))\n",
    "print(np.mean(D2))"
   ]
  },
  {
   "cell_type": "markdown",
   "metadata": {},
   "source": [
    "11. Write a function that performs the update of the probability distribution. Test the function for the first iteration."
   ]
  },
  {
   "cell_type": "code",
   "execution_count": 17,
   "metadata": {},
   "outputs": [
    {
     "name": "stdout",
     "output_type": "stream",
     "text": [
      "333\n"
     ]
    }
   ],
   "source": [
    "def update_probs(df, estimator, target_feature, eps, current_probs):\n",
    "    new_probs = []\n",
    "    feature = df.columns[estimator[0]]\n",
    "    for index in range(len(df)):\n",
    "        y = 0\n",
    "        if penguin_dataset.loc[index][feature] < estimator[1]:\n",
    "            y = estimator[2]\n",
    "        else:\n",
    "            y = estimator[3]\n",
    "\n",
    "        if df.loc[index][target_feature] != y:\n",
    "            prob = round(current_probs[index] / (2*eps), 7)\n",
    "        else:\n",
    "            prob = round(current_probs[index] / (2*(1-eps)), 7)\n",
    "\n",
    "        new_probs.append(prob)\n",
    "    return np.array(new_probs)\n",
    "\n",
    "print(np.sum(update_probs(penguin_dataset, est1, \"species\", eps1, D1) - D2 < 1e-7))"
   ]
  },
  {
   "cell_type": "markdown",
   "metadata": {},
   "source": [
    "12. Write a function that trains the AdaBoost algorithm on a dataset. The function should return five fields:\n",
    "- `estimators`: a list of the weak estimators\n",
    "- `estimators_error`: a list with the errors of the estimators\n",
    "- `estimators_weight`: a list with the weights assigned to each estimator\n",
    "- `n_iters`: the number of iterations\n",
    "- `features`: a list with the features used for training"
   ]
  },
  {
   "cell_type": "code",
   "execution_count": 18,
   "metadata": {},
   "outputs": [
    {
     "name": "stdout",
     "output_type": "stream",
     "text": [
      "{'estimators': [(4, 205.5, 1, 3),\n",
      "                (2, 42.349999999999994, 1, 2),\n",
      "                (1, 0.5, 3, 2),\n",
      "                (3, 16.45, 3, 1),\n",
      "                (2, 44.25, 1, 2)],\n",
      " 'estimators_error': [0.213213, 0.2673105, 0.2304498, 0.2532741, 0.2764647],\n",
      " 'estimators_weight': [0.6528329488563055,\n",
      "                       0.5041555532128549,\n",
      "                       0.6028865685095748,\n",
      "                       0.540612940954006,\n",
      "                       0.4810330949698846],\n",
      " 'features': Index(['sex', 'island', 'bill_length_mm', 'bill_depth_mm', 'flipper_length_mm',\n",
      "       'body_mass_g'],\n",
      "      dtype='object'),\n",
      " 'n_iters': 5}\n"
     ]
    }
   ],
   "source": [
    "def adaboost(df, target_feature, n_iters):\n",
    "    ab = dict()\n",
    "    ab['estimators'] = list()\n",
    "    ab['estimators_error'] = list()\n",
    "    ab['estimators_weight'] = list()\n",
    "    ab['n_iters'] = n_iters\n",
    "    ab['features'] = df.columns[:-1]\n",
    "\n",
    "    count = penguin_dataset.shape[0]\n",
    "    D = np.array([round(1/count, 7)] * count)\n",
    "    for iter in range(n_iters):\n",
    "        est, eps = get_best_weak_estimator(df, target_feature, D)\n",
    "        ab['estimators'].append(est)\n",
    "        ab['estimators_error'].append(eps)\n",
    "        # ab['estimators_weight'].append(D)\n",
    "        ab['estimators_weight'].append(alpha(eps))\n",
    "        # print(sum(D))\n",
    "\n",
    "        D = update_probs(df, est, target_feature, eps, D)\n",
    "    return ab\n",
    "\n",
    "my_ab = adaboost(penguin_dataset, \"species\", 5)\n",
    "pprint(my_ab)"
   ]
  },
  {
   "cell_type": "markdown",
   "metadata": {},
   "source": [
    "13. Write a function that does the AdaBoost prediction of an instance."
   ]
  },
  {
   "cell_type": "code",
   "execution_count": 20,
   "metadata": {},
   "outputs": [
    {
     "data": {
      "text/plain": [
       "(1, 1)"
      ]
     },
     "execution_count": 20,
     "metadata": {},
     "output_type": "execute_result"
    }
   ],
   "source": [
    "def adaboost_predict(adaboost_model, X):\n",
    "    probs = dict()\n",
    "    probs[1] = probs[2] = probs[3] = 0\n",
    "    \n",
    "    for index in range(adaboost_model['n_iters']):\n",
    "        est = adaboost_model['estimators'][index]\n",
    "        # alp = alpha(adaboost_model['estimators_error'][index])\n",
    "        alp = adaboost_model['estimators_weight'][index]\n",
    "        if X[est[0]] < est[1]:\n",
    "            probs[est[2]] += alp\n",
    "        else:\n",
    "            probs[est[3]] += alp\n",
    "\n",
    "    return max(probs, key=probs.get)\n",
    "\n",
    "adaboost_predict(my_ab, penguin_dataset[penguin_dataset.columns[:-1]].iloc[0]), penguin_dataset[\"species\"][0]"
   ]
  },
  {
   "cell_type": "markdown",
   "metadata": {},
   "source": [
    "14. Write a function that calculates the accuracy of AdaBoost on a dataframe."
   ]
  },
  {
   "cell_type": "code",
   "execution_count": 68,
   "metadata": {},
   "outputs": [
    {
     "name": "stdout",
     "output_type": "stream",
     "text": [
      "0.972972972972973\n"
     ]
    }
   ],
   "source": [
    "def adaboost_score(adaboost_model, X, y):\n",
    "    correct = 0\n",
    "    for index in range(len(X)):\n",
    "        if adaboost_predict(adaboost_model, X[index]) == y[index]:\n",
    "            correct = correct + 1\n",
    "    return correct/len(X)\n",
    "\n",
    "print(adaboost_score(my_ab, penguin_dataset[penguin_dataset.columns[:-1]].to_numpy(), penguin_dataset[\"species\"]))"
   ]
  },
  {
   "cell_type": "markdown",
   "metadata": {},
   "source": [
    "15. Draw a plot where you compare the evolution of accuracy of our implementation of AdaBoost and sklearn's. The number of iterations should vary between 1 and 30."
   ]
  },
  {
   "cell_type": "code",
   "execution_count": 80,
   "metadata": {},
   "outputs": [
    {
     "name": "stdout",
     "output_type": "stream",
     "text": [
      "0.9999989999999949\n",
      "0.9999989999999949\n",
      "1.0000040999999942\n",
      "0.9999989999999949\n",
      "1.0000040999999942\n",
      "0.9999961999999971\n",
      "0.9999989999999949\n",
      "1.0000040999999942\n",
      "0.9999961999999971\n",
      "1.000007800000004\n",
      "0.9999989999999949\n",
      "1.0000040999999942\n",
      "0.9999961999999971\n",
      "1.000007800000004\n",
      "1.000009800000004\n",
      "0.9999989999999949\n",
      "1.0000040999999942\n",
      "0.9999961999999971\n",
      "1.000007800000004\n",
      "1.000009800000004\n",
      "1.0000102000000013\n",
      "0.9999989999999949\n",
      "1.0000040999999942\n",
      "0.9999961999999971\n",
      "1.000007800000004\n",
      "1.000009800000004\n",
      "1.0000102000000013\n",
      "1.0000101999999986\n",
      "0.9999989999999949\n",
      "1.0000040999999942\n",
      "0.9999961999999971\n",
      "1.000007800000004\n",
      "1.000009800000004\n",
      "1.0000102000000013\n",
      "1.0000101999999986\n",
      "1.0000164999999963\n",
      "0.9999989999999949\n",
      "1.0000040999999942\n",
      "0.9999961999999971\n",
      "1.000007800000004\n",
      "1.000009800000004\n",
      "1.0000102000000013\n",
      "1.0000101999999986\n",
      "1.0000164999999963\n",
      "1.0000095000000015\n",
      "0.9999989999999949\n",
      "1.0000040999999942\n",
      "0.9999961999999971\n",
      "1.000007800000004\n",
      "1.000009800000004\n",
      "1.0000102000000013\n",
      "1.0000101999999986\n",
      "1.0000164999999963\n",
      "1.0000095000000015\n",
      "1.0000066999999975\n",
      "0.9999989999999949\n",
      "1.0000040999999942\n",
      "0.9999961999999971\n",
      "1.000007800000004\n",
      "1.000009800000004\n",
      "1.0000102000000013\n",
      "1.0000101999999986\n",
      "1.0000164999999963\n",
      "1.0000095000000015\n",
      "1.0000066999999975\n",
      "1.0000094000000008\n",
      "0.9999989999999949\n",
      "1.0000040999999942\n",
      "0.9999961999999971\n",
      "1.000007800000004\n",
      "1.000009800000004\n",
      "1.0000102000000013\n",
      "1.0000101999999986\n",
      "1.0000164999999963\n",
      "1.0000095000000015\n",
      "1.0000066999999975\n",
      "1.0000094000000008\n",
      "1.0000053000000002\n",
      "0.9999989999999949\n",
      "1.0000040999999942\n",
      "0.9999961999999971\n",
      "1.000007800000004\n",
      "1.000009800000004\n",
      "1.0000102000000013\n",
      "1.0000101999999986\n",
      "1.0000164999999963\n",
      "1.0000095000000015\n",
      "1.0000066999999975\n",
      "1.0000094000000008\n",
      "1.0000053000000002\n",
      "0.9999999999999999\n",
      "0.9999989999999949\n",
      "1.0000040999999942\n",
      "0.9999961999999971\n",
      "1.000007800000004\n",
      "1.000009800000004\n",
      "1.0000102000000013\n",
      "1.0000101999999986\n",
      "1.0000164999999963\n",
      "1.0000095000000015\n",
      "1.0000066999999975\n",
      "1.0000094000000008\n",
      "1.0000053000000002\n",
      "0.9999999999999999\n",
      "1.0000002999999984\n",
      "0.9999989999999949\n",
      "1.0000040999999942\n",
      "0.9999961999999971\n",
      "1.000007800000004\n",
      "1.000009800000004\n",
      "1.0000102000000013\n",
      "1.0000101999999986\n",
      "1.0000164999999963\n",
      "1.0000095000000015\n",
      "1.0000066999999975\n",
      "1.0000094000000008\n",
      "1.0000053000000002\n",
      "0.9999999999999999\n",
      "1.0000002999999984\n",
      "0.9999990000000045\n",
      "0.9999989999999949\n",
      "1.0000040999999942\n",
      "0.9999961999999971\n",
      "1.000007800000004\n",
      "1.000009800000004\n",
      "1.0000102000000013\n",
      "1.0000101999999986\n",
      "1.0000164999999963\n",
      "1.0000095000000015\n",
      "1.0000066999999975\n",
      "1.0000094000000008\n",
      "1.0000053000000002\n",
      "0.9999999999999999\n",
      "1.0000002999999984\n",
      "0.9999990000000045\n",
      "0.9999991000000047\n",
      "0.9999989999999949\n",
      "1.0000040999999942\n",
      "0.9999961999999971\n",
      "1.000007800000004\n",
      "1.000009800000004\n",
      "1.0000102000000013\n",
      "1.0000101999999986\n",
      "1.0000164999999963\n",
      "1.0000095000000015\n",
      "1.0000066999999975\n",
      "1.0000094000000008\n",
      "1.0000053000000002\n",
      "0.9999999999999999\n",
      "1.0000002999999984\n",
      "0.9999990000000045\n",
      "0.9999991000000047\n",
      "1.0000049999999987\n",
      "0.9999989999999949\n",
      "1.0000040999999942\n",
      "0.9999961999999971\n",
      "1.000007800000004\n",
      "1.000009800000004\n",
      "1.0000102000000013\n",
      "1.0000101999999986\n",
      "1.0000164999999963\n",
      "1.0000095000000015\n",
      "1.0000066999999975\n",
      "1.0000094000000008\n",
      "1.0000053000000002\n",
      "0.9999999999999999\n",
      "1.0000002999999984\n",
      "0.9999990000000045\n",
      "0.9999991000000047\n",
      "1.0000049999999987\n",
      "1.0000108999999981\n",
      "0.9999989999999949\n",
      "1.0000040999999942\n",
      "0.9999961999999971\n",
      "1.000007800000004\n",
      "1.000009800000004\n",
      "1.0000102000000013\n",
      "1.0000101999999986\n",
      "1.0000164999999963\n",
      "1.0000095000000015\n",
      "1.0000066999999975\n",
      "1.0000094000000008\n",
      "1.0000053000000002\n",
      "0.9999999999999999\n",
      "1.0000002999999984\n",
      "0.9999990000000045\n",
      "0.9999991000000047\n",
      "1.0000049999999987\n",
      "1.0000108999999981\n",
      "1.0000063999999993\n",
      "0.9999989999999949\n",
      "1.0000040999999942\n",
      "0.9999961999999971\n",
      "1.000007800000004\n",
      "1.000009800000004\n",
      "1.0000102000000013\n",
      "1.0000101999999986\n",
      "1.0000164999999963\n",
      "1.0000095000000015\n",
      "1.0000066999999975\n",
      "1.0000094000000008\n",
      "1.0000053000000002\n",
      "0.9999999999999999\n",
      "1.0000002999999984\n",
      "0.9999990000000045\n",
      "0.9999991000000047\n",
      "1.0000049999999987\n",
      "1.0000108999999981\n",
      "1.0000063999999993\n",
      "1.0000084000000031\n",
      "0.9999989999999949\n",
      "1.0000040999999942\n",
      "0.9999961999999971\n",
      "1.000007800000004\n",
      "1.000009800000004\n",
      "1.0000102000000013\n",
      "1.0000101999999986\n",
      "1.0000164999999963\n",
      "1.0000095000000015\n",
      "1.0000066999999975\n",
      "1.0000094000000008\n",
      "1.0000053000000002\n",
      "0.9999999999999999\n",
      "1.0000002999999984\n",
      "0.9999990000000045\n",
      "0.9999991000000047\n",
      "1.0000049999999987\n",
      "1.0000108999999981\n",
      "1.0000063999999993\n",
      "1.0000084000000031\n",
      "1.0000015999999965\n",
      "0.9999989999999949\n",
      "1.0000040999999942\n",
      "0.9999961999999971\n",
      "1.000007800000004\n",
      "1.000009800000004\n",
      "1.0000102000000013\n",
      "1.0000101999999986\n",
      "1.0000164999999963\n",
      "1.0000095000000015\n",
      "1.0000066999999975\n",
      "1.0000094000000008\n",
      "1.0000053000000002\n",
      "0.9999999999999999\n",
      "1.0000002999999984\n",
      "0.9999990000000045\n",
      "0.9999991000000047\n",
      "1.0000049999999987\n",
      "1.0000108999999981\n",
      "1.0000063999999993\n",
      "1.0000084000000031\n",
      "1.0000015999999965\n",
      "0.9999993000000005\n",
      "0.9999989999999949\n",
      "1.0000040999999942\n",
      "0.9999961999999971\n",
      "1.000007800000004\n",
      "1.000009800000004\n",
      "1.0000102000000013\n",
      "1.0000101999999986\n",
      "1.0000164999999963\n",
      "1.0000095000000015\n",
      "1.0000066999999975\n",
      "1.0000094000000008\n",
      "1.0000053000000002\n",
      "0.9999999999999999\n",
      "1.0000002999999984\n",
      "0.9999990000000045\n",
      "0.9999991000000047\n",
      "1.0000049999999987\n",
      "1.0000108999999981\n",
      "1.0000063999999993\n",
      "1.0000084000000031\n",
      "1.0000015999999965\n",
      "0.9999993000000005\n",
      "1.0000023000000056\n",
      "0.9999989999999949\n",
      "1.0000040999999942\n",
      "0.9999961999999971\n",
      "1.000007800000004\n",
      "1.000009800000004\n",
      "1.0000102000000013\n",
      "1.0000101999999986\n",
      "1.0000164999999963\n",
      "1.0000095000000015\n",
      "1.0000066999999975\n",
      "1.0000094000000008\n",
      "1.0000053000000002\n",
      "0.9999999999999999\n",
      "1.0000002999999984\n",
      "0.9999990000000045\n",
      "0.9999991000000047\n",
      "1.0000049999999987\n",
      "1.0000108999999981\n",
      "1.0000063999999993\n",
      "1.0000084000000031\n",
      "1.0000015999999965\n",
      "0.9999993000000005\n",
      "1.0000023000000056\n",
      "1.0000068000000013\n",
      "0.9999989999999949\n",
      "1.0000040999999942\n",
      "0.9999961999999971\n",
      "1.000007800000004\n",
      "1.000009800000004\n",
      "1.0000102000000013\n",
      "1.0000101999999986\n",
      "1.0000164999999963\n",
      "1.0000095000000015\n",
      "1.0000066999999975\n",
      "1.0000094000000008\n",
      "1.0000053000000002\n",
      "0.9999999999999999\n",
      "1.0000002999999984\n",
      "0.9999990000000045\n",
      "0.9999991000000047\n",
      "1.0000049999999987\n",
      "1.0000108999999981\n",
      "1.0000063999999993\n",
      "1.0000084000000031\n",
      "1.0000015999999965\n",
      "0.9999993000000005\n",
      "1.0000023000000056\n",
      "1.0000068000000013\n",
      "1.0000032999999977\n",
      "0.9999989999999949\n",
      "1.0000040999999942\n",
      "0.9999961999999971\n",
      "1.000007800000004\n",
      "1.000009800000004\n",
      "1.0000102000000013\n",
      "1.0000101999999986\n",
      "1.0000164999999963\n",
      "1.0000095000000015\n",
      "1.0000066999999975\n",
      "1.0000094000000008\n",
      "1.0000053000000002\n",
      "0.9999999999999999\n",
      "1.0000002999999984\n",
      "0.9999990000000045\n",
      "0.9999991000000047\n",
      "1.0000049999999987\n",
      "1.0000108999999981\n",
      "1.0000063999999993\n",
      "1.0000084000000031\n",
      "1.0000015999999965\n",
      "0.9999993000000005\n",
      "1.0000023000000056\n",
      "1.0000068000000013\n",
      "1.0000032999999977\n",
      "1.0000026999999998\n",
      "0.9999989999999949\n",
      "1.0000040999999942\n",
      "0.9999961999999971\n",
      "1.000007800000004\n",
      "1.000009800000004\n",
      "1.0000102000000013\n",
      "1.0000101999999986\n",
      "1.0000164999999963\n",
      "1.0000095000000015\n",
      "1.0000066999999975\n",
      "1.0000094000000008\n",
      "1.0000053000000002\n",
      "0.9999999999999999\n",
      "1.0000002999999984\n",
      "0.9999990000000045\n",
      "0.9999991000000047\n",
      "1.0000049999999987\n",
      "1.0000108999999981\n",
      "1.0000063999999993\n",
      "1.0000084000000031\n",
      "1.0000015999999965\n",
      "0.9999993000000005\n",
      "1.0000023000000056\n",
      "1.0000068000000013\n",
      "1.0000032999999977\n",
      "1.0000026999999998\n",
      "1.0000042\n",
      "0.9999989999999949\n",
      "1.0000040999999942\n",
      "0.9999961999999971\n",
      "1.000007800000004\n",
      "1.000009800000004\n",
      "1.0000102000000013\n",
      "1.0000101999999986\n",
      "1.0000164999999963\n",
      "1.0000095000000015\n",
      "1.0000066999999975\n",
      "1.0000094000000008\n",
      "1.0000053000000002\n",
      "0.9999999999999999\n",
      "1.0000002999999984\n",
      "0.9999990000000045\n",
      "0.9999991000000047\n",
      "1.0000049999999987\n",
      "1.0000108999999981\n",
      "1.0000063999999993\n",
      "1.0000084000000031\n",
      "1.0000015999999965\n",
      "0.9999993000000005\n",
      "1.0000023000000056\n",
      "1.0000068000000013\n",
      "1.0000032999999977\n",
      "1.0000026999999998\n",
      "1.0000042\n",
      "1.0000036000000032\n",
      "0.9999989999999949\n",
      "1.0000040999999942\n",
      "0.9999961999999971\n",
      "1.000007800000004\n",
      "1.000009800000004\n",
      "1.0000102000000013\n",
      "1.0000101999999986\n",
      "1.0000164999999963\n",
      "1.0000095000000015\n",
      "1.0000066999999975\n",
      "1.0000094000000008\n",
      "1.0000053000000002\n",
      "0.9999999999999999\n",
      "1.0000002999999984\n",
      "0.9999990000000045\n",
      "0.9999991000000047\n",
      "1.0000049999999987\n",
      "1.0000108999999981\n",
      "1.0000063999999993\n",
      "1.0000084000000031\n",
      "1.0000015999999965\n",
      "0.9999993000000005\n",
      "1.0000023000000056\n",
      "1.0000068000000013\n",
      "1.0000032999999977\n",
      "1.0000026999999998\n",
      "1.0000042\n",
      "1.0000036000000032\n",
      "1.0000031999999976\n",
      "0.9999989999999949\n",
      "1.0000040999999942\n",
      "0.9999961999999971\n",
      "1.000007800000004\n",
      "1.000009800000004\n",
      "1.0000102000000013\n",
      "1.0000101999999986\n",
      "1.0000164999999963\n",
      "1.0000095000000015\n",
      "1.0000066999999975\n",
      "1.0000094000000008\n",
      "1.0000053000000002\n",
      "0.9999999999999999\n",
      "1.0000002999999984\n",
      "0.9999990000000045\n",
      "0.9999991000000047\n",
      "1.0000049999999987\n",
      "1.0000108999999981\n",
      "1.0000063999999993\n",
      "1.0000084000000031\n",
      "1.0000015999999965\n",
      "0.9999993000000005\n",
      "1.0000023000000056\n",
      "1.0000068000000013\n",
      "1.0000032999999977\n",
      "1.0000026999999998\n",
      "1.0000042\n",
      "1.0000036000000032\n",
      "1.0000031999999976\n",
      "1.0000035000000014\n"
     ]
    },
    {
     "data": {
      "image/png": "[encoded data removed]",
      "text/plain": [
       "<Figure size 640x480 with 1 Axes>"
      ]
     },
     "metadata": {},
     "output_type": "display_data"
    }
   ],
   "source": [
    "X = penguin_dataset[penguin_dataset.columns[:-1]].to_numpy()\n",
    "y = penguin_dataset[\"species\"]\n",
    "\n",
    "indexes = []\n",
    "sklearn_acc = []\n",
    "model_acc = []\n",
    "for index in range(1,31):\n",
    "    indexes.append(index)\n",
    "\n",
    "    ab = AdaBoostClassifier(algorithm=\"SAMME\", n_estimators=index).fit(X, y)\n",
    "    sklearn_acc.append(ab.score(X,y))\n",
    "\n",
    "    my_ab = adaboost(penguin_dataset, \"species\", index)\n",
    "    model_acc.append(adaboost_score(my_ab, X, y))\n",
    "\n",
    "# saved_model_acc = [0.7867867867867868, 0.7867867867867868, 0.963963963963964, 0.8138138138138138, 0.972972972972973, 0.9669669669669669, 0.972972972972973, 0.972972972972973, 0.972972972972973, 0.972972972972973, 0.972972972972973, 0.972972972972973, 0.972972972972973, 0.972972972972973, 0.972972972972973, 0.972972972972973, 0.972972972972973, 0.972972972972973, 0.975975975975976, 0.972972972972973, 0.975975975975976, 0.972972972972973, 0.975975975975976, 0.972972972972973, 0.972972972972973, 0.975975975975976, 0.972972972972973, 0.975975975975976, 0.972972972972973, 0.975975975975976]\n",
    "plt.plot(indexes, sklearn_acc, label = \"ssklearn_acc\")\n",
    "plt.plot(indexes, model_acc, label = \"model_acc\")\n",
    "plt.legend()\n",
    "plt.title('comparison')\n",
    "plt.xlabel('index')\n",
    "plt.show()"
   ]
  },
  {
   "cell_type": "code",
   "execution_count": 84,
   "metadata": {},
   "outputs": [
    {
     "name": "stdout",
     "output_type": "stream",
     "text": [
      "[0.7867867867867868, 0.7867867867867868, 0.963963963963964, 0.8138138138138138, 0.972972972972973, 0.9669669669669669, 0.972972972972973, 0.972972972972973, 0.972972972972973, 0.972972972972973, 0.972972972972973, 0.972972972972973, 0.972972972972973, 0.972972972972973, 0.972972972972973, 0.972972972972973, 0.972972972972973, 0.972972972972973, 0.975975975975976, 0.972972972972973, 0.975975975975976, 0.972972972972973, 0.975975975975976, 0.972972972972973, 0.972972972972973, 0.975975975975976, 0.972972972972973, 0.975975975975976, 0.972972972972973, 0.975975975975976]\n"
     ]
    }
   ],
   "source": [
    "saved_model_acc = [0.7867867867867868, 0.7867867867867868, 0.963963963963964, 0.8138138138138138, 0.972972972972973, 0.9669669669669669, 0.972972972972973, 0.972972972972973, 0.972972972972973, 0.972972972972973, 0.972972972972973, 0.972972972972973, 0.972972972972973, 0.972972972972973, 0.972972972972973, 0.972972972972973, 0.972972972972973, 0.972972972972973, 0.975975975975976, 0.972972972972973, 0.975975975975976, 0.972972972972973, 0.975975975975976, 0.972972972972973, 0.972972972972973, 0.975975975975976, 0.972972972972973, 0.975975975975976, 0.972972972972973, 0.975975975975976]"
   ]
  },
  {
   "cell_type": "markdown",
   "metadata": {},
   "source": [
    "# Exercise grading\n",
    "\n",
    "| Section | Exercise | Points |\n",
    "| --- | --- | --- |\n",
    "| I |\t1 | \t0.1 |\n",
    "| I |\t2 | \t0.1 |\n",
    "| I |\t3 | \t0.25 |\n",
    "| I |\t4 | \t0.25 |\n",
    "| I |\t5 | \t0.15 |\n",
    "| I |\t6 | \t0.65 |\n",
    "| I |\t7 | \t0.1 |\n",
    "| I |\t8 | \t0.25 |\n",
    "| I |\t9 | \t0.15 |\n",
    "| I |\t10 | \t0.1 |\n",
    "| I |\t11 | \t0.1 |\n",
    "| I |\t12 | \t0.1 |\n",
    "| I |\t13 | \t0.15 |\n",
    "| I |\t14 | \t0.65 |\n",
    "| I |\t15 | \t0.1 |\n",
    "| I |\t16 | \t0.2 |\n",
    "| I |\t17 | \t0.1 |\n",
    "|II | \t1 | \t0.2 |\n",
    "|II | \t2 | \t0.1 |\n",
    "|II | \t3 | \t0.15 |\n",
    "|II | \t4 | \t0.2 |\n",
    "|II | \t5 | \t0.72 |\n",
    "|II | \t6 | \t0.1 |\n",
    "|II | \t7 | \t0.28 |\n",
    "|II | \t8 | \t0.1 |\n",
    "|II | \t9 | \t0.15 |\n",
    "|III |  1 | 0.1 |\n",
    "|III |  2 | 0.2 |\n",
    "|III |  3 | 0.3 |\n",
    "|III |  4 | 0.15 |\n",
    "|III |  5 | 0.15 |\n",
    "|III |  6 | 0.3 |\n",
    "|III |  7 | 0.5 |\n",
    "|III |  8 | 0.4 |\n",
    "|III |  9 | 0.1 |\n",
    "|III |  10 | 0.5 |\n",
    "|III |  11 | 0.2 |\n",
    "|III |  12 | 1.1 |\n",
    "|III |  13 | 0.2 |\n",
    "|III |  14 | 0.1 |\n",
    "|III |  15 | 0.2 |\n"
   ]
  }
 ],
 "metadata": {
  "kernelspec": {
   "display_name": "Python 3.10.7 64-bit",
   "language": "python",
   "name": "python3"
  },
  "language_info": {
   "codemirror_mode": {
    "name": "ipython",
    "version": 3
   },
   "file_extension": ".py",
   "mimetype": "text/x-python",
   "name": "python",
   "nbconvert_exporter": "python",
   "pygments_lexer": "ipython3",
   "version": "3.10.7"
  },
  "orig_nbformat": 4,
  "vscode": {
   "interpreter": {
    "hash": "59c2697042bf23f669049604bc51c7fdaddd84c684e590656d4c80c751d79f30"
   }
  }
 },
 "nbformat": 4,
 "nbformat_minor": 2
}
